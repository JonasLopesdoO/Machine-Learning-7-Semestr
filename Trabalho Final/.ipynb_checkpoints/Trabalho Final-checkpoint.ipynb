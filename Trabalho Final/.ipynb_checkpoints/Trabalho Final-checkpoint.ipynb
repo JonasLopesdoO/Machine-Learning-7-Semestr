{
 "cells": [
  {
   "cell_type": "markdown",
   "metadata": {},
   "source": [
    "# Trabalho Final da disciplina de Machine Learning"
   ]
  },
  {
   "cell_type": "markdown",
   "metadata": {},
   "source": [
    "### Tipo de problema\n",
    "NER - Named Entity Recognition.\n",
    "\n",
    "Neste tipo de problema um modelo de predição para textos tentará predizer da melhor maneira possível quais são as entidades em um texto. Os problemas de NER surgem devido diversas maneiras de expressar uma determinada coisa e também onde uma coisa pode significar várias outras.\n",
    "A Língua Portuguesa por exemplo possui muitos tempos verbais e maneiras de conjugação de verbos.\n",
    "\n",
    "Ex: conjugar, conjugado, conjugaria, conjugarei, conjugaríamos, conjugaríeis, conjugaste, conjugou, conjuguemos...\n",
    "\n",
    "Tente explicar por exemplo para um extrangeiro a diferença entre \"bota a calça e calça a bota\"."
   ]
  },
  {
   "cell_type": "markdown",
   "metadata": {},
   "source": [
    "-"
   ]
  },
  {
   "cell_type": "markdown",
   "metadata": {},
   "source": [
    "### Problema\n",
    "O problema a ser resolvido com a resolução deste trabalho é utilizar um dataset com milhares de textos e palavras rotulados e a partir de um modelo de predições de texto, realizar o ranqueamento das melhores classificações de entidades.\n",
    "\n",
    "Nós nos focaremos em 4 tipos de named entities: persons, locations, organizations e nomes de demais entidades que não pertençam as anteriores."
   ]
  },
  {
   "cell_type": "markdown",
   "metadata": {},
   "source": [
    "-"
   ]
  },
  {
   "cell_type": "markdown",
   "metadata": {},
   "source": [
    "### Datasets\n",
    "Será utilizado um dataset amplamente difundido que foi utilizado primariamente na Conference on Computational Natural Language Learning (CoNLL-2003) acessível a partir do seguinte link: https://www.clips.uantwerpen.be/conll2003/ner/"
   ]
  },
  {
   "cell_type": "markdown",
   "metadata": {},
   "source": [
    "-"
   ]
  },
  {
   "cell_type": "markdown",
   "metadata": {},
   "source": [
    "### Divisão do dataset - rows\n",
    "Os arquivos de dados de tarefas compartilhadas CoNLL-2003 contêm quatro colunas separadas por um único espaço.\n",
    "\n",
    "- O primeiro item de cada linha no dataset é uma palavra.  \n",
    "- O segundo é um Part-of-Speech (POS) tag. \n",
    "- O terceiro é uma tag de fragmento sintático. \n",
    "- A quarta é a tag de entidade nomeada.\n",
    "\n",
    "As tags de fragmento e os nomes de entidades tem o formato I-TYPE que significa que a palavra está dentro de uma frase do tipo TYPE.\n",
    "\n",
    " Uma palavra com a tag O não é parte de uma frase."
   ]
  },
  {
   "cell_type": "markdown",
   "metadata": {},
   "source": [
    "-"
   ]
  },
  {
   "cell_type": "markdown",
   "metadata": {},
   "source": [
    "### Ferramenta\n",
    "Será utilizado o [Spacy](https://spacy.io/)\n",
    " que é uma ferramenta para o emprego de técnicas de Processamento de Linguagem Natural - PLN. Será utilizado voltado ao NER - Named Entity Recognition.\n",
    "\n",
    "O Spacy é uma ferramenta de código aberto muito poderosa que já possui diversos modelos prontos para uso para diversos idiomas.\n",
    "\n",
    "Será utilizado o modelo para classificação de textos em inglês.\n",
    "\n",
    "Algumas funções do spacy estão definidas mais abaixo no documento."
   ]
  },
  {
   "cell_type": "markdown",
   "metadata": {},
   "source": [
    "-"
   ]
  },
  {
   "cell_type": "code",
   "execution_count": null,
   "metadata": {},
   "outputs": [],
   "source": [
    "#U.N.         NNP  I-NP  I-ORG \n",
    "#official     NN   I-NP  O \n",
    "#Ekeus        NNP  I-NP  I-PER \n",
    "#heads        VBZ  I-VP  O \n",
    "#for          IN   I-PP  O \n",
    "#Baghdad      NNP  I-NP  I-LOC \n",
    "#.            .    O     O "
   ]
  },
  {
   "cell_type": "markdown",
   "metadata": {},
   "source": [
    "-"
   ]
  },
  {
   "cell_type": "markdown",
   "metadata": {},
   "source": [
    "### Divisão dos arquivos de dados\n",
    "A divisão dos arquivos do dataset se dão da seguinte forma:\n",
    "    - Consiste de 3 arquivos por linguagem\n",
    "    - Um arquivo de treino\n",
    "    - Dois arquivos de teste, testeA e testeB\n",
    "    - O primeiro arquivo de teste será usado em produção para encontrar os melhores parametros\n",
    "    - O segundo arquivo de teste será usado para a avaliação final\n",
    "    - Os dados estão disponíveis em dois datasets, um em Inglês e também em Alemão. Para o propósito deste trabalho será usado apenas a versão em inglês.\n",
    "   "
   ]
  },
  {
   "cell_type": "markdown",
   "metadata": {},
   "source": [
    "-"
   ]
  },
  {
   "cell_type": "markdown",
   "metadata": {},
   "source": [
    "### Arquivos\n",
    "- eng.raw.tar   - 13,930 MB - Conjunto de dados em inglês\n",
    "- ner.tgz       - 3,374  MB - Contém o software para fazer o build dos dados\n",
    "- 000README.txt - 8      KB - Instruções para descompactação\n",
    "\n",
    "Os dados em inglês são uma coleção de artigos de notícias do Reuters Corpus."
   ]
  },
  {
   "cell_type": "markdown",
   "metadata": {},
   "source": [
    "-"
   ]
  },
  {
   "cell_type": "markdown",
   "metadata": {},
   "source": [
    "### Métricas de Avaliação\n",
    "A competição utiliza três métricas principais que são:\n",
    "- Precision\n",
    "- Recall\n",
    "- F-Score\n",
    "\n",
    "Precision é a porcentagem de named entities encontradas pelo sistema de aprendizado que estão corretas.\n",
    "\n",
    "Recall é a porcentagem de named entities presentes no Corpus que são encontradas pelo sistema.\n",
    "\n",
    "Uma named entity só está correta se for uma correspondência exata da entidade correspondente no\n",
    "arquivo de dados."
   ]
  },
  {
   "cell_type": "markdown",
   "metadata": {},
   "source": [
    "-"
   ]
  },
  {
   "cell_type": "markdown",
   "metadata": {},
   "source": [
    "### Dados de treino: Exemplos e suas anotações.\n",
    "\n",
    "### Texto: O texto de entrada para o qual o modelo deve prever um rótulo.\n",
    "\n",
    "### Label: O label que o modelo deve predizer\n",
    "\n",
    "### Gradient: Gradient da função de perca calculando a diferença entre a entrada e a saída esperada"
   ]
  },
  {
   "cell_type": "code",
   "execution_count": 46,
   "metadata": {
    "scrolled": false
   },
   "outputs": [
    {
     "data": {
      "image/png": "[encoded data removed]",
      "text/plain": [
       "<IPython.core.display.Image object>"
      ]
     },
     "execution_count": 46,
     "metadata": {},
     "output_type": "execute_result"
    }
   ],
   "source": [
    "from IPython.display import Image\n",
    "Image(filename=\"training model.png\")"
   ]
  },
  {
   "cell_type": "markdown",
   "metadata": {},
   "source": [
    "-"
   ]
  },
  {
   "cell_type": "markdown",
   "metadata": {},
   "source": [
    "## Importando bibliotecas"
   ]
  },
  {
   "cell_type": "code",
   "execution_count": 107,
   "metadata": {},
   "outputs": [],
   "source": [
    "import spacy\n",
    "from spacy import displacy\n",
    "from spacy.tokens import Span, Doc\n",
    "from spacy.vocab import Vocab\n",
    "from spacy.pipeline import EntityRuler\n",
    "from spacy.lang.en import English\n",
    "\n",
    "from sklearn.metrics import classification_report\n",
    "\n",
    "import numpy as np \n",
    "import random"
   ]
  },
  {
   "cell_type": "code",
   "execution_count": 22,
   "metadata": {},
   "outputs": [],
   "source": [
    "nlp = spacy.load(\"en_core_web_sm\")"
   ]
  },
  {
   "cell_type": "code",
   "execution_count": 23,
   "metadata": {
    "scrolled": false
   },
   "outputs": [
    {
     "data": {
      "text/html": [
       "<div class=\"entities\" style=\"line-height: 2.5; direction: ltr\">\n",
       "<mark class=\"entity\" style=\"background: #7aecec; padding: 0.45em 0.6em; margin: 0 0.25em; line-height: 1; border-radius: 0.35em; box-decoration-break: clone; -webkit-box-decoration-break: clone\">\n",
       "    Apple\n",
       "    <span style=\"font-size: 0.8em; font-weight: bold; line-height: 1; border-radius: 0.35em; text-transform: uppercase; vertical-align: middle; margin-left: 0.5rem\">ORG</span>\n",
       "</mark>\n",
       " is looking at buying \n",
       "<mark class=\"entity\" style=\"background: #feca74; padding: 0.45em 0.6em; margin: 0 0.25em; line-height: 1; border-radius: 0.35em; box-decoration-break: clone; -webkit-box-decoration-break: clone\">\n",
       "    U.K.\n",
       "    <span style=\"font-size: 0.8em; font-weight: bold; line-height: 1; border-radius: 0.35em; text-transform: uppercase; vertical-align: middle; margin-left: 0.5rem\">GPE</span>\n",
       "</mark>\n",
       " startup for \n",
       "<mark class=\"entity\" style=\"background: #e4e7d2; padding: 0.45em 0.6em; margin: 0 0.25em; line-height: 1; border-radius: 0.35em; box-decoration-break: clone; -webkit-box-decoration-break: clone\">\n",
       "    $1 billion\n",
       "    <span style=\"font-size: 0.8em; font-weight: bold; line-height: 1; border-radius: 0.35em; text-transform: uppercase; vertical-align: middle; margin-left: 0.5rem\">MONEY</span>\n",
       "</mark>\n",
       "</div>"
      ],
      "text/plain": [
       "<IPython.core.display.HTML object>"
      ]
     },
     "metadata": {},
     "output_type": "display_data"
    }
   ],
   "source": [
    "doc = nlp(u\"Apple is looking at buying U.K. startup for $1 billion\")\n",
    "spacy.displacy.render(doc, style='ent', jupyter=True)"
   ]
  },
  {
   "cell_type": "code",
   "execution_count": 358,
   "metadata": {},
   "outputs": [
    {
     "data": {
      "image/png": "[encoded data removed]",
      "text/plain": [
       "<IPython.core.display.Image object>"
      ]
     },
     "execution_count": 358,
     "metadata": {},
     "output_type": "execute_result"
    }
   ],
   "source": [
    "Image(filename=\"entidades.png\")"
   ]
  },
  {
   "cell_type": "code",
   "execution_count": 24,
   "metadata": {},
   "outputs": [
    {
     "name": "stderr",
     "output_type": "stream",
     "text": [
      "C:\\Users\\Jonas Lopes\\Anaconda3\\lib\\runpy.py:193: UserWarning: [W011] It looks like you're calling displacy.serve from within a Jupyter notebook or a similar environment. This likely means you're already running a local web server, so there's no need to make displaCy start another one. Instead, you should be able to replace displacy.serve with displacy.render to show the visualization.\n",
      "  \"__main__\", mod_spec)\n"
     ]
    },
    {
     "data": {
      "text/html": [
       "<!DOCTYPE html>\n",
       "<html lang=\"en\">\n",
       "    <head>\n",
       "        <title>displaCy</title>\n",
       "    </head>\n",
       "\n",
       "    <body style=\"font-size: 16px; font-family: -apple-system, BlinkMacSystemFont, 'Segoe UI', Helvetica, Arial, sans-serif, 'Apple Color Emoji', 'Segoe UI Emoji', 'Segoe UI Symbol'; padding: 4rem 2rem; direction: ltr\">\n",
       "<figure style=\"margin-bottom: 6rem\">\n",
       "<svg xmlns=\"http://www.w3.org/2000/svg\" xmlns:xlink=\"http://www.w3.org/1999/xlink\" xml:lang=\"en\" id=\"577214f5f2b7446ba4faef2d08af4f77-0\" class=\"displacy\" width=\"750\" height=\"312.0\" direction=\"ltr\" style=\"max-width: none; height: 312.0px; color: #000000; background: #ffffff; font-family: Arial; direction: ltr\">\n",
       "<text class=\"displacy-token\" fill=\"currentColor\" text-anchor=\"middle\" y=\"222.0\">\n",
       "    <tspan class=\"displacy-word\" fill=\"currentColor\" x=\"50\">This</tspan>\n",
       "    <tspan class=\"displacy-tag\" dy=\"2em\" fill=\"currentColor\" x=\"50\">DET</tspan>\n",
       "</text>\n",
       "\n",
       "<text class=\"displacy-token\" fill=\"currentColor\" text-anchor=\"middle\" y=\"222.0\">\n",
       "    <tspan class=\"displacy-word\" fill=\"currentColor\" x=\"225\">is</tspan>\n",
       "    <tspan class=\"displacy-tag\" dy=\"2em\" fill=\"currentColor\" x=\"225\">VERB</tspan>\n",
       "</text>\n",
       "\n",
       "<text class=\"displacy-token\" fill=\"currentColor\" text-anchor=\"middle\" y=\"222.0\">\n",
       "    <tspan class=\"displacy-word\" fill=\"currentColor\" x=\"400\">a</tspan>\n",
       "    <tspan class=\"displacy-tag\" dy=\"2em\" fill=\"currentColor\" x=\"400\">DET</tspan>\n",
       "</text>\n",
       "\n",
       "<text class=\"displacy-token\" fill=\"currentColor\" text-anchor=\"middle\" y=\"222.0\">\n",
       "    <tspan class=\"displacy-word\" fill=\"currentColor\" x=\"575\">sentence.</tspan>\n",
       "    <tspan class=\"displacy-tag\" dy=\"2em\" fill=\"currentColor\" x=\"575\">NOUN</tspan>\n",
       "</text>\n",
       "\n",
       "<g class=\"displacy-arrow\">\n",
       "    <path class=\"displacy-arc\" id=\"arrow-577214f5f2b7446ba4faef2d08af4f77-0-0\" stroke-width=\"2px\" d=\"M70,177.0 C70,89.5 220.0,89.5 220.0,177.0\" fill=\"none\" stroke=\"currentColor\"/>\n",
       "    <text dy=\"1.25em\" style=\"font-size: 0.8em; letter-spacing: 1px\">\n",
       "        <textPath xlink:href=\"#arrow-577214f5f2b7446ba4faef2d08af4f77-0-0\" class=\"displacy-label\" startOffset=\"50%\" side=\"left\" fill=\"currentColor\" text-anchor=\"middle\">nsubj</textPath>\n",
       "    </text>\n",
       "    <path class=\"displacy-arrowhead\" d=\"M70,179.0 L62,167.0 78,167.0\" fill=\"currentColor\"/>\n",
       "</g>\n",
       "\n",
       "<g class=\"displacy-arrow\">\n",
       "    <path class=\"displacy-arc\" id=\"arrow-577214f5f2b7446ba4faef2d08af4f77-0-1\" stroke-width=\"2px\" d=\"M420,177.0 C420,89.5 570.0,89.5 570.0,177.0\" fill=\"none\" stroke=\"currentColor\"/>\n",
       "    <text dy=\"1.25em\" style=\"font-size: 0.8em; letter-spacing: 1px\">\n",
       "        <textPath xlink:href=\"#arrow-577214f5f2b7446ba4faef2d08af4f77-0-1\" class=\"displacy-label\" startOffset=\"50%\" side=\"left\" fill=\"currentColor\" text-anchor=\"middle\">det</textPath>\n",
       "    </text>\n",
       "    <path class=\"displacy-arrowhead\" d=\"M420,179.0 L412,167.0 428,167.0\" fill=\"currentColor\"/>\n",
       "</g>\n",
       "\n",
       "<g class=\"displacy-arrow\">\n",
       "    <path class=\"displacy-arc\" id=\"arrow-577214f5f2b7446ba4faef2d08af4f77-0-2\" stroke-width=\"2px\" d=\"M245,177.0 C245,2.0 575.0,2.0 575.0,177.0\" fill=\"none\" stroke=\"currentColor\"/>\n",
       "    <text dy=\"1.25em\" style=\"font-size: 0.8em; letter-spacing: 1px\">\n",
       "        <textPath xlink:href=\"#arrow-577214f5f2b7446ba4faef2d08af4f77-0-2\" class=\"displacy-label\" startOffset=\"50%\" side=\"left\" fill=\"currentColor\" text-anchor=\"middle\">attr</textPath>\n",
       "    </text>\n",
       "    <path class=\"displacy-arrowhead\" d=\"M575.0,179.0 L583.0,167.0 567.0,167.0\" fill=\"currentColor\"/>\n",
       "</g>\n",
       "</svg>\n",
       "</figure>\n",
       "</body>\n",
       "</html>"
      ],
      "text/plain": [
       "<IPython.core.display.HTML object>"
      ]
     },
     "metadata": {},
     "output_type": "display_data"
    },
    {
     "name": "stdout",
     "output_type": "stream",
     "text": [
      "\n",
      "Using the 'dep' visualizer\n",
      "Serving on http://0.0.0.0:5000 ...\n",
      "\n",
      "Shutting down server on port 5000.\n"
     ]
    }
   ],
   "source": [
    "doc_dep = nlp(u\"This is a sentence.\")\n",
    "displacy.serve(doc_dep, style=\"dep\")"
   ]
  },
  {
   "cell_type": "code",
   "execution_count": 359,
   "metadata": {},
   "outputs": [
    {
     "data": {
      "image/png": "[encoded data removed]",
      "text/plain": [
       "<IPython.core.display.Image object>"
      ]
     },
     "execution_count": 359,
     "metadata": {},
     "output_type": "execute_result"
    }
   ],
   "source": [
    "Image(filename=\"dependencia.png\")"
   ]
  },
  {
   "cell_type": "markdown",
   "metadata": {},
   "source": [
    "-"
   ]
  },
  {
   "cell_type": "markdown",
   "metadata": {},
   "source": [
    "## Treinando e atualizando modelos de rede neural"
   ]
  },
  {
   "cell_type": "code",
   "execution_count": null,
   "metadata": {},
   "outputs": [],
   "source": [
    "nlp = spacy.load(\"en_core_web_sm\")\n",
    "train_data = [(u\"Uber blew through $1 million\", {\"entities\": [(0, 4, \"ORG\")]})]\n",
    "\n",
    "other_pipes = [pipe for pipe in nlp.pipe_names if pipe != \"ner\"]\n",
    "\n",
    "with nlp.disable_pipes(*other_pipes):\n",
    "    optimizer = nlp.begin_training()\n",
    "    for i in range(10):\n",
    "        random.shuffle(train_data)\n",
    "        for text, annotations in train_data:\n",
    "            nlp.update([text], [annotations], sgd=optimizer)\n",
    "            \n",
    "# salvando o modelo no disco         \n",
    "nlp.to_disk(\"models/modelo.bin\")\n",
    "# trazendo o modelo de volta ao disco\n",
    "nlp = spacy.load(\"models/modelo.bin\")"
   ]
  },
  {
   "cell_type": "code",
   "execution_count": 10,
   "metadata": {},
   "outputs": [],
   "source": [
    "# utilizando o novo modelo\n",
    "eng_testa = open(\"dados/eng.testb.txt\").read()\n",
    "doc = nlp(eng_testa)"
   ]
  },
  {
   "cell_type": "markdown",
   "metadata": {},
   "source": [
    "-"
   ]
  },
  {
   "cell_type": "markdown",
   "metadata": {},
   "source": [
    "## Serialização simples e eficiente"
   ]
  },
  {
   "cell_type": "code",
   "execution_count": null,
   "metadata": {},
   "outputs": [],
   "source": [
    "from spacy.tokens import Doc\n",
    "from spacy.vocab import Vocab\n",
    "\n",
    "nlp = spacy.load(\"en_core_web_sm\")\n",
    "saida = open(\"dados/eng.testb.txt\").read()\n",
    "doc = nlp(saida)\n",
    "\n",
    "doc.to_disk(\"dados/saida.bin\")\n",
    "\n",
    "new_doc = Doc(Vocab()).from_disk(\"dados/saida.bin\")\n",
    "\n",
    "new_doc.ents"
   ]
  },
  {
   "cell_type": "code",
   "execution_count": null,
   "metadata": {},
   "outputs": [],
   "source": [
    "spacy.explain(\"dobj\")"
   ]
  },
  {
   "cell_type": "markdown",
   "metadata": {},
   "source": [
    "-"
   ]
  },
  {
   "cell_type": "markdown",
   "metadata": {},
   "source": [
    "## Matcher Pattern"
   ]
  },
  {
   "cell_type": "code",
   "execution_count": 12,
   "metadata": {
    "scrolled": true
   },
   "outputs": [
    {
     "name": "stdout",
     "output_type": "stream",
     "text": [
      "New York\n"
     ]
    }
   ],
   "source": [
    "# Matcher para palavras\n",
    "\n",
    "# Matcher is initialized with the shared vocab\n",
    "from spacy.matcher import Matcher\n",
    "\n",
    "# Each dict represents one token and its attributes\n",
    "matcher = Matcher(nlp.vocab)\n",
    "\n",
    "# Add with ID, optional callback and pattern(s)\n",
    "pattern = [{\"LOWER\": \"new\"}, {\"LOWER\": \"york\"}]\n",
    "matcher.add('CITIES', None, pattern)\n",
    "\n",
    "# Match by calling the matcher on a Doc object\n",
    "doc = nlp(\"I live in New York\")\n",
    "matches = matcher(doc)\n",
    "\n",
    "# Matches are (match_id, start, end) tuples\n",
    "for match_id, start, end in matches:\n",
    "     # Get the matched span by slicing the Doc\n",
    "    span = doc[start:end]\n",
    "    print(span.text)\n",
    "# 'New York'"
   ]
  },
  {
   "cell_type": "markdown",
   "metadata": {},
   "source": [
    "-"
   ]
  },
  {
   "cell_type": "markdown",
   "metadata": {},
   "source": [
    "## Utilizando Match Pattern para criar um modelo de NER com Spacy"
   ]
  },
  {
   "cell_type": "code",
   "execution_count": 385,
   "metadata": {},
   "outputs": [
    {
     "data": {
      "text/plain": [
       "818268"
      ]
     },
     "execution_count": 385,
     "metadata": {},
     "output_type": "execute_result"
    }
   ],
   "source": [
    "train = open(\"dados/eng.train.txt\").read()\n",
    "train = train.split()\n",
    "len(train)\n",
    "# O spacy só aceita por vez 100000 caracteres"
   ]
  },
  {
   "cell_type": "code",
   "execution_count": 386,
   "metadata": {
    "scrolled": false
   },
   "outputs": [],
   "source": [
    "#Tentativa com arquivo de treino\n",
    "nlp = English();\n",
    "ruler = EntityRuler(nlp)\n",
    "patterns = []\n",
    "i = 0\n",
    "\n",
    "while(i <= len(train)-4):\n",
    "    if train[i] == '-DOCSTART-':\n",
    "        i += 4\n",
    "    #print(\"Pattern\",train[i] + \" Label\",train[i+3])   \n",
    "    patterns += [{\"label\": train[i+3], \"pattern\" : train[i]}]\n",
    "\n",
    "    i += 4\n",
    "\n",
    "ruler.add_patterns(patterns)\n",
    "\n",
    "#adicionando o pipe ruler dentro do nlp\n",
    "nlp.add_pipe(ruler)"
   ]
  },
  {
   "cell_type": "code",
   "execution_count": 387,
   "metadata": {},
   "outputs": [],
   "source": [
    "# Enviando o ruler para o disco e salvando-o.\n",
    "ruler.to_disk(\"models/patterns.json\")\n",
    "nlp.to_disk(\"models/modelo.bin\")"
   ]
  },
  {
   "cell_type": "code",
   "execution_count": null,
   "metadata": {},
   "outputs": [],
   "source": []
  },
  {
   "cell_type": "code",
   "execution_count": null,
   "metadata": {},
   "outputs": [],
   "source": [
    "# Adicionando pipe com um modelo do zero\n",
    "nlp = English()\n",
    "\n",
    "ruler_disk = EntityRuler(nlp).from_disk(\"models/patterns.json\")\n",
    "\n",
    "nlp.add_pipe(ruler_disk)"
   ]
  },
  {
   "cell_type": "code",
   "execution_count": 2,
   "metadata": {},
   "outputs": [],
   "source": [
    "# carregando o modelo criado a partir do disco\n",
    "nlp = spacy.load(\"models/modelo.bin\")"
   ]
  },
  {
   "cell_type": "code",
   "execution_count": 3,
   "metadata": {},
   "outputs": [
    {
     "name": "stdout",
     "output_type": "stream",
     "text": [
      "[('blew', 'O'), ('through', 'O'), ('$', 'O'), ('1', 'I-MISC'), ('million', 'O')]\n"
     ]
    }
   ],
   "source": [
    "doc = nlp(u\"Uber blew through $1 million\")\n",
    "print([(ent.text, ent.label_) for ent in doc.ents])"
   ]
  },
  {
   "cell_type": "code",
   "execution_count": 4,
   "metadata": {},
   "outputs": [
    {
     "name": "stdout",
     "output_type": "stream",
     "text": [
      "[('Peter', 'I-PER'), ('is', 'I-MISC'), ('a', 'O'), ('good', 'O'), ('guy', 'O')]\n"
     ]
    }
   ],
   "source": [
    "doc = nlp(u\"Peter is a good guy\")\n",
    "print([(ent.text, ent.label_) for ent in doc.ents])"
   ]
  },
  {
   "cell_type": "markdown",
   "metadata": {},
   "source": [
    "# Avaliando com as métricas do CoNLL"
   ]
  },
  {
   "cell_type": "markdown",
   "metadata": {},
   "source": [
    "O CoNNL trabalha com o EM - Exact Match utilizando a precision e recall\n",
    " - Onde precision como mostrado no início , é a porcentagem de NEs encontradas pelo sistema que estão corretas\n",
    " - e o recall que é a porcentagem de NEs na solução que são encontradas pelo sistema.\n",
    " - Uma NE só está correta se é uma combinação exata da entidade na solução."
   ]
  },
  {
   "cell_type": "markdown",
   "metadata": {},
   "source": [
    "- ### Antes de mais nada, um exemplo para melhor entendimento"
   ]
  },
  {
   "cell_type": "markdown",
   "metadata": {},
   "source": [
    "Digamos que tenhamos as seguintes anotações de treino corretas\n",
    "\n",
    "Unlike <ENAMEX TYPE=\"PERSON\">Robert</ENAMEX>, <ENAMEX TYPE=\"PERSON\">John\n",
    "Briggs Jr</ENAMEX> contacted <ENAMEX TYPE=\"ORGANIZATION\">Wonderful\n",
    "Stockbrockers Inc</ENAMEX> in <ENAMEX TYPE=\"LOCATION\">New York</ENAMEX> and\n",
    "instructed them to sell all his shares in <ENAMEX\n",
    "TYPE=\"ORGANIZATION\">Acme</ENAMEX>. "
   ]
  },
  {
   "cell_type": "markdown",
   "metadata": {},
   "source": [
    "Vamos supor que um sistema produziu as seguintes saídas\n",
    "\n",
    "<ENAMEX TYPE=\"LOCATION\">Unlike</ENAMEX> Robert, <ENAMEX\n",
    "TYPE=\"ORGANIZATION\">John Briggs Jr</ENAMEX> contacted Wonderful <ENAMEX\n",
    "TYPE=\"ORGANIZATION\">Stockbrockers</ENAMEX> Inc <TIMEX TYPE=\"DATE\">in New\n",
    "York</TIMEX> and instructed them to sell all his shares in <ENAMEX\n",
    "TYPE=\"ORGANIZATION\">Acme</ENAMEX>. "
   ]
  },
  {
   "cell_type": "markdown",
   "metadata": {},
   "source": [
    "- ### O sistema gera os seguintes erros:"
   ]
  },
  {
   "cell_type": "code",
   "execution_count": 16,
   "metadata": {
    "scrolled": true
   },
   "outputs": [
    {
     "data": {
      "image/png": "[encoded data removed]",
      "text/plain": [
       "<IPython.core.display.Image object>"
      ]
     },
     "execution_count": 16,
     "metadata": {
      "image/png": {
       "height": 500,
       "width": 700
      }
     },
     "output_type": "execute_result"
    }
   ],
   "source": [
    "Image(filename=\"saidas eplicar.png\", width=700, height=500)"
   ]
  },
  {
   "cell_type": "markdown",
   "metadata": {},
   "source": [
    "Para o exemplo acima, existem 5 entidades verdadeiras, 5 palpites do sistema onde somente um desses palpites combina exatamente com a solução:  <Organization> Acme </Organization>\n",
    "A precision é então 20% (1/5)\n",
    "A recall é também 20% (1/5) "
   ]
  },
  {
   "cell_type": "raw",
   "metadata": {},
   "source": [
    "F-score\n",
    "\n",
    "F1 = 2 * (precision * recall) / (precision + recall)\n",
    "F1 = 2 * (20        *     20) / (20        +     20)\n",
    "F1 = 20"
   ]
  },
  {
   "cell_type": "code",
   "execution_count": null,
   "metadata": {},
   "outputs": [],
   "source": []
  },
  {
   "cell_type": "markdown",
   "metadata": {},
   "source": [
    "## Utilizando as métricas"
   ]
  },
  {
   "cell_type": "markdown",
   "metadata": {},
   "source": [
    "- Primeiro vamos definir o texto em uma string normal Python para entao manipularmos com o nosso modelo criado"
   ]
  },
  {
   "cell_type": "code",
   "execution_count": 362,
   "metadata": {
    "scrolled": true
   },
   "outputs": [],
   "source": [
    "testa =     u\"\"\"-DOCSTART- -X- O O\n",
    "                BASEBALL NNP I-NP O\n",
    "                - : O O\n",
    "                KEVIN NNP I-NP I-PER\n",
    "                BROWN NNP I-NP I-PER\n",
    "                LOWERS NNP I-NP O\n",
    "                ERA NNP I-NP I-MISC\n",
    "                AS NNP I-NP O\n",
    "                MARLINS NNP I-NP I-ORG\n",
    "                BEAT NN I-INTJ O\n",
    "                REDS NNS I-NP I-ORG\n",
    "                . . O O\n",
    "\n",
    "                CINCINNATI NNP I-NP I-LOC\n",
    "                1996-08-31 NNP I-NP O\n",
    "\n",
    "                Major JJ I-NP O\n",
    "                league NN I-NP O\n",
    "                ERA NNP I-NP I-MISC\n",
    "                leader NN I-NP O\n",
    "                Kevin NNP I-NP I-PER\n",
    "                Brown NNP I-NP I-PER\n",
    "                threw VBD I-VP O\n",
    "                an DT I-NP O\n",
    "                eight-hitter NN I-NP O\n",
    "                and CC O O\n",
    "                Devon NNP I-NP I-PER\n",
    "                White NNP I-NP I-PER\n",
    "                's POS B-NP O\n",
    "                RBI NNP I-NP I-MISC\n",
    "                double VB I-VP O\n",
    "                snapped VBN I-VP O\n",
    "                a DT I-NP O\n",
    "                fifth-inning NN I-NP O\n",
    "                tie NN I-NP O\n",
    "                as IN I-SBAR O\n",
    "                the DT I-NP O\n",
    "                Florida NNP I-NP I-ORG\n",
    "                Marlins NNP I-NP I-ORG\n",
    "                beat VBD I-VP O\n",
    "                the DT I-NP O\n",
    "                Cincinnati NNP I-NP I-ORG\n",
    "                Reds NNP I-NP I-ORG\n",
    "                3-1 CD I-NP O\n",
    "                for IN I-PP O\n",
    "                their PRP$ I-NP O\n",
    "                seventh JJ I-NP O\n",
    "                straight JJ I-NP O\n",
    "                win NN I-NP O\n",
    "                Friday NNP B-NP O\n",
    "                . . O O\n",
    "\n",
    "                Brown NNP I-NP I-PER\n",
    "                ( ( O O\n",
    "                14-10 CD I-NP O\n",
    "                ) ) O O\n",
    "                tied VBD I-VP O\n",
    "                Todd NNP I-NP I-PER\n",
    "                Stottlemyre NNP I-NP I-PER\n",
    "                of IN I-PP O\n",
    "                the DT I-NP O\n",
    "                Cardinals NNPS I-NP I-ORG\n",
    "                for IN I-PP O\n",
    "                the DT I-NP O\n",
    "                National NNP I-NP I-MISC\n",
    "                League NNP I-NP I-MISC\n",
    "                lead NN I-NP O\n",
    "                with IN I-PP O\n",
    "                his PRP$ I-NP O\n",
    "                fifth JJ I-NP O\n",
    "                complete JJ I-NP O\n",
    "                game NN I-NP O\n",
    "                and CC O O\n",
    "                lowered VBD I-VP O\n",
    "                his PRP$ I-NP O\n",
    "                major JJ I-NP O\n",
    "                league-leading JJ I-NP O\n",
    "                earned VBD I-VP O\n",
    "                run VBN I-VP O\n",
    "                average JJ I-NP O\n",
    "                from IN I-PP O\n",
    "                1.96 CD I-NP O\n",
    "                to TO I-PP O\n",
    "                1.92 CD I-NP O\n",
    "                . . O O\"\"\""
   ]
  },
  {
   "cell_type": "code",
   "execution_count": 361,
   "metadata": {},
   "outputs": [],
   "source": [
    "testa = open(\"dados/eng.testa.txt\").read()"
   ]
  },
  {
   "cell_type": "markdown",
   "metadata": {},
   "source": [
    "- Após isso utilizamos a função split para realizar a separação dos tokens, onde cada palavra será separada e adicionada a uma lista Python"
   ]
  },
  {
   "cell_type": "code",
   "execution_count": 363,
   "metadata": {
    "scrolled": true
   },
   "outputs": [
    {
     "data": {
      "text/plain": [
       "328"
      ]
     },
     "execution_count": 363,
     "metadata": {},
     "output_type": "execute_result"
    }
   ],
   "source": [
    "testa = testa.split()\n",
    "len(testa)"
   ]
  },
  {
   "cell_type": "markdown",
   "metadata": {},
   "source": [
    "- Feito isto poderemos utilizar um numpy array para facilitar a comparação a posteriori das entidades corretas do arquivo de teste, com as entidades preditas pelo nosso modelo\n",
    "- Para isso iremos ignorar as palavras marcadas como 'O', já que elas não sao entidades"
   ]
  },
  {
   "cell_type": "code",
   "execution_count": 364,
   "metadata": {},
   "outputs": [],
   "source": [
    "# Entidades corretas do dado de teste\n",
    "correct_ent = [['                                       ','                                       ']]\n",
    "correct_ent = np.array(correct_ent)\n",
    "correct_ent = np.delete(correct_ent, np.s_[:1], axis=0)\n",
    "\n",
    "i = 0\n",
    "\n",
    "while(i <= len(testa)-4):\n",
    "    if testa[i] == '-DOCSTART-':\n",
    "        i += 4\n",
    "        \n",
    "    if testa[i+3] != 'O':   \n",
    "        correct_ent = np.insert(correct_ent, len(correct_ent), [testa[i], testa[i+3]], axis=0)\n",
    "\n",
    "    i += 4"
   ]
  },
  {
   "cell_type": "markdown",
   "metadata": {},
   "source": [
    "- Temos agora um numpy array com as entidades corretas que serão utilizadas para comparação com as predições\n",
    "- Na célula abaixo iremos criar uma string pegando apenas a primeira posição de cada linha ou seja, a palavra. Colocando todas as palavras em uma string criaremos um \"documento\", assim chamado pelo spacy que será usado como entrada para o modelo"
   ]
  },
  {
   "cell_type": "code",
   "execution_count": 366,
   "metadata": {
    "scrolled": true
   },
   "outputs": [],
   "source": [
    "# Colocando o texto em uma String para poder usar nlp do spacy\n",
    "testa_doc = ''\n",
    "\n",
    "i = 0\n",
    "\n",
    "while(i <= len(testa)-4):\n",
    "    if testa[i] == '-DOCSTART-':\n",
    "        i += 4\n",
    "        \n",
    "    testa_doc += testa[i]\n",
    "    testa_doc += ' '\n",
    "        \n",
    "    i += 4"
   ]
  },
  {
   "cell_type": "code",
   "execution_count": 367,
   "metadata": {
    "scrolled": true
   },
   "outputs": [
    {
     "data": {
      "text/plain": [
       "\"BASEBALL - KEVIN BROWN LOWERS ERA AS MARLINS BEAT REDS . CINCINNATI 1996-08-31 Major league ERA leader Kevin Brown threw an eight-hitter and Devon White 's RBI double snapped a fifth-inning tie as the Florida Marlins beat the Cincinnati Reds 3-1 for their seventh straight win Friday . Brown ( 14-10 ) tied Todd Stottlemyre of the Cardinals for the National League lead with his fifth complete game and lowered his major league-leading earned run average from 1.96 to 1.92 . \""
      ]
     },
     "execution_count": 367,
     "metadata": {},
     "output_type": "execute_result"
    }
   ],
   "source": [
    "# 500 primeiros caracteres\n",
    "testa_doc[:500]"
   ]
  },
  {
   "cell_type": "code",
   "execution_count": 368,
   "metadata": {},
   "outputs": [
    {
     "data": {
      "text/plain": [
       "475"
      ]
     },
     "execution_count": 368,
     "metadata": {},
     "output_type": "execute_result"
    }
   ],
   "source": [
    "# tamanho da String\n",
    "len(testa_doc)"
   ]
  },
  {
   "cell_type": "markdown",
   "metadata": {},
   "source": [
    "- Chamamos então a função  nlp que é responsável por atribuir a um documento as palavras e suas entidades preditas pelo modelo"
   ]
  },
  {
   "cell_type": "code",
   "execution_count": 370,
   "metadata": {},
   "outputs": [],
   "source": [
    "doc = nlp(testa_doc)\n",
    "predicted_ent = [(ent.text, ent.label_) for ent in doc.ents]"
   ]
  },
  {
   "cell_type": "code",
   "execution_count": 371,
   "metadata": {
    "scrolled": false
   },
   "outputs": [
    {
     "data": {
      "text/plain": [
       "('BASEBALL', 'O')"
      ]
     },
     "execution_count": 371,
     "metadata": {},
     "output_type": "execute_result"
    }
   ],
   "source": [
    "doc.ents[0].text, doc.ents[0].label_"
   ]
  },
  {
   "cell_type": "markdown",
   "metadata": {},
   "source": [
    "- O modelo foi treinando utilizando as anotações 'O', como dito acima não precisaremos delas já que não são entidades.\n",
    "- Utilizaremos um laço para remover as palavras anotadas com 'O' e adicionaremos as restantes em um numpy array do mesmo tipo das entidades corretas"
   ]
  },
  {
   "cell_type": "code",
   "execution_count": 372,
   "metadata": {},
   "outputs": [],
   "source": [
    "# Transformando as entidades preditas no mesmo formato das entidades corretas\n",
    "predicted_ent = [['                                       ','                                       ']]\n",
    "predicted_ent = np.array(predicted_ent)\n",
    "predicted_ent = np.delete(predicted_ent, np.s_[:1], axis=0)\n",
    "\n",
    "i = 0\n",
    "\n",
    "while(i <= len(doc.ents)-1):\n",
    "        \n",
    "    if doc.ents[i].label_ != 'O':   \n",
    "        predicted_ent = np.insert(predicted_ent, len(predicted_ent), [doc.ents[i].text, doc.ents[i].label_], axis=0)\n",
    "    i += 1"
   ]
  },
  {
   "cell_type": "code",
   "execution_count": 373,
   "metadata": {
    "scrolled": false
   },
   "outputs": [
    {
     "data": {
      "text/plain": [
       "array([['KEVIN', 'I-PER'],\n",
       "       ['BROWN', 'I-PER'],\n",
       "       ['ERA', 'I-MISC'],\n",
       "       ['MARLINS', 'I-ORG'],\n",
       "       ['REDS', 'I-ORG'],\n",
       "       ['CINCINNATI', 'I-LOC'],\n",
       "       ['ERA', 'I-MISC'],\n",
       "       ['Kevin', 'I-PER'],\n",
       "       ['Brown', 'I-PER'],\n",
       "       ['Devon', 'I-PER'],\n",
       "       ['White', 'I-PER'],\n",
       "       ['RBI', 'I-MISC'],\n",
       "       ['Florida', 'I-ORG'],\n",
       "       ['Marlins', 'I-ORG'],\n",
       "       ['Cincinnati', 'I-ORG'],\n",
       "       ['Reds', 'I-ORG'],\n",
       "       ['Brown', 'I-PER'],\n",
       "       ['Todd', 'I-PER'],\n",
       "       ['Stottlemyre', 'I-PER'],\n",
       "       ['Cardinals', 'I-ORG']], dtype='<U39')"
      ]
     },
     "execution_count": 373,
     "metadata": {},
     "output_type": "execute_result"
    }
   ],
   "source": [
    "correct_ent[:20]"
   ]
  },
  {
   "cell_type": "code",
   "execution_count": 374,
   "metadata": {
    "scrolled": false
   },
   "outputs": [
    {
     "data": {
      "text/plain": [
       "array([['ERA', 'I-MISC'],\n",
       "       ['.', 'I-LOC'],\n",
       "       ['CINCINNATI', 'I-ORG'],\n",
       "       ['1996', 'I-MISC'],\n",
       "       ['31', 'I-LOC'],\n",
       "       ['Major', 'I-MISC'],\n",
       "       ['ERA', 'I-MISC'],\n",
       "       ['Kevin', 'I-PER'],\n",
       "       ['Brown', 'I-PER'],\n",
       "       ['and', 'I-LOC'],\n",
       "       ['Devon', 'I-PER'],\n",
       "       ['White', 'I-LOC'],\n",
       "       [\"'s\", 'I-LOC'],\n",
       "       ['RBI', 'I-MISC'],\n",
       "       ['the', 'I-LOC'],\n",
       "       ['Florida', 'I-LOC'],\n",
       "       ['Marlins', 'I-ORG'],\n",
       "       ['the', 'I-LOC'],\n",
       "       ['Cincinnati', 'I-ORG'],\n",
       "       ['Reds', 'I-ORG']], dtype='<U39')"
      ]
     },
     "execution_count": 374,
     "metadata": {},
     "output_type": "execute_result"
    }
   ],
   "source": [
    "predicted_ent[:20]"
   ]
  },
  {
   "cell_type": "code",
   "execution_count": 375,
   "metadata": {},
   "outputs": [],
   "source": [
    "compare = correct_ent[1] == predicted_ent[1]\n",
    "if compare[0] and compare[1]:\n",
    "    print(\"exact match!\")"
   ]
  },
  {
   "cell_type": "code",
   "execution_count": 376,
   "metadata": {},
   "outputs": [
    {
     "data": {
      "text/plain": [
       "array([False, False])"
      ]
     },
     "execution_count": 376,
     "metadata": {},
     "output_type": "execute_result"
    }
   ],
   "source": [
    "compare"
   ]
  },
  {
   "cell_type": "markdown",
   "metadata": {},
   "source": [
    "#### Agora iremos calcular a precision e a recall a partir das duas listas: correct_ent e predicted_ent"
   ]
  },
  {
   "cell_type": "code",
   "execution_count": 118,
   "metadata": {
    "scrolled": true
   },
   "outputs": [
    {
     "data": {
      "image/png": "[encoded data removed]",
      "text/plain": [
       "<IPython.core.display.Image object>"
      ]
     },
     "execution_count": 118,
     "metadata": {
      "image/png": {
       "height": 500,
       "width": 500
      }
     },
     "output_type": "execute_result"
    }
   ],
   "source": [
    "Image(filename=\"precision.png\", width=500, height=500)"
   ]
  },
  {
   "cell_type": "code",
   "execution_count": 380,
   "metadata": {},
   "outputs": [],
   "source": [
    "TP = 0\n",
    "FP = 0\n",
    "FN = 0\n",
    "\n",
    "for i in range(0, len(correct_ent)):\n",
    "    for j in range(0, len(predicted_ent)):\n",
    "        compare = correct_ent[i] == predicted_ent[j]\n",
    "        if compare[0] and compare[1]:\n",
    "            TP += 1\n",
    "        elif compare[0] == True and compare[1] == False:\n",
    "            FP += 1\n",
    "            \n",
    "FN = len(predicted_ent) - TP - FP"
   ]
  },
  {
   "cell_type": "code",
   "execution_count": 381,
   "metadata": {},
   "outputs": [
    {
     "name": "stdout",
     "output_type": "stream",
     "text": [
      "True Positives: 18\n",
      "False Positives: 4\n",
      "False Negatives: 14\n"
     ]
    }
   ],
   "source": [
    "print(\"True Positives:\",TP)\n",
    "print(\"False Positives:\",FP)\n",
    "print(\"False Negatives:\",FN)"
   ]
  },
  {
   "cell_type": "code",
   "execution_count": 382,
   "metadata": {},
   "outputs": [
    {
     "data": {
      "text/plain": [
       "0.8181818181818182"
      ]
     },
     "execution_count": 382,
     "metadata": {},
     "output_type": "execute_result"
    }
   ],
   "source": [
    "precision = 0\n",
    "precision = TP / (TP + FP)\n",
    "precision"
   ]
  },
  {
   "cell_type": "markdown",
   "metadata": {},
   "source": [
    "#### Cálculo do Recall"
   ]
  },
  {
   "cell_type": "code",
   "execution_count": 53,
   "metadata": {
    "scrolled": true
   },
   "outputs": [
    {
     "data": {
      "image/png": "[encoded data removed]",
      "text/plain": [
       "<IPython.core.display.Image object>"
      ]
     },
     "execution_count": 53,
     "metadata": {
      "image/png": {
       "height": 500,
       "width": 500
      }
     },
     "output_type": "execute_result"
    }
   ],
   "source": [
    "Image(filename=\"recall.png\", width=500, height=500)"
   ]
  },
  {
   "cell_type": "markdown",
   "metadata": {},
   "source": [
    "- Somente pare relembrar, o recall para o CoNNL é a porcentagem de entidades nomeadas - NE na solução, que foram encontradas pelo sistema"
   ]
  },
  {
   "cell_type": "code",
   "execution_count": 383,
   "metadata": {},
   "outputs": [
    {
     "data": {
      "text/plain": [
       "0.5625"
      ]
     },
     "execution_count": 383,
     "metadata": {},
     "output_type": "execute_result"
    }
   ],
   "source": [
    "recall = 0\n",
    "recall = TP / (TP + FN)\n",
    "recall"
   ]
  },
  {
   "cell_type": "markdown",
   "metadata": {},
   "source": [
    "#### Por fim calcularemos o F-measure amenizando as duas métricas calculadas"
   ]
  },
  {
   "cell_type": "code",
   "execution_count": 254,
   "metadata": {},
   "outputs": [
    {
     "data": {
      "image/png": "[encoded data removed]",
      "text/plain": [
       "<IPython.core.display.Image object>"
      ]
     },
     "execution_count": 254,
     "metadata": {
      "image/png": {
       "height": 400,
       "width": 400
      }
     },
     "output_type": "execute_result"
    }
   ],
   "source": [
    "Image(filename=\"fscore.png\", width=400, height=400)"
   ]
  },
  {
   "cell_type": "code",
   "execution_count": 384,
   "metadata": {
    "scrolled": true
   },
   "outputs": [
    {
     "data": {
      "text/plain": [
       "0.6666666666666666"
      ]
     },
     "execution_count": 384,
     "metadata": {},
     "output_type": "execute_result"
    }
   ],
   "source": [
    "F1_score = 2 * (precision * recall) / (precision + recall)\n",
    "F1_score"
   ]
  },
  {
   "cell_type": "markdown",
   "metadata": {},
   "source": [
    "# Com isso podemos perceber que o sistema está com resultados regulares, mas ainda é necessário reexecutá-lo utilizando todos os dados de teste, utilizando ferramentas que forneçam maior processamento e memória."
   ]
  },
  {
   "cell_type": "code",
   "execution_count": null,
   "metadata": {},
   "outputs": [],
   "source": []
  },
  {
   "cell_type": "markdown",
   "metadata": {},
   "source": [
    "-"
   ]
  }
 ],
 "metadata": {
  "kernelspec": {
   "display_name": "Python 3",
   "language": "python",
   "name": "python3"
  },
  "language_info": {
   "codemirror_mode": {
    "name": "ipython",
    "version": 3
   },
   "file_extension": ".py",
   "mimetype": "text/x-python",
   "name": "python",
   "nbconvert_exporter": "python",
   "pygments_lexer": "ipython3",
   "version": "3.7.1"
  }
 },
 "nbformat": 4,
 "nbformat_minor": 2
}
