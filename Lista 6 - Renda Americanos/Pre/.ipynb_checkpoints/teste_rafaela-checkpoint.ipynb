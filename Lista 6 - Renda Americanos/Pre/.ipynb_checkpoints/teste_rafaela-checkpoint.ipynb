{
 "cells": [
  {
   "cell_type": "code",
   "execution_count": 1,
   "metadata": {},
   "outputs": [
    {
     "ename": "ModuleNotFoundError",
     "evalue": "No module named 'resample'",
     "output_type": "error",
     "traceback": [
      "\u001b[1;31m---------------------------------------------------------------------------\u001b[0m",
      "\u001b[1;31mModuleNotFoundError\u001b[0m                       Traceback (most recent call last)",
      "\u001b[1;32m<ipython-input-1-160af712f82d>\u001b[0m in \u001b[0;36m<module>\u001b[1;34m\u001b[0m\n\u001b[0;32m      4\u001b[0m \u001b[1;33m\u001b[0m\u001b[0m\n\u001b[0;32m      5\u001b[0m \u001b[1;32mfrom\u001b[0m \u001b[0msklearn\u001b[0m\u001b[1;33m.\u001b[0m\u001b[0mlinear_model\u001b[0m \u001b[1;32mimport\u001b[0m \u001b[0mPerceptron\u001b[0m\u001b[1;33m\u001b[0m\u001b[1;33m\u001b[0m\u001b[0m\n\u001b[1;32m----> 6\u001b[1;33m \u001b[1;32mfrom\u001b[0m \u001b[0mlib_adult\u001b[0m \u001b[1;32mimport\u001b[0m \u001b[0mNormalize\u001b[0m\u001b[1;33m,\u001b[0m \u001b[0mStandardize\u001b[0m\u001b[1;33m,\u001b[0m \u001b[0msplit_stratified_train_test\u001b[0m\u001b[1;33m,\u001b[0m \u001b[0maccuracy\u001b[0m\u001b[1;33m\u001b[0m\u001b[1;33m\u001b[0m\u001b[0m\n\u001b[0m\u001b[0;32m      7\u001b[0m \u001b[1;33m\u001b[0m\u001b[0m\n\u001b[0;32m      8\u001b[0m \u001b[1;32mimport\u001b[0m \u001b[0mwarnings\u001b[0m\u001b[1;33m\u001b[0m\u001b[1;33m\u001b[0m\u001b[0m\n",
      "\u001b[1;32m~\\Documents\\2019.1\\ML\\Pre\\lib_adult\\__init__.py\u001b[0m in \u001b[0;36m<module>\u001b[1;34m\u001b[0m\n\u001b[0;32m      1\u001b[0m \u001b[1;32mfrom\u001b[0m \u001b[1;33m.\u001b[0m\u001b[0mtransform\u001b[0m \u001b[1;32mimport\u001b[0m \u001b[0mNormalize\u001b[0m\u001b[1;33m,\u001b[0m \u001b[0mStandardize\u001b[0m\u001b[1;33m\u001b[0m\u001b[1;33m\u001b[0m\u001b[0m\n\u001b[1;32m----> 2\u001b[1;33m \u001b[1;32mfrom\u001b[0m \u001b[0mresample\u001b[0m \u001b[1;32mimport\u001b[0m \u001b[0msplit_stratified_train_test\u001b[0m\u001b[1;33m\u001b[0m\u001b[1;33m\u001b[0m\u001b[0m\n\u001b[0m\u001b[0;32m      3\u001b[0m \u001b[1;32mfrom\u001b[0m \u001b[0mmetric\u001b[0m \u001b[1;32mimport\u001b[0m \u001b[0maccuracy\u001b[0m\u001b[1;33m\u001b[0m\u001b[1;33m\u001b[0m\u001b[0m\n",
      "\u001b[1;31mModuleNotFoundError\u001b[0m: No module named 'resample'"
     ]
    }
   ],
   "source": [
    "import pandas as pd\n",
    "import numpy as np\n",
    "\n",
    "\n",
    "from sklearn.linear_model import Perceptron\n",
    "from lib_adult import Normalize, Standardize, split_stratified_train_test, accuracy\n",
    "\n",
    "import warnings\n",
    "warnings.filterwarnings('ignore')  # \"error\", \"ignore\", \"always\", \"default\", \"module\" or \"once\""
   ]
  },
  {
   "cell_type": "code",
   "execution_count": null,
   "metadata": {},
   "outputs": [],
   "source": [
    "# CARREGAMENTO DOS DADOS\n",
    "\n",
    "#Definição das colunas de acordo com o DataSet:\n",
    "columns = ['Age','Workclass', 'Fnlwgt', 'Education', 'Education-num', 'Marital-status',\n",
    "           'Occupation','Relationship', 'Race', 'Sex', \n",
    "           'Capital-gain', 'Capital-loss', 'Hours-per-week','Native-country', 'Label']\n",
    "\n",
    "#Leitura do conjunto de dados\n",
    "original_data = pd.read_csv('https://archive.ics.uci.edu/ml/machine-learning-databases/adult/adult.data',names=columns)\n",
    "\n",
    "\n",
    "# PRÉ-PROCESSAMENTO DOS DADOS\n",
    "\n",
    "# Indentificação das colunas com dados categóricos\n",
    "cat_columns  = original_data.select_dtypes(['object']).columns\n",
    "\n",
    "# Tratamento de colunas com missing values. Substituição pela moda (apenas colunas categóricas)\n",
    "for column in columns:\n",
    "    if ' ?' in original_data[column].unique():\n",
    "        \n",
    "        original_data[column] = original_data[column].replace(' ?',original_data[column].mode()[0])\n",
    "\n",
    "# Transformar categóricos em one-hot encoding\n",
    "original_data = pd.get_dummies(original_data, columns=cat_columns, prefix=cat_columns, drop_first=True)\n",
    "original_data = original_data.rename(columns={'Label_ >50K':'Label'})"
   ]
  },
  {
   "cell_type": "code",
   "execution_count": null,
   "metadata": {},
   "outputs": [],
   "source": [
    "# EXPERIMENTO\n",
    "\n",
    "# Separar colunas de atributos e labels\n",
    "X = original_data.drop(['Label'], axis=1)\n",
    "y = original_data[['Label']]\n",
    "\n",
    "# Separar dados em treino / teste\n",
    "perc_train          = 0.7\n",
    "seed                = 42\n",
    "idx_train, idx_test = split_stratified_train_test(y, perc_train, 42)\n",
    "\n",
    "\n",
    "X_train = X.loc[idx_train]\n",
    "X_test = X.loc[idx_test]\n",
    "\n",
    "y_train = y.loc[idx_train]\n",
    "y_test = y.loc[idx_test]\n",
    "\n",
    "# Normalizar dados\n",
    "transformer = Normalize()\n",
    "transformer.fit(X_train)\n",
    "\n",
    "X_train_normalized = transformer.transform(X_train)\n",
    "X_test_normalized = transformer.transform(X_test)\n",
    "\n",
    "# Aplicar métodos de classificação\n",
    "\n",
    "# Perceptron\n",
    "clf = Perceptron()\n",
    "clf.fit(X_train_normalized, y_train)\n",
    "y_hat = clf.predict(X_test_normalized)\n",
    "\n",
    "acc_perceptron = accuracy(y_test, y_hat)\n",
    "acc_perceptron"
   ]
  },
  {
   "cell_type": "code",
   "execution_count": null,
   "metadata": {},
   "outputs": [],
   "source": []
  },
  {
   "cell_type": "code",
   "execution_count": null,
   "metadata": {},
   "outputs": [],
   "source": []
  },
  {
   "cell_type": "code",
   "execution_count": null,
   "metadata": {},
   "outputs": [],
   "source": []
  }
 ],
 "metadata": {
  "kernelspec": {
   "display_name": "Python 3",
   "language": "python",
   "name": "python3"
  },
  "language_info": {
   "codemirror_mode": {
    "name": "ipython",
    "version": 3
   },
   "file_extension": ".py",
   "mimetype": "text/x-python",
   "name": "python",
   "nbconvert_exporter": "python",
   "pygments_lexer": "ipython3",
   "version": "3.7.1"
  }
 },
 "nbformat": 4,
 "nbformat_minor": 2
}
