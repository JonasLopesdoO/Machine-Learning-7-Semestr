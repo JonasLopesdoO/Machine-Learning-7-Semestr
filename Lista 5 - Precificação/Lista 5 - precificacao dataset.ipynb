{
 "cells": [
  {
   "cell_type": "markdown",
   "metadata": {},
   "source": [
    "# Data Pricing - Lista 5"
   ]
  },
  {
   "cell_type": "code",
   "execution_count": 2,
   "metadata": {},
   "outputs": [],
   "source": [
    "#imports\n",
    "import numpy as np\n",
    "import pandas as pd\n",
    "import matplotlib.pyplot as plt\n",
    "from ml_libs import regressao_linear_GD as RLGD\n",
    "from ml_libs import metricas\n",
    "from ml_libs import standardization_normalization as std_norm\n",
    "from importlib import reload\n",
    "from sklearn import linear_model"
   ]
  },
  {
   "cell_type": "code",
   "execution_count": 3,
   "metadata": {},
   "outputs": [],
   "source": [
    "#this line serves to you dont have to reload every time you execute this code\n",
    "reload(RLGD)\n",
    "reload(metricas)\n",
    "reload(std_norm);"
   ]
  },
  {
   "cell_type": "markdown",
   "metadata": {},
   "source": [
    "## Setting columns of dataframe"
   ]
  },
  {
   "cell_type": "code",
   "execution_count": 4,
   "metadata": {},
   "outputs": [],
   "source": [
    "cols = ['CRIM', 'ZN', 'INDUS', 'CHAS', 'NOX', 'RM', 'AGE', 'DIS', 'RAD', 'TAX', 'PTRATIO', 'B', 'LSTAT', 'MEDV']\n",
    "#df = pd.read_csv('housing.csv', names=cols)\n",
    "df = pd.read_csv('housing.csv', delim_whitespace=True, names=cols)"
   ]
  },
  {
   "cell_type": "code",
   "execution_count": 5,
   "metadata": {
    "scrolled": false
   },
   "outputs": [
    {
     "data": {
      "text/html": [
       "<div>\n",
       "<style scoped>\n",
       "    .dataframe tbody tr th:only-of-type {\n",
       "        vertical-align: middle;\n",
       "    }\n",
       "\n",
       "    .dataframe tbody tr th {\n",
       "        vertical-align: top;\n",
       "    }\n",
       "\n",
       "    .dataframe thead th {\n",
       "        text-align: right;\n",
       "    }\n",
       "</style>\n",
       "<table border=\"1\" class=\"dataframe\">\n",
       "  <thead>\n",
       "    <tr style=\"text-align: right;\">\n",
       "      <th></th>\n",
       "      <th>CRIM</th>\n",
       "      <th>ZN</th>\n",
       "      <th>INDUS</th>\n",
       "      <th>CHAS</th>\n",
       "      <th>NOX</th>\n",
       "      <th>RM</th>\n",
       "      <th>AGE</th>\n",
       "      <th>DIS</th>\n",
       "      <th>RAD</th>\n",
       "      <th>TAX</th>\n",
       "      <th>PTRATIO</th>\n",
       "      <th>B</th>\n",
       "      <th>LSTAT</th>\n",
       "      <th>MEDV</th>\n",
       "    </tr>\n",
       "  </thead>\n",
       "  <tbody>\n",
       "    <tr>\n",
       "      <th>0</th>\n",
       "      <td>0.00632</td>\n",
       "      <td>18.0</td>\n",
       "      <td>2.31</td>\n",
       "      <td>0</td>\n",
       "      <td>0.538</td>\n",
       "      <td>6.575</td>\n",
       "      <td>65.2</td>\n",
       "      <td>4.0900</td>\n",
       "      <td>1</td>\n",
       "      <td>296.0</td>\n",
       "      <td>15.3</td>\n",
       "      <td>396.90</td>\n",
       "      <td>4.98</td>\n",
       "      <td>24.0</td>\n",
       "    </tr>\n",
       "    <tr>\n",
       "      <th>1</th>\n",
       "      <td>0.02731</td>\n",
       "      <td>0.0</td>\n",
       "      <td>7.07</td>\n",
       "      <td>0</td>\n",
       "      <td>0.469</td>\n",
       "      <td>6.421</td>\n",
       "      <td>78.9</td>\n",
       "      <td>4.9671</td>\n",
       "      <td>2</td>\n",
       "      <td>242.0</td>\n",
       "      <td>17.8</td>\n",
       "      <td>396.90</td>\n",
       "      <td>9.14</td>\n",
       "      <td>21.6</td>\n",
       "    </tr>\n",
       "    <tr>\n",
       "      <th>2</th>\n",
       "      <td>0.02729</td>\n",
       "      <td>0.0</td>\n",
       "      <td>7.07</td>\n",
       "      <td>0</td>\n",
       "      <td>0.469</td>\n",
       "      <td>7.185</td>\n",
       "      <td>61.1</td>\n",
       "      <td>4.9671</td>\n",
       "      <td>2</td>\n",
       "      <td>242.0</td>\n",
       "      <td>17.8</td>\n",
       "      <td>392.83</td>\n",
       "      <td>4.03</td>\n",
       "      <td>34.7</td>\n",
       "    </tr>\n",
       "    <tr>\n",
       "      <th>3</th>\n",
       "      <td>0.03237</td>\n",
       "      <td>0.0</td>\n",
       "      <td>2.18</td>\n",
       "      <td>0</td>\n",
       "      <td>0.458</td>\n",
       "      <td>6.998</td>\n",
       "      <td>45.8</td>\n",
       "      <td>6.0622</td>\n",
       "      <td>3</td>\n",
       "      <td>222.0</td>\n",
       "      <td>18.7</td>\n",
       "      <td>394.63</td>\n",
       "      <td>2.94</td>\n",
       "      <td>33.4</td>\n",
       "    </tr>\n",
       "    <tr>\n",
       "      <th>4</th>\n",
       "      <td>0.06905</td>\n",
       "      <td>0.0</td>\n",
       "      <td>2.18</td>\n",
       "      <td>0</td>\n",
       "      <td>0.458</td>\n",
       "      <td>7.147</td>\n",
       "      <td>54.2</td>\n",
       "      <td>6.0622</td>\n",
       "      <td>3</td>\n",
       "      <td>222.0</td>\n",
       "      <td>18.7</td>\n",
       "      <td>396.90</td>\n",
       "      <td>5.33</td>\n",
       "      <td>36.2</td>\n",
       "    </tr>\n",
       "  </tbody>\n",
       "</table>\n",
       "</div>"
      ],
      "text/plain": [
       "      CRIM    ZN  INDUS  CHAS    NOX     RM   AGE     DIS  RAD    TAX  \\\n",
       "0  0.00632  18.0   2.31     0  0.538  6.575  65.2  4.0900    1  296.0   \n",
       "1  0.02731   0.0   7.07     0  0.469  6.421  78.9  4.9671    2  242.0   \n",
       "2  0.02729   0.0   7.07     0  0.469  7.185  61.1  4.9671    2  242.0   \n",
       "3  0.03237   0.0   2.18     0  0.458  6.998  45.8  6.0622    3  222.0   \n",
       "4  0.06905   0.0   2.18     0  0.458  7.147  54.2  6.0622    3  222.0   \n",
       "\n",
       "   PTRATIO       B  LSTAT  MEDV  \n",
       "0     15.3  396.90   4.98  24.0  \n",
       "1     17.8  396.90   9.14  21.6  \n",
       "2     17.8  392.83   4.03  34.7  \n",
       "3     18.7  394.63   2.94  33.4  \n",
       "4     18.7  396.90   5.33  36.2  "
      ]
     },
     "execution_count": 5,
     "metadata": {},
     "output_type": "execute_result"
    }
   ],
   "source": [
    "df.head()"
   ]
  },
  {
   "cell_type": "code",
   "execution_count": 6,
   "metadata": {},
   "outputs": [
    {
     "data": {
      "text/plain": [
       "(506, 14)"
      ]
     },
     "execution_count": 6,
     "metadata": {},
     "output_type": "execute_result"
    }
   ],
   "source": [
    "df.shape"
   ]
  },
  {
   "cell_type": "code",
   "execution_count": 7,
   "metadata": {
    "scrolled": true
   },
   "outputs": [
    {
     "name": "stdout",
     "output_type": "stream",
     "text": [
      "<class 'pandas.core.frame.DataFrame'>\n",
      "RangeIndex: 506 entries, 0 to 505\n",
      "Data columns (total 14 columns):\n",
      "CRIM       506 non-null float64\n",
      "ZN         506 non-null float64\n",
      "INDUS      506 non-null float64\n",
      "CHAS       506 non-null int64\n",
      "NOX        506 non-null float64\n",
      "RM         506 non-null float64\n",
      "AGE        506 non-null float64\n",
      "DIS        506 non-null float64\n",
      "RAD        506 non-null int64\n",
      "TAX        506 non-null float64\n",
      "PTRATIO    506 non-null float64\n",
      "B          506 non-null float64\n",
      "LSTAT      506 non-null float64\n",
      "MEDV       506 non-null float64\n",
      "dtypes: float64(12), int64(2)\n",
      "memory usage: 55.4 KB\n"
     ]
    }
   ],
   "source": [
    "df.info()"
   ]
  },
  {
   "cell_type": "code",
   "execution_count": 8,
   "metadata": {
    "scrolled": true
   },
   "outputs": [
    {
     "data": {
      "text/html": [
       "<div>\n",
       "<style scoped>\n",
       "    .dataframe tbody tr th:only-of-type {\n",
       "        vertical-align: middle;\n",
       "    }\n",
       "\n",
       "    .dataframe tbody tr th {\n",
       "        vertical-align: top;\n",
       "    }\n",
       "\n",
       "    .dataframe thead th {\n",
       "        text-align: right;\n",
       "    }\n",
       "</style>\n",
       "<table border=\"1\" class=\"dataframe\">\n",
       "  <thead>\n",
       "    <tr style=\"text-align: right;\">\n",
       "      <th></th>\n",
       "      <th>CRIM</th>\n",
       "      <th>ZN</th>\n",
       "      <th>INDUS</th>\n",
       "      <th>CHAS</th>\n",
       "      <th>NOX</th>\n",
       "      <th>RM</th>\n",
       "      <th>AGE</th>\n",
       "      <th>DIS</th>\n",
       "      <th>RAD</th>\n",
       "      <th>TAX</th>\n",
       "      <th>PTRATIO</th>\n",
       "      <th>B</th>\n",
       "      <th>LSTAT</th>\n",
       "      <th>MEDV</th>\n",
       "    </tr>\n",
       "  </thead>\n",
       "  <tbody>\n",
       "    <tr>\n",
       "      <th>count</th>\n",
       "      <td>506.0000</td>\n",
       "      <td>506.0000</td>\n",
       "      <td>506.0000</td>\n",
       "      <td>506.0000</td>\n",
       "      <td>506.0000</td>\n",
       "      <td>506.0000</td>\n",
       "      <td>506.0000</td>\n",
       "      <td>506.0000</td>\n",
       "      <td>506.0000</td>\n",
       "      <td>506.0000</td>\n",
       "      <td>506.0000</td>\n",
       "      <td>506.0000</td>\n",
       "      <td>506.0000</td>\n",
       "      <td>506.0000</td>\n",
       "    </tr>\n",
       "    <tr>\n",
       "      <th>mean</th>\n",
       "      <td>3.6135</td>\n",
       "      <td>11.3636</td>\n",
       "      <td>11.1368</td>\n",
       "      <td>0.0692</td>\n",
       "      <td>0.5547</td>\n",
       "      <td>6.2846</td>\n",
       "      <td>68.5749</td>\n",
       "      <td>3.7950</td>\n",
       "      <td>9.5494</td>\n",
       "      <td>408.2372</td>\n",
       "      <td>18.4555</td>\n",
       "      <td>356.6740</td>\n",
       "      <td>12.6531</td>\n",
       "      <td>22.5328</td>\n",
       "    </tr>\n",
       "    <tr>\n",
       "      <th>std</th>\n",
       "      <td>8.6015</td>\n",
       "      <td>23.3225</td>\n",
       "      <td>6.8604</td>\n",
       "      <td>0.2540</td>\n",
       "      <td>0.1159</td>\n",
       "      <td>0.7026</td>\n",
       "      <td>28.1489</td>\n",
       "      <td>2.1057</td>\n",
       "      <td>8.7073</td>\n",
       "      <td>168.5371</td>\n",
       "      <td>2.1649</td>\n",
       "      <td>91.2949</td>\n",
       "      <td>7.1411</td>\n",
       "      <td>9.1971</td>\n",
       "    </tr>\n",
       "    <tr>\n",
       "      <th>min</th>\n",
       "      <td>0.0063</td>\n",
       "      <td>0.0000</td>\n",
       "      <td>0.4600</td>\n",
       "      <td>0.0000</td>\n",
       "      <td>0.3850</td>\n",
       "      <td>3.5610</td>\n",
       "      <td>2.9000</td>\n",
       "      <td>1.1296</td>\n",
       "      <td>1.0000</td>\n",
       "      <td>187.0000</td>\n",
       "      <td>12.6000</td>\n",
       "      <td>0.3200</td>\n",
       "      <td>1.7300</td>\n",
       "      <td>5.0000</td>\n",
       "    </tr>\n",
       "    <tr>\n",
       "      <th>25%</th>\n",
       "      <td>0.0820</td>\n",
       "      <td>0.0000</td>\n",
       "      <td>5.1900</td>\n",
       "      <td>0.0000</td>\n",
       "      <td>0.4490</td>\n",
       "      <td>5.8855</td>\n",
       "      <td>45.0250</td>\n",
       "      <td>2.1002</td>\n",
       "      <td>4.0000</td>\n",
       "      <td>279.0000</td>\n",
       "      <td>17.4000</td>\n",
       "      <td>375.3775</td>\n",
       "      <td>6.9500</td>\n",
       "      <td>17.0250</td>\n",
       "    </tr>\n",
       "    <tr>\n",
       "      <th>50%</th>\n",
       "      <td>0.2565</td>\n",
       "      <td>0.0000</td>\n",
       "      <td>9.6900</td>\n",
       "      <td>0.0000</td>\n",
       "      <td>0.5380</td>\n",
       "      <td>6.2085</td>\n",
       "      <td>77.5000</td>\n",
       "      <td>3.2074</td>\n",
       "      <td>5.0000</td>\n",
       "      <td>330.0000</td>\n",
       "      <td>19.0500</td>\n",
       "      <td>391.4400</td>\n",
       "      <td>11.3600</td>\n",
       "      <td>21.2000</td>\n",
       "    </tr>\n",
       "    <tr>\n",
       "      <th>75%</th>\n",
       "      <td>3.6771</td>\n",
       "      <td>12.5000</td>\n",
       "      <td>18.1000</td>\n",
       "      <td>0.0000</td>\n",
       "      <td>0.6240</td>\n",
       "      <td>6.6235</td>\n",
       "      <td>94.0750</td>\n",
       "      <td>5.1884</td>\n",
       "      <td>24.0000</td>\n",
       "      <td>666.0000</td>\n",
       "      <td>20.2000</td>\n",
       "      <td>396.2250</td>\n",
       "      <td>16.9550</td>\n",
       "      <td>25.0000</td>\n",
       "    </tr>\n",
       "    <tr>\n",
       "      <th>max</th>\n",
       "      <td>88.9762</td>\n",
       "      <td>100.0000</td>\n",
       "      <td>27.7400</td>\n",
       "      <td>1.0000</td>\n",
       "      <td>0.8710</td>\n",
       "      <td>8.7800</td>\n",
       "      <td>100.0000</td>\n",
       "      <td>12.1265</td>\n",
       "      <td>24.0000</td>\n",
       "      <td>711.0000</td>\n",
       "      <td>22.0000</td>\n",
       "      <td>396.9000</td>\n",
       "      <td>37.9700</td>\n",
       "      <td>50.0000</td>\n",
       "    </tr>\n",
       "  </tbody>\n",
       "</table>\n",
       "</div>"
      ],
      "text/plain": [
       "           CRIM        ZN     INDUS      CHAS       NOX        RM       AGE  \\\n",
       "count  506.0000  506.0000  506.0000  506.0000  506.0000  506.0000  506.0000   \n",
       "mean     3.6135   11.3636   11.1368    0.0692    0.5547    6.2846   68.5749   \n",
       "std      8.6015   23.3225    6.8604    0.2540    0.1159    0.7026   28.1489   \n",
       "min      0.0063    0.0000    0.4600    0.0000    0.3850    3.5610    2.9000   \n",
       "25%      0.0820    0.0000    5.1900    0.0000    0.4490    5.8855   45.0250   \n",
       "50%      0.2565    0.0000    9.6900    0.0000    0.5380    6.2085   77.5000   \n",
       "75%      3.6771   12.5000   18.1000    0.0000    0.6240    6.6235   94.0750   \n",
       "max     88.9762  100.0000   27.7400    1.0000    0.8710    8.7800  100.0000   \n",
       "\n",
       "            DIS       RAD       TAX   PTRATIO         B     LSTAT      MEDV  \n",
       "count  506.0000  506.0000  506.0000  506.0000  506.0000  506.0000  506.0000  \n",
       "mean     3.7950    9.5494  408.2372   18.4555  356.6740   12.6531   22.5328  \n",
       "std      2.1057    8.7073  168.5371    2.1649   91.2949    7.1411    9.1971  \n",
       "min      1.1296    1.0000  187.0000   12.6000    0.3200    1.7300    5.0000  \n",
       "25%      2.1002    4.0000  279.0000   17.4000  375.3775    6.9500   17.0250  \n",
       "50%      3.2074    5.0000  330.0000   19.0500  391.4400   11.3600   21.2000  \n",
       "75%      5.1884   24.0000  666.0000   20.2000  396.2250   16.9550   25.0000  \n",
       "max     12.1265   24.0000  711.0000   22.0000  396.9000   37.9700   50.0000  "
      ]
     },
     "execution_count": 8,
     "metadata": {},
     "output_type": "execute_result"
    }
   ],
   "source": [
    "# Setting precision for 4 decimal places\n",
    "pd.set_option('precision',4)\n",
    "df.describe()"
   ]
  },
  {
   "cell_type": "markdown",
   "metadata": {},
   "source": [
    "## Histogram of dataframe"
   ]
  },
  {
   "cell_type": "code",
   "execution_count": 9,
   "metadata": {
    "scrolled": false
   },
   "outputs": [
    {
     "data": {
      "image/png": "[encoded data removed]",
      "text/plain": [
       "<Figure size 720x720 with 16 Axes>"
      ]
     },
     "metadata": {
      "needs_background": "light"
     },
     "output_type": "display_data"
    }
   ],
   "source": [
    "# Data visualizations\n",
    "\n",
    "# histograms\n",
    "df.hist(figsize=(10,10))\n",
    "plt.show()"
   ]
  },
  {
   "cell_type": "markdown",
   "metadata": {},
   "source": [
    "## Correlation analisis"
   ]
  },
  {
   "cell_type": "code",
   "execution_count": 10,
   "metadata": {
    "scrolled": true
   },
   "outputs": [
    {
     "data": {
      "text/html": [
       "<style  type=\"text/css\" >\n",
       "    #T_355ca34c_5f28_11e9_96fa_988389d0865erow0_col0 {\n",
       "            background-color:  #006837;\n",
       "        }    #T_355ca34c_5f28_11e9_96fa_988389d0865erow0_col1 {\n",
       "            background-color:  #f7844e;\n",
       "        }    #T_355ca34c_5f28_11e9_96fa_988389d0865erow0_col2 {\n",
       "            background-color:  #bde379;\n",
       "        }    #T_355ca34c_5f28_11e9_96fa_988389d0865erow0_col3 {\n",
       "            background-color:  #c01a27;\n",
       "        }    #T_355ca34c_5f28_11e9_96fa_988389d0865erow0_col4 {\n",
       "            background-color:  #b3df72;\n",
       "        }    #T_355ca34c_5f28_11e9_96fa_988389d0865erow0_col5 {\n",
       "            background-color:  #f88950;\n",
       "        }    #T_355ca34c_5f28_11e9_96fa_988389d0865erow0_col6 {\n",
       "            background-color:  #c9e881;\n",
       "        }    #T_355ca34c_5f28_11e9_96fa_988389d0865erow0_col7 {\n",
       "            background-color:  #f67a49;\n",
       "        }    #T_355ca34c_5f28_11e9_96fa_988389d0865erow0_col8 {\n",
       "            background-color:  #87cb67;\n",
       "        }    #T_355ca34c_5f28_11e9_96fa_988389d0865erow0_col9 {\n",
       "            background-color:  #93d168;\n",
       "        }    #T_355ca34c_5f28_11e9_96fa_988389d0865erow0_col10 {\n",
       "            background-color:  #f4fab0;\n",
       "        }    #T_355ca34c_5f28_11e9_96fa_988389d0865erow0_col11 {\n",
       "            background-color:  #b91326;\n",
       "        }    #T_355ca34c_5f28_11e9_96fa_988389d0865erow0_col12 {\n",
       "            background-color:  #addc6f;\n",
       "        }    #T_355ca34c_5f28_11e9_96fa_988389d0865erow0_col13 {\n",
       "            background-color:  #f46d43;\n",
       "        }    #T_355ca34c_5f28_11e9_96fa_988389d0865erow1_col0 {\n",
       "            background-color:  #e14430;\n",
       "        }    #T_355ca34c_5f28_11e9_96fa_988389d0865erow1_col1 {\n",
       "            background-color:  #006837;\n",
       "        }    #T_355ca34c_5f28_11e9_96fa_988389d0865erow1_col2 {\n",
       "            background-color:  #d83128;\n",
       "        }    #T_355ca34c_5f28_11e9_96fa_988389d0865erow1_col3 {\n",
       "            background-color:  #c62027;\n",
       "        }    #T_355ca34c_5f28_11e9_96fa_988389d0865erow1_col4 {\n",
       "            background-color:  #e34933;\n",
       "        }    #T_355ca34c_5f28_11e9_96fa_988389d0865erow1_col5 {\n",
       "            background-color:  #e3f399;\n",
       "        }    #T_355ca34c_5f28_11e9_96fa_988389d0865erow1_col6 {\n",
       "            background-color:  #d83128;\n",
       "        }    #T_355ca34c_5f28_11e9_96fa_988389d0865erow1_col7 {\n",
       "            background-color:  #5db961;\n",
       "        }    #T_355ca34c_5f28_11e9_96fa_988389d0865erow1_col8 {\n",
       "            background-color:  #dd3d2d;\n",
       "        }    #T_355ca34c_5f28_11e9_96fa_988389d0865erow1_col9 {\n",
       "            background-color:  #e34933;\n",
       "        }    #T_355ca34c_5f28_11e9_96fa_988389d0865erow1_col10 {\n",
       "            background-color:  #ca2427;\n",
       "        }    #T_355ca34c_5f28_11e9_96fa_988389d0865erow1_col11 {\n",
       "            background-color:  #fee999;\n",
       "        }    #T_355ca34c_5f28_11e9_96fa_988389d0865erow1_col12 {\n",
       "            background-color:  #ef633f;\n",
       "        }    #T_355ca34c_5f28_11e9_96fa_988389d0865erow1_col13 {\n",
       "            background-color:  #c9e881;\n",
       "        }    #T_355ca34c_5f28_11e9_96fa_988389d0865erow2_col0 {\n",
       "            background-color:  #e3f399;\n",
       "        }    #T_355ca34c_5f28_11e9_96fa_988389d0865erow2_col1 {\n",
       "            background-color:  #af0926;\n",
       "        }    #T_355ca34c_5f28_11e9_96fa_988389d0865erow2_col2 {\n",
       "            background-color:  #006837;\n",
       "        }    #T_355ca34c_5f28_11e9_96fa_988389d0865erow2_col3 {\n",
       "            background-color:  #ea5739;\n",
       "        }    #T_355ca34c_5f28_11e9_96fa_988389d0865erow2_col4 {\n",
       "            background-color:  #33a456;\n",
       "        }    #T_355ca34c_5f28_11e9_96fa_988389d0865erow2_col5 {\n",
       "            background-color:  #e24731;\n",
       "        }    #T_355ca34c_5f28_11e9_96fa_988389d0865erow2_col6 {\n",
       "            background-color:  #69be63;\n",
       "        }    #T_355ca34c_5f28_11e9_96fa_988389d0865erow2_col7 {\n",
       "            background-color:  #b50f26;\n",
       "        }    #T_355ca34c_5f28_11e9_96fa_988389d0865erow2_col8 {\n",
       "            background-color:  #93d168;\n",
       "        }    #T_355ca34c_5f28_11e9_96fa_988389d0865erow2_col9 {\n",
       "            background-color:  #57b65f;\n",
       "        }    #T_355ca34c_5f28_11e9_96fa_988389d0865erow2_col10 {\n",
       "            background-color:  #dcf08f;\n",
       "        }    #T_355ca34c_5f28_11e9_96fa_988389d0865erow2_col11 {\n",
       "            background-color:  #c21c27;\n",
       "        }    #T_355ca34c_5f28_11e9_96fa_988389d0865erow2_col12 {\n",
       "            background-color:  #78c565;\n",
       "        }    #T_355ca34c_5f28_11e9_96fa_988389d0865erow2_col13 {\n",
       "            background-color:  #e44c34;\n",
       "        }    #T_355ca34c_5f28_11e9_96fa_988389d0865erow3_col0 {\n",
       "            background-color:  #f8864f;\n",
       "        }    #T_355ca34c_5f28_11e9_96fa_988389d0865erow3_col1 {\n",
       "            background-color:  #fdbf6f;\n",
       "        }    #T_355ca34c_5f28_11e9_96fa_988389d0865erow3_col2 {\n",
       "            background-color:  #fff0a6;\n",
       "        }    #T_355ca34c_5f28_11e9_96fa_988389d0865erow3_col3 {\n",
       "            background-color:  #006837;\n",
       "        }    #T_355ca34c_5f28_11e9_96fa_988389d0865erow3_col4 {\n",
       "            background-color:  #fffbb8;\n",
       "        }    #T_355ca34c_5f28_11e9_96fa_988389d0865erow3_col5 {\n",
       "            background-color:  #feeb9d;\n",
       "        }    #T_355ca34c_5f28_11e9_96fa_988389d0865erow3_col6 {\n",
       "            background-color:  #fff8b4;\n",
       "        }    #T_355ca34c_5f28_11e9_96fa_988389d0865erow3_col7 {\n",
       "            background-color:  #fed481;\n",
       "        }    #T_355ca34c_5f28_11e9_96fa_988389d0865erow3_col8 {\n",
       "            background-color:  #fdbb6c;\n",
       "        }    #T_355ca34c_5f28_11e9_96fa_988389d0865erow3_col9 {\n",
       "            background-color:  #fdbb6c;\n",
       "        }    #T_355ca34c_5f28_11e9_96fa_988389d0865erow3_col10 {\n",
       "            background-color:  #f99153;\n",
       "        }    #T_355ca34c_5f28_11e9_96fa_988389d0865erow3_col11 {\n",
       "            background-color:  #fdc372;\n",
       "        }    #T_355ca34c_5f28_11e9_96fa_988389d0865erow3_col12 {\n",
       "            background-color:  #fedc88;\n",
       "        }    #T_355ca34c_5f28_11e9_96fa_988389d0865erow3_col13 {\n",
       "            background-color:  #f5fbb2;\n",
       "        }    #T_355ca34c_5f28_11e9_96fa_988389d0865erow4_col0 {\n",
       "            background-color:  #dff293;\n",
       "        }    #T_355ca34c_5f28_11e9_96fa_988389d0865erow4_col1 {\n",
       "            background-color:  #b50f26;\n",
       "        }    #T_355ca34c_5f28_11e9_96fa_988389d0865erow4_col2 {\n",
       "            background-color:  #36a657;\n",
       "        }    #T_355ca34c_5f28_11e9_96fa_988389d0865erow4_col3 {\n",
       "            background-color:  #f16640;\n",
       "        }    #T_355ca34c_5f28_11e9_96fa_988389d0865erow4_col4 {\n",
       "            background-color:  #006837;\n",
       "        }    #T_355ca34c_5f28_11e9_96fa_988389d0865erow4_col5 {\n",
       "            background-color:  #f26841;\n",
       "        }    #T_355ca34c_5f28_11e9_96fa_988389d0865erow4_col6 {\n",
       "            background-color:  #42ac5a;\n",
       "        }    #T_355ca34c_5f28_11e9_96fa_988389d0865erow4_col7 {\n",
       "            background-color:  #a50026;\n",
       "        }    #T_355ca34c_5f28_11e9_96fa_988389d0865erow4_col8 {\n",
       "            background-color:  #8ccd67;\n",
       "        }    #T_355ca34c_5f28_11e9_96fa_988389d0865erow4_col9 {\n",
       "            background-color:  #70c164;\n",
       "        }    #T_355ca34c_5f28_11e9_96fa_988389d0865erow4_col10 {\n",
       "            background-color:  #fff3ac;\n",
       "        }    #T_355ca34c_5f28_11e9_96fa_988389d0865erow4_col11 {\n",
       "            background-color:  #bb1526;\n",
       "        }    #T_355ca34c_5f28_11e9_96fa_988389d0865erow4_col12 {\n",
       "            background-color:  #7dc765;\n",
       "        }    #T_355ca34c_5f28_11e9_96fa_988389d0865erow4_col13 {\n",
       "            background-color:  #ed5f3c;\n",
       "        }    #T_355ca34c_5f28_11e9_96fa_988389d0865erow5_col0 {\n",
       "            background-color:  #dd3d2d;\n",
       "        }    #T_355ca34c_5f28_11e9_96fa_988389d0865erow5_col1 {\n",
       "            background-color:  #e8f59f;\n",
       "        }    #T_355ca34c_5f28_11e9_96fa_988389d0865erow5_col2 {\n",
       "            background-color:  #ef633f;\n",
       "        }    #T_355ca34c_5f28_11e9_96fa_988389d0865erow5_col3 {\n",
       "            background-color:  #f16640;\n",
       "        }    #T_355ca34c_5f28_11e9_96fa_988389d0865erow5_col4 {\n",
       "            background-color:  #fa9656;\n",
       "        }    #T_355ca34c_5f28_11e9_96fa_988389d0865erow5_col5 {\n",
       "            background-color:  #006837;\n",
       "        }    #T_355ca34c_5f28_11e9_96fa_988389d0865erow5_col6 {\n",
       "            background-color:  #fca85e;\n",
       "        }    #T_355ca34c_5f28_11e9_96fa_988389d0865erow5_col7 {\n",
       "            background-color:  #ebf7a3;\n",
       "        }    #T_355ca34c_5f28_11e9_96fa_988389d0865erow5_col8 {\n",
       "            background-color:  #f16640;\n",
       "        }    #T_355ca34c_5f28_11e9_96fa_988389d0865erow5_col9 {\n",
       "            background-color:  #e75337;\n",
       "        }    #T_355ca34c_5f28_11e9_96fa_988389d0865erow5_col10 {\n",
       "            background-color:  #d62f27;\n",
       "        }    #T_355ca34c_5f28_11e9_96fa_988389d0865erow5_col11 {\n",
       "            background-color:  #fede89;\n",
       "        }    #T_355ca34c_5f28_11e9_96fa_988389d0865erow5_col12 {\n",
       "            background-color:  #c82227;\n",
       "        }    #T_355ca34c_5f28_11e9_96fa_988389d0865erow5_col13 {\n",
       "            background-color:  #51b35e;\n",
       "        }    #T_355ca34c_5f28_11e9_96fa_988389d0865erow6_col0 {\n",
       "            background-color:  #f2faae;\n",
       "        }    #T_355ca34c_5f28_11e9_96fa_988389d0865erow6_col1 {\n",
       "            background-color:  #a50026;\n",
       "        }    #T_355ca34c_5f28_11e9_96fa_988389d0865erow6_col2 {\n",
       "            background-color:  #6bbf64;\n",
       "        }    #T_355ca34c_5f28_11e9_96fa_988389d0865erow6_col3 {\n",
       "            background-color:  #ef633f;\n",
       "        }    #T_355ca34c_5f28_11e9_96fa_988389d0865erow6_col4 {\n",
       "            background-color:  #3faa59;\n",
       "        }    #T_355ca34c_5f28_11e9_96fa_988389d0865erow6_col5 {\n",
       "            background-color:  #f7814c;\n",
       "        }    #T_355ca34c_5f28_11e9_96fa_988389d0865erow6_col6 {\n",
       "            background-color:  #006837;\n",
       "        }    #T_355ca34c_5f28_11e9_96fa_988389d0865erow6_col7 {\n",
       "            background-color:  #ab0626;\n",
       "        }    #T_355ca34c_5f28_11e9_96fa_988389d0865erow6_col8 {\n",
       "            background-color:  #c7e77f;\n",
       "        }    #T_355ca34c_5f28_11e9_96fa_988389d0865erow6_col9 {\n",
       "            background-color:  #b1de71;\n",
       "        }    #T_355ca34c_5f28_11e9_96fa_988389d0865erow6_col10 {\n",
       "            background-color:  #fbfdba;\n",
       "        }    #T_355ca34c_5f28_11e9_96fa_988389d0865erow6_col11 {\n",
       "            background-color:  #dc3b2c;\n",
       "        }    #T_355ca34c_5f28_11e9_96fa_988389d0865erow6_col12 {\n",
       "            background-color:  #78c565;\n",
       "        }    #T_355ca34c_5f28_11e9_96fa_988389d0865erow6_col13 {\n",
       "            background-color:  #f57245;\n",
       "        }    #T_355ca34c_5f28_11e9_96fa_988389d0865erow7_col0 {\n",
       "            background-color:  #a70226;\n",
       "        }    #T_355ca34c_5f28_11e9_96fa_988389d0865erow7_col1 {\n",
       "            background-color:  #6ec064;\n",
       "        }    #T_355ca34c_5f28_11e9_96fa_988389d0865erow7_col2 {\n",
       "            background-color:  #a50026;\n",
       "        }    #T_355ca34c_5f28_11e9_96fa_988389d0865erow7_col3 {\n",
       "            background-color:  #af0926;\n",
       "        }    #T_355ca34c_5f28_11e9_96fa_988389d0865erow7_col4 {\n",
       "            background-color:  #a50026;\n",
       "        }    #T_355ca34c_5f28_11e9_96fa_988389d0865erow7_col5 {\n",
       "            background-color:  #fdfebc;\n",
       "        }    #T_355ca34c_5f28_11e9_96fa_988389d0865erow7_col6 {\n",
       "            background-color:  #a50026;\n",
       "        }    #T_355ca34c_5f28_11e9_96fa_988389d0865erow7_col7 {\n",
       "            background-color:  #006837;\n",
       "        }    #T_355ca34c_5f28_11e9_96fa_988389d0865erow7_col8 {\n",
       "            background-color:  #a50026;\n",
       "        }    #T_355ca34c_5f28_11e9_96fa_988389d0865erow7_col9 {\n",
       "            background-color:  #a50026;\n",
       "        }    #T_355ca34c_5f28_11e9_96fa_988389d0865erow7_col10 {\n",
       "            background-color:  #ee613e;\n",
       "        }    #T_355ca34c_5f28_11e9_96fa_988389d0865erow7_col11 {\n",
       "            background-color:  #fbfdba;\n",
       "        }    #T_355ca34c_5f28_11e9_96fa_988389d0865erow7_col12 {\n",
       "            background-color:  #e24731;\n",
       "        }    #T_355ca34c_5f28_11e9_96fa_988389d0865erow7_col13 {\n",
       "            background-color:  #e5f49b;\n",
       "        }    #T_355ca34c_5f28_11e9_96fa_988389d0865erow8_col0 {\n",
       "            background-color:  #93d168;\n",
       "        }    #T_355ca34c_5f28_11e9_96fa_988389d0865erow8_col1 {\n",
       "            background-color:  #ea5739;\n",
       "        }    #T_355ca34c_5f28_11e9_96fa_988389d0865erow8_col2 {\n",
       "            background-color:  #7dc765;\n",
       "        }    #T_355ca34c_5f28_11e9_96fa_988389d0865erow8_col3 {\n",
       "            background-color:  #d83128;\n",
       "        }    #T_355ca34c_5f28_11e9_96fa_988389d0865erow8_col4 {\n",
       "            background-color:  #73c264;\n",
       "        }    #T_355ca34c_5f28_11e9_96fa_988389d0865erow8_col5 {\n",
       "            background-color:  #f98e52;\n",
       "        }    #T_355ca34c_5f28_11e9_96fa_988389d0865erow8_col6 {\n",
       "            background-color:  #abdb6d;\n",
       "        }    #T_355ca34c_5f28_11e9_96fa_988389d0865erow8_col7 {\n",
       "            background-color:  #e65036;\n",
       "        }    #T_355ca34c_5f28_11e9_96fa_988389d0865erow8_col8 {\n",
       "            background-color:  #006837;\n",
       "        }    #T_355ca34c_5f28_11e9_96fa_988389d0865erow8_col9 {\n",
       "            background-color:  #0e8245;\n",
       "        }    #T_355ca34c_5f28_11e9_96fa_988389d0865erow8_col10 {\n",
       "            background-color:  #c1e57b;\n",
       "        }    #T_355ca34c_5f28_11e9_96fa_988389d0865erow8_col11 {\n",
       "            background-color:  #a50026;\n",
       "        }    #T_355ca34c_5f28_11e9_96fa_988389d0865erow8_col12 {\n",
       "            background-color:  #a2d76a;\n",
       "        }    #T_355ca34c_5f28_11e9_96fa_988389d0865erow8_col13 {\n",
       "            background-color:  #f47044;\n",
       "        }    #T_355ca34c_5f28_11e9_96fa_988389d0865erow9_col0 {\n",
       "            background-color:  #a5d86a;\n",
       "        }    #T_355ca34c_5f28_11e9_96fa_988389d0865erow9_col1 {\n",
       "            background-color:  #e95538;\n",
       "        }    #T_355ca34c_5f28_11e9_96fa_988389d0865erow9_col2 {\n",
       "            background-color:  #48ae5c;\n",
       "        }    #T_355ca34c_5f28_11e9_96fa_988389d0865erow9_col3 {\n",
       "            background-color:  #ca2427;\n",
       "        }    #T_355ca34c_5f28_11e9_96fa_988389d0865erow9_col4 {\n",
       "            background-color:  #5db961;\n",
       "        }    #T_355ca34c_5f28_11e9_96fa_988389d0865erow9_col5 {\n",
       "            background-color:  #f46d43;\n",
       "        }    #T_355ca34c_5f28_11e9_96fa_988389d0865erow9_col6 {\n",
       "            background-color:  #9bd469;\n",
       "        }    #T_355ca34c_5f28_11e9_96fa_988389d0865erow9_col7 {\n",
       "            background-color:  #e0422f;\n",
       "        }    #T_355ca34c_5f28_11e9_96fa_988389d0865erow9_col8 {\n",
       "            background-color:  #0f8446;\n",
       "        }    #T_355ca34c_5f28_11e9_96fa_988389d0865erow9_col9 {\n",
       "            background-color:  #006837;\n",
       "        }    #T_355ca34c_5f28_11e9_96fa_988389d0865erow9_col10 {\n",
       "            background-color:  #c3e67d;\n",
       "        }    #T_355ca34c_5f28_11e9_96fa_988389d0865erow9_col11 {\n",
       "            background-color:  #a50026;\n",
       "        }    #T_355ca34c_5f28_11e9_96fa_988389d0865erow9_col12 {\n",
       "            background-color:  #8ecf67;\n",
       "        }    #T_355ca34c_5f28_11e9_96fa_988389d0865erow9_col13 {\n",
       "            background-color:  #e65036;\n",
       "        }    #T_355ca34c_5f28_11e9_96fa_988389d0865erow10_col0 {\n",
       "            background-color:  #fffcba;\n",
       "        }    #T_355ca34c_5f28_11e9_96fa_988389d0865erow10_col1 {\n",
       "            background-color:  #db382b;\n",
       "        }    #T_355ca34c_5f28_11e9_96fa_988389d0865erow10_col2 {\n",
       "            background-color:  #c5e67e;\n",
       "        }    #T_355ca34c_5f28_11e9_96fa_988389d0865erow10_col3 {\n",
       "            background-color:  #a50026;\n",
       "        }    #T_355ca34c_5f28_11e9_96fa_988389d0865erow10_col4 {\n",
       "            background-color:  #eff8aa;\n",
       "        }    #T_355ca34c_5f28_11e9_96fa_988389d0865erow10_col5 {\n",
       "            background-color:  #e75337;\n",
       "        }    #T_355ca34c_5f28_11e9_96fa_988389d0865erow10_col6 {\n",
       "            background-color:  #e2f397;\n",
       "        }    #T_355ca34c_5f28_11e9_96fa_988389d0865erow10_col7 {\n",
       "            background-color:  #fdaf62;\n",
       "        }    #T_355ca34c_5f28_11e9_96fa_988389d0865erow10_col8 {\n",
       "            background-color:  #c3e67d;\n",
       "        }    #T_355ca34c_5f28_11e9_96fa_988389d0865erow10_col9 {\n",
       "            background-color:  #bfe47a;\n",
       "        }    #T_355ca34c_5f28_11e9_96fa_988389d0865erow10_col10 {\n",
       "            background-color:  #006837;\n",
       "        }    #T_355ca34c_5f28_11e9_96fa_988389d0865erow10_col11 {\n",
       "            background-color:  #ef633f;\n",
       "        }    #T_355ca34c_5f28_11e9_96fa_988389d0865erow10_col12 {\n",
       "            background-color:  #c5e67e;\n",
       "        }    #T_355ca34c_5f28_11e9_96fa_988389d0865erow10_col13 {\n",
       "            background-color:  #e0422f;\n",
       "        }    #T_355ca34c_5f28_11e9_96fa_988389d0865erow11_col0 {\n",
       "            background-color:  #a50026;\n",
       "        }    #T_355ca34c_5f28_11e9_96fa_988389d0865erow11_col1 {\n",
       "            background-color:  #fff7b2;\n",
       "        }    #T_355ca34c_5f28_11e9_96fa_988389d0865erow11_col2 {\n",
       "            background-color:  #f47044;\n",
       "        }    #T_355ca34c_5f28_11e9_96fa_988389d0865erow11_col3 {\n",
       "            background-color:  #e54e35;\n",
       "        }    #T_355ca34c_5f28_11e9_96fa_988389d0865erow11_col4 {\n",
       "            background-color:  #f67a49;\n",
       "        }    #T_355ca34c_5f28_11e9_96fa_988389d0865erow11_col5 {\n",
       "            background-color:  #fff2aa;\n",
       "        }    #T_355ca34c_5f28_11e9_96fa_988389d0865erow11_col6 {\n",
       "            background-color:  #fa9b58;\n",
       "        }    #T_355ca34c_5f28_11e9_96fa_988389d0865erow11_col7 {\n",
       "            background-color:  #d9ef8b;\n",
       "        }    #T_355ca34c_5f28_11e9_96fa_988389d0865erow11_col8 {\n",
       "            background-color:  #b50f26;\n",
       "        }    #T_355ca34c_5f28_11e9_96fa_988389d0865erow11_col9 {\n",
       "            background-color:  #c21c27;\n",
       "        }    #T_355ca34c_5f28_11e9_96fa_988389d0865erow11_col10 {\n",
       "            background-color:  #f67a49;\n",
       "        }    #T_355ca34c_5f28_11e9_96fa_988389d0865erow11_col11 {\n",
       "            background-color:  #006837;\n",
       "        }    #T_355ca34c_5f28_11e9_96fa_988389d0865erow11_col12 {\n",
       "            background-color:  #f57547;\n",
       "        }    #T_355ca34c_5f28_11e9_96fa_988389d0865erow11_col13 {\n",
       "            background-color:  #d1ec86;\n",
       "        }    #T_355ca34c_5f28_11e9_96fa_988389d0865erow12_col0 {\n",
       "            background-color:  #d5ed88;\n",
       "        }    #T_355ca34c_5f28_11e9_96fa_988389d0865erow12_col1 {\n",
       "            background-color:  #d62f27;\n",
       "        }    #T_355ca34c_5f28_11e9_96fa_988389d0865erow12_col2 {\n",
       "            background-color:  #7ac665;\n",
       "        }    #T_355ca34c_5f28_11e9_96fa_988389d0865erow12_col3 {\n",
       "            background-color:  #c21c27;\n",
       "        }    #T_355ca34c_5f28_11e9_96fa_988389d0865erow12_col4 {\n",
       "            background-color:  #7ac665;\n",
       "        }    #T_355ca34c_5f28_11e9_96fa_988389d0865erow12_col5 {\n",
       "            background-color:  #a50026;\n",
       "        }    #T_355ca34c_5f28_11e9_96fa_988389d0865erow12_col6 {\n",
       "            background-color:  #78c565;\n",
       "        }    #T_355ca34c_5f28_11e9_96fa_988389d0865erow12_col7 {\n",
       "            background-color:  #e65036;\n",
       "        }    #T_355ca34c_5f28_11e9_96fa_988389d0865erow12_col8 {\n",
       "            background-color:  #bbe278;\n",
       "        }    #T_355ca34c_5f28_11e9_96fa_988389d0865erow12_col9 {\n",
       "            background-color:  #a5d86a;\n",
       "        }    #T_355ca34c_5f28_11e9_96fa_988389d0865erow12_col10 {\n",
       "            background-color:  #dff293;\n",
       "        }    #T_355ca34c_5f28_11e9_96fa_988389d0865erow12_col11 {\n",
       "            background-color:  #be1827;\n",
       "        }    #T_355ca34c_5f28_11e9_96fa_988389d0865erow12_col12 {\n",
       "            background-color:  #006837;\n",
       "        }    #T_355ca34c_5f28_11e9_96fa_988389d0865erow12_col13 {\n",
       "            background-color:  #a50026;\n",
       "        }    #T_355ca34c_5f28_11e9_96fa_988389d0865erow13_col0 {\n",
       "            background-color:  #a50026;\n",
       "        }    #T_355ca34c_5f28_11e9_96fa_988389d0865erow13_col1 {\n",
       "            background-color:  #dcf08f;\n",
       "        }    #T_355ca34c_5f28_11e9_96fa_988389d0865erow13_col2 {\n",
       "            background-color:  #e0422f;\n",
       "        }    #T_355ca34c_5f28_11e9_96fa_988389d0865erow13_col3 {\n",
       "            background-color:  #fa9656;\n",
       "        }    #T_355ca34c_5f28_11e9_96fa_988389d0865erow13_col4 {\n",
       "            background-color:  #f26841;\n",
       "        }    #T_355ca34c_5f28_11e9_96fa_988389d0865erow13_col5 {\n",
       "            background-color:  #5db961;\n",
       "        }    #T_355ca34c_5f28_11e9_96fa_988389d0865erow13_col6 {\n",
       "            background-color:  #f57547;\n",
       "        }    #T_355ca34c_5f28_11e9_96fa_988389d0865erow13_col7 {\n",
       "            background-color:  #e2f397;\n",
       "        }    #T_355ca34c_5f28_11e9_96fa_988389d0865erow13_col8 {\n",
       "            background-color:  #ca2427;\n",
       "        }    #T_355ca34c_5f28_11e9_96fa_988389d0865erow13_col9 {\n",
       "            background-color:  #b91326;\n",
       "        }    #T_355ca34c_5f28_11e9_96fa_988389d0865erow13_col10 {\n",
       "            background-color:  #a50026;\n",
       "        }    #T_355ca34c_5f28_11e9_96fa_988389d0865erow13_col11 {\n",
       "            background-color:  #f1f9ac;\n",
       "        }    #T_355ca34c_5f28_11e9_96fa_988389d0865erow13_col12 {\n",
       "            background-color:  #a50026;\n",
       "        }    #T_355ca34c_5f28_11e9_96fa_988389d0865erow13_col13 {\n",
       "            background-color:  #006837;\n",
       "        }</style>  \n",
       "<table id=\"T_355ca34c_5f28_11e9_96fa_988389d0865e\" > \n",
       "<thead>    <tr> \n",
       "        <th class=\"blank level0\" ></th> \n",
       "        <th class=\"col_heading level0 col0\" >CRIM</th> \n",
       "        <th class=\"col_heading level0 col1\" >ZN</th> \n",
       "        <th class=\"col_heading level0 col2\" >INDUS</th> \n",
       "        <th class=\"col_heading level0 col3\" >CHAS</th> \n",
       "        <th class=\"col_heading level0 col4\" >NOX</th> \n",
       "        <th class=\"col_heading level0 col5\" >RM</th> \n",
       "        <th class=\"col_heading level0 col6\" >AGE</th> \n",
       "        <th class=\"col_heading level0 col7\" >DIS</th> \n",
       "        <th class=\"col_heading level0 col8\" >RAD</th> \n",
       "        <th class=\"col_heading level0 col9\" >TAX</th> \n",
       "        <th class=\"col_heading level0 col10\" >PTRATIO</th> \n",
       "        <th class=\"col_heading level0 col11\" >B</th> \n",
       "        <th class=\"col_heading level0 col12\" >LSTAT</th> \n",
       "        <th class=\"col_heading level0 col13\" >MEDV</th> \n",
       "    </tr></thead> \n",
       "<tbody>    <tr> \n",
       "        <th id=\"T_355ca34c_5f28_11e9_96fa_988389d0865elevel0_row0\" class=\"row_heading level0 row0\" >CRIM</th> \n",
       "        <td id=\"T_355ca34c_5f28_11e9_96fa_988389d0865erow0_col0\" class=\"data row0 col0\" >1</td> \n",
       "        <td id=\"T_355ca34c_5f28_11e9_96fa_988389d0865erow0_col1\" class=\"data row0 col1\" >-0.2005</td> \n",
       "        <td id=\"T_355ca34c_5f28_11e9_96fa_988389d0865erow0_col2\" class=\"data row0 col2\" >0.4066</td> \n",
       "        <td id=\"T_355ca34c_5f28_11e9_96fa_988389d0865erow0_col3\" class=\"data row0 col3\" >-0.05589</td> \n",
       "        <td id=\"T_355ca34c_5f28_11e9_96fa_988389d0865erow0_col4\" class=\"data row0 col4\" >0.421</td> \n",
       "        <td id=\"T_355ca34c_5f28_11e9_96fa_988389d0865erow0_col5\" class=\"data row0 col5\" >-0.2192</td> \n",
       "        <td id=\"T_355ca34c_5f28_11e9_96fa_988389d0865erow0_col6\" class=\"data row0 col6\" >0.3527</td> \n",
       "        <td id=\"T_355ca34c_5f28_11e9_96fa_988389d0865erow0_col7\" class=\"data row0 col7\" >-0.3797</td> \n",
       "        <td id=\"T_355ca34c_5f28_11e9_96fa_988389d0865erow0_col8\" class=\"data row0 col8\" >0.6255</td> \n",
       "        <td id=\"T_355ca34c_5f28_11e9_96fa_988389d0865erow0_col9\" class=\"data row0 col9\" >0.5828</td> \n",
       "        <td id=\"T_355ca34c_5f28_11e9_96fa_988389d0865erow0_col10\" class=\"data row0 col10\" >0.2899</td> \n",
       "        <td id=\"T_355ca34c_5f28_11e9_96fa_988389d0865erow0_col11\" class=\"data row0 col11\" >-0.3851</td> \n",
       "        <td id=\"T_355ca34c_5f28_11e9_96fa_988389d0865erow0_col12\" class=\"data row0 col12\" >0.4556</td> \n",
       "        <td id=\"T_355ca34c_5f28_11e9_96fa_988389d0865erow0_col13\" class=\"data row0 col13\" >-0.3883</td> \n",
       "    </tr>    <tr> \n",
       "        <th id=\"T_355ca34c_5f28_11e9_96fa_988389d0865elevel0_row1\" class=\"row_heading level0 row1\" >ZN</th> \n",
       "        <td id=\"T_355ca34c_5f28_11e9_96fa_988389d0865erow1_col0\" class=\"data row1 col0\" >-0.2005</td> \n",
       "        <td id=\"T_355ca34c_5f28_11e9_96fa_988389d0865erow1_col1\" class=\"data row1 col1\" >1</td> \n",
       "        <td id=\"T_355ca34c_5f28_11e9_96fa_988389d0865erow1_col2\" class=\"data row1 col2\" >-0.5338</td> \n",
       "        <td id=\"T_355ca34c_5f28_11e9_96fa_988389d0865erow1_col3\" class=\"data row1 col3\" >-0.0427</td> \n",
       "        <td id=\"T_355ca34c_5f28_11e9_96fa_988389d0865erow1_col4\" class=\"data row1 col4\" >-0.5166</td> \n",
       "        <td id=\"T_355ca34c_5f28_11e9_96fa_988389d0865erow1_col5\" class=\"data row1 col5\" >0.312</td> \n",
       "        <td id=\"T_355ca34c_5f28_11e9_96fa_988389d0865erow1_col6\" class=\"data row1 col6\" >-0.5695</td> \n",
       "        <td id=\"T_355ca34c_5f28_11e9_96fa_988389d0865erow1_col7\" class=\"data row1 col7\" >0.6644</td> \n",
       "        <td id=\"T_355ca34c_5f28_11e9_96fa_988389d0865erow1_col8\" class=\"data row1 col8\" >-0.3119</td> \n",
       "        <td id=\"T_355ca34c_5f28_11e9_96fa_988389d0865erow1_col9\" class=\"data row1 col9\" >-0.3146</td> \n",
       "        <td id=\"T_355ca34c_5f28_11e9_96fa_988389d0865erow1_col10\" class=\"data row1 col10\" >-0.3917</td> \n",
       "        <td id=\"T_355ca34c_5f28_11e9_96fa_988389d0865erow1_col11\" class=\"data row1 col11\" >0.1755</td> \n",
       "        <td id=\"T_355ca34c_5f28_11e9_96fa_988389d0865erow1_col12\" class=\"data row1 col12\" >-0.413</td> \n",
       "        <td id=\"T_355ca34c_5f28_11e9_96fa_988389d0865erow1_col13\" class=\"data row1 col13\" >0.3604</td> \n",
       "    </tr>    <tr> \n",
       "        <th id=\"T_355ca34c_5f28_11e9_96fa_988389d0865elevel0_row2\" class=\"row_heading level0 row2\" >INDUS</th> \n",
       "        <td id=\"T_355ca34c_5f28_11e9_96fa_988389d0865erow2_col0\" class=\"data row2 col0\" >0.4066</td> \n",
       "        <td id=\"T_355ca34c_5f28_11e9_96fa_988389d0865erow2_col1\" class=\"data row2 col1\" >-0.5338</td> \n",
       "        <td id=\"T_355ca34c_5f28_11e9_96fa_988389d0865erow2_col2\" class=\"data row2 col2\" >1</td> \n",
       "        <td id=\"T_355ca34c_5f28_11e9_96fa_988389d0865erow2_col3\" class=\"data row2 col3\" >0.06294</td> \n",
       "        <td id=\"T_355ca34c_5f28_11e9_96fa_988389d0865erow2_col4\" class=\"data row2 col4\" >0.7637</td> \n",
       "        <td id=\"T_355ca34c_5f28_11e9_96fa_988389d0865erow2_col5\" class=\"data row2 col5\" >-0.3917</td> \n",
       "        <td id=\"T_355ca34c_5f28_11e9_96fa_988389d0865erow2_col6\" class=\"data row2 col6\" >0.6448</td> \n",
       "        <td id=\"T_355ca34c_5f28_11e9_96fa_988389d0865erow2_col7\" class=\"data row2 col7\" >-0.708</td> \n",
       "        <td id=\"T_355ca34c_5f28_11e9_96fa_988389d0865erow2_col8\" class=\"data row2 col8\" >0.5951</td> \n",
       "        <td id=\"T_355ca34c_5f28_11e9_96fa_988389d0865erow2_col9\" class=\"data row2 col9\" >0.7208</td> \n",
       "        <td id=\"T_355ca34c_5f28_11e9_96fa_988389d0865erow2_col10\" class=\"data row2 col10\" >0.3832</td> \n",
       "        <td id=\"T_355ca34c_5f28_11e9_96fa_988389d0865erow2_col11\" class=\"data row2 col11\" >-0.357</td> \n",
       "        <td id=\"T_355ca34c_5f28_11e9_96fa_988389d0865erow2_col12\" class=\"data row2 col12\" >0.6038</td> \n",
       "        <td id=\"T_355ca34c_5f28_11e9_96fa_988389d0865erow2_col13\" class=\"data row2 col13\" >-0.4837</td> \n",
       "    </tr>    <tr> \n",
       "        <th id=\"T_355ca34c_5f28_11e9_96fa_988389d0865elevel0_row3\" class=\"row_heading level0 row3\" >CHAS</th> \n",
       "        <td id=\"T_355ca34c_5f28_11e9_96fa_988389d0865erow3_col0\" class=\"data row3 col0\" >-0.05589</td> \n",
       "        <td id=\"T_355ca34c_5f28_11e9_96fa_988389d0865erow3_col1\" class=\"data row3 col1\" >-0.0427</td> \n",
       "        <td id=\"T_355ca34c_5f28_11e9_96fa_988389d0865erow3_col2\" class=\"data row3 col2\" >0.06294</td> \n",
       "        <td id=\"T_355ca34c_5f28_11e9_96fa_988389d0865erow3_col3\" class=\"data row3 col3\" >1</td> \n",
       "        <td id=\"T_355ca34c_5f28_11e9_96fa_988389d0865erow3_col4\" class=\"data row3 col4\" >0.0912</td> \n",
       "        <td id=\"T_355ca34c_5f28_11e9_96fa_988389d0865erow3_col5\" class=\"data row3 col5\" >0.09125</td> \n",
       "        <td id=\"T_355ca34c_5f28_11e9_96fa_988389d0865erow3_col6\" class=\"data row3 col6\" >0.08652</td> \n",
       "        <td id=\"T_355ca34c_5f28_11e9_96fa_988389d0865erow3_col7\" class=\"data row3 col7\" >-0.09918</td> \n",
       "        <td id=\"T_355ca34c_5f28_11e9_96fa_988389d0865erow3_col8\" class=\"data row3 col8\" >-0.007368</td> \n",
       "        <td id=\"T_355ca34c_5f28_11e9_96fa_988389d0865erow3_col9\" class=\"data row3 col9\" >-0.03559</td> \n",
       "        <td id=\"T_355ca34c_5f28_11e9_96fa_988389d0865erow3_col10\" class=\"data row3 col10\" >-0.1215</td> \n",
       "        <td id=\"T_355ca34c_5f28_11e9_96fa_988389d0865erow3_col11\" class=\"data row3 col11\" >0.04879</td> \n",
       "        <td id=\"T_355ca34c_5f28_11e9_96fa_988389d0865erow3_col12\" class=\"data row3 col12\" >-0.05393</td> \n",
       "        <td id=\"T_355ca34c_5f28_11e9_96fa_988389d0865erow3_col13\" class=\"data row3 col13\" >0.1753</td> \n",
       "    </tr>    <tr> \n",
       "        <th id=\"T_355ca34c_5f28_11e9_96fa_988389d0865elevel0_row4\" class=\"row_heading level0 row4\" >NOX</th> \n",
       "        <td id=\"T_355ca34c_5f28_11e9_96fa_988389d0865erow4_col0\" class=\"data row4 col0\" >0.421</td> \n",
       "        <td id=\"T_355ca34c_5f28_11e9_96fa_988389d0865erow4_col1\" class=\"data row4 col1\" >-0.5166</td> \n",
       "        <td id=\"T_355ca34c_5f28_11e9_96fa_988389d0865erow4_col2\" class=\"data row4 col2\" >0.7637</td> \n",
       "        <td id=\"T_355ca34c_5f28_11e9_96fa_988389d0865erow4_col3\" class=\"data row4 col3\" >0.0912</td> \n",
       "        <td id=\"T_355ca34c_5f28_11e9_96fa_988389d0865erow4_col4\" class=\"data row4 col4\" >1</td> \n",
       "        <td id=\"T_355ca34c_5f28_11e9_96fa_988389d0865erow4_col5\" class=\"data row4 col5\" >-0.3022</td> \n",
       "        <td id=\"T_355ca34c_5f28_11e9_96fa_988389d0865erow4_col6\" class=\"data row4 col6\" >0.7315</td> \n",
       "        <td id=\"T_355ca34c_5f28_11e9_96fa_988389d0865erow4_col7\" class=\"data row4 col7\" >-0.7692</td> \n",
       "        <td id=\"T_355ca34c_5f28_11e9_96fa_988389d0865erow4_col8\" class=\"data row4 col8\" >0.6114</td> \n",
       "        <td id=\"T_355ca34c_5f28_11e9_96fa_988389d0865erow4_col9\" class=\"data row4 col9\" >0.668</td> \n",
       "        <td id=\"T_355ca34c_5f28_11e9_96fa_988389d0865erow4_col10\" class=\"data row4 col10\" >0.1889</td> \n",
       "        <td id=\"T_355ca34c_5f28_11e9_96fa_988389d0865erow4_col11\" class=\"data row4 col11\" >-0.3801</td> \n",
       "        <td id=\"T_355ca34c_5f28_11e9_96fa_988389d0865erow4_col12\" class=\"data row4 col12\" >0.5909</td> \n",
       "        <td id=\"T_355ca34c_5f28_11e9_96fa_988389d0865erow4_col13\" class=\"data row4 col13\" >-0.4273</td> \n",
       "    </tr>    <tr> \n",
       "        <th id=\"T_355ca34c_5f28_11e9_96fa_988389d0865elevel0_row5\" class=\"row_heading level0 row5\" >RM</th> \n",
       "        <td id=\"T_355ca34c_5f28_11e9_96fa_988389d0865erow5_col0\" class=\"data row5 col0\" >-0.2192</td> \n",
       "        <td id=\"T_355ca34c_5f28_11e9_96fa_988389d0865erow5_col1\" class=\"data row5 col1\" >0.312</td> \n",
       "        <td id=\"T_355ca34c_5f28_11e9_96fa_988389d0865erow5_col2\" class=\"data row5 col2\" >-0.3917</td> \n",
       "        <td id=\"T_355ca34c_5f28_11e9_96fa_988389d0865erow5_col3\" class=\"data row5 col3\" >0.09125</td> \n",
       "        <td id=\"T_355ca34c_5f28_11e9_96fa_988389d0865erow5_col4\" class=\"data row5 col4\" >-0.3022</td> \n",
       "        <td id=\"T_355ca34c_5f28_11e9_96fa_988389d0865erow5_col5\" class=\"data row5 col5\" >1</td> \n",
       "        <td id=\"T_355ca34c_5f28_11e9_96fa_988389d0865erow5_col6\" class=\"data row5 col6\" >-0.2403</td> \n",
       "        <td id=\"T_355ca34c_5f28_11e9_96fa_988389d0865erow5_col7\" class=\"data row5 col7\" >0.2052</td> \n",
       "        <td id=\"T_355ca34c_5f28_11e9_96fa_988389d0865erow5_col8\" class=\"data row5 col8\" >-0.2098</td> \n",
       "        <td id=\"T_355ca34c_5f28_11e9_96fa_988389d0865erow5_col9\" class=\"data row5 col9\" >-0.292</td> \n",
       "        <td id=\"T_355ca34c_5f28_11e9_96fa_988389d0865erow5_col10\" class=\"data row5 col10\" >-0.3555</td> \n",
       "        <td id=\"T_355ca34c_5f28_11e9_96fa_988389d0865erow5_col11\" class=\"data row5 col11\" >0.1281</td> \n",
       "        <td id=\"T_355ca34c_5f28_11e9_96fa_988389d0865erow5_col12\" class=\"data row5 col12\" >-0.6138</td> \n",
       "        <td id=\"T_355ca34c_5f28_11e9_96fa_988389d0865erow5_col13\" class=\"data row5 col13\" >0.6954</td> \n",
       "    </tr>    <tr> \n",
       "        <th id=\"T_355ca34c_5f28_11e9_96fa_988389d0865elevel0_row6\" class=\"row_heading level0 row6\" >AGE</th> \n",
       "        <td id=\"T_355ca34c_5f28_11e9_96fa_988389d0865erow6_col0\" class=\"data row6 col0\" >0.3527</td> \n",
       "        <td id=\"T_355ca34c_5f28_11e9_96fa_988389d0865erow6_col1\" class=\"data row6 col1\" >-0.5695</td> \n",
       "        <td id=\"T_355ca34c_5f28_11e9_96fa_988389d0865erow6_col2\" class=\"data row6 col2\" >0.6448</td> \n",
       "        <td id=\"T_355ca34c_5f28_11e9_96fa_988389d0865erow6_col3\" class=\"data row6 col3\" >0.08652</td> \n",
       "        <td id=\"T_355ca34c_5f28_11e9_96fa_988389d0865erow6_col4\" class=\"data row6 col4\" >0.7315</td> \n",
       "        <td id=\"T_355ca34c_5f28_11e9_96fa_988389d0865erow6_col5\" class=\"data row6 col5\" >-0.2403</td> \n",
       "        <td id=\"T_355ca34c_5f28_11e9_96fa_988389d0865erow6_col6\" class=\"data row6 col6\" >1</td> \n",
       "        <td id=\"T_355ca34c_5f28_11e9_96fa_988389d0865erow6_col7\" class=\"data row6 col7\" >-0.7479</td> \n",
       "        <td id=\"T_355ca34c_5f28_11e9_96fa_988389d0865erow6_col8\" class=\"data row6 col8\" >0.456</td> \n",
       "        <td id=\"T_355ca34c_5f28_11e9_96fa_988389d0865erow6_col9\" class=\"data row6 col9\" >0.5065</td> \n",
       "        <td id=\"T_355ca34c_5f28_11e9_96fa_988389d0865erow6_col10\" class=\"data row6 col10\" >0.2615</td> \n",
       "        <td id=\"T_355ca34c_5f28_11e9_96fa_988389d0865erow6_col11\" class=\"data row6 col11\" >-0.2735</td> \n",
       "        <td id=\"T_355ca34c_5f28_11e9_96fa_988389d0865erow6_col12\" class=\"data row6 col12\" >0.6023</td> \n",
       "        <td id=\"T_355ca34c_5f28_11e9_96fa_988389d0865erow6_col13\" class=\"data row6 col13\" >-0.377</td> \n",
       "    </tr>    <tr> \n",
       "        <th id=\"T_355ca34c_5f28_11e9_96fa_988389d0865elevel0_row7\" class=\"row_heading level0 row7\" >DIS</th> \n",
       "        <td id=\"T_355ca34c_5f28_11e9_96fa_988389d0865erow7_col0\" class=\"data row7 col0\" >-0.3797</td> \n",
       "        <td id=\"T_355ca34c_5f28_11e9_96fa_988389d0865erow7_col1\" class=\"data row7 col1\" >0.6644</td> \n",
       "        <td id=\"T_355ca34c_5f28_11e9_96fa_988389d0865erow7_col2\" class=\"data row7 col2\" >-0.708</td> \n",
       "        <td id=\"T_355ca34c_5f28_11e9_96fa_988389d0865erow7_col3\" class=\"data row7 col3\" >-0.09918</td> \n",
       "        <td id=\"T_355ca34c_5f28_11e9_96fa_988389d0865erow7_col4\" class=\"data row7 col4\" >-0.7692</td> \n",
       "        <td id=\"T_355ca34c_5f28_11e9_96fa_988389d0865erow7_col5\" class=\"data row7 col5\" >0.2052</td> \n",
       "        <td id=\"T_355ca34c_5f28_11e9_96fa_988389d0865erow7_col6\" class=\"data row7 col6\" >-0.7479</td> \n",
       "        <td id=\"T_355ca34c_5f28_11e9_96fa_988389d0865erow7_col7\" class=\"data row7 col7\" >1</td> \n",
       "        <td id=\"T_355ca34c_5f28_11e9_96fa_988389d0865erow7_col8\" class=\"data row7 col8\" >-0.4946</td> \n",
       "        <td id=\"T_355ca34c_5f28_11e9_96fa_988389d0865erow7_col9\" class=\"data row7 col9\" >-0.5344</td> \n",
       "        <td id=\"T_355ca34c_5f28_11e9_96fa_988389d0865erow7_col10\" class=\"data row7 col10\" >-0.2325</td> \n",
       "        <td id=\"T_355ca34c_5f28_11e9_96fa_988389d0865erow7_col11\" class=\"data row7 col11\" >0.2915</td> \n",
       "        <td id=\"T_355ca34c_5f28_11e9_96fa_988389d0865erow7_col12\" class=\"data row7 col12\" >-0.497</td> \n",
       "        <td id=\"T_355ca34c_5f28_11e9_96fa_988389d0865erow7_col13\" class=\"data row7 col13\" >0.2499</td> \n",
       "    </tr>    <tr> \n",
       "        <th id=\"T_355ca34c_5f28_11e9_96fa_988389d0865elevel0_row8\" class=\"row_heading level0 row8\" >RAD</th> \n",
       "        <td id=\"T_355ca34c_5f28_11e9_96fa_988389d0865erow8_col0\" class=\"data row8 col0\" >0.6255</td> \n",
       "        <td id=\"T_355ca34c_5f28_11e9_96fa_988389d0865erow8_col1\" class=\"data row8 col1\" >-0.3119</td> \n",
       "        <td id=\"T_355ca34c_5f28_11e9_96fa_988389d0865erow8_col2\" class=\"data row8 col2\" >0.5951</td> \n",
       "        <td id=\"T_355ca34c_5f28_11e9_96fa_988389d0865erow8_col3\" class=\"data row8 col3\" >-0.007368</td> \n",
       "        <td id=\"T_355ca34c_5f28_11e9_96fa_988389d0865erow8_col4\" class=\"data row8 col4\" >0.6114</td> \n",
       "        <td id=\"T_355ca34c_5f28_11e9_96fa_988389d0865erow8_col5\" class=\"data row8 col5\" >-0.2098</td> \n",
       "        <td id=\"T_355ca34c_5f28_11e9_96fa_988389d0865erow8_col6\" class=\"data row8 col6\" >0.456</td> \n",
       "        <td id=\"T_355ca34c_5f28_11e9_96fa_988389d0865erow8_col7\" class=\"data row8 col7\" >-0.4946</td> \n",
       "        <td id=\"T_355ca34c_5f28_11e9_96fa_988389d0865erow8_col8\" class=\"data row8 col8\" >1</td> \n",
       "        <td id=\"T_355ca34c_5f28_11e9_96fa_988389d0865erow8_col9\" class=\"data row8 col9\" >0.9102</td> \n",
       "        <td id=\"T_355ca34c_5f28_11e9_96fa_988389d0865erow8_col10\" class=\"data row8 col10\" >0.4647</td> \n",
       "        <td id=\"T_355ca34c_5f28_11e9_96fa_988389d0865erow8_col11\" class=\"data row8 col11\" >-0.4444</td> \n",
       "        <td id=\"T_355ca34c_5f28_11e9_96fa_988389d0865erow8_col12\" class=\"data row8 col12\" >0.4887</td> \n",
       "        <td id=\"T_355ca34c_5f28_11e9_96fa_988389d0865erow8_col13\" class=\"data row8 col13\" >-0.3816</td> \n",
       "    </tr>    <tr> \n",
       "        <th id=\"T_355ca34c_5f28_11e9_96fa_988389d0865elevel0_row9\" class=\"row_heading level0 row9\" >TAX</th> \n",
       "        <td id=\"T_355ca34c_5f28_11e9_96fa_988389d0865erow9_col0\" class=\"data row9 col0\" >0.5828</td> \n",
       "        <td id=\"T_355ca34c_5f28_11e9_96fa_988389d0865erow9_col1\" class=\"data row9 col1\" >-0.3146</td> \n",
       "        <td id=\"T_355ca34c_5f28_11e9_96fa_988389d0865erow9_col2\" class=\"data row9 col2\" >0.7208</td> \n",
       "        <td id=\"T_355ca34c_5f28_11e9_96fa_988389d0865erow9_col3\" class=\"data row9 col3\" >-0.03559</td> \n",
       "        <td id=\"T_355ca34c_5f28_11e9_96fa_988389d0865erow9_col4\" class=\"data row9 col4\" >0.668</td> \n",
       "        <td id=\"T_355ca34c_5f28_11e9_96fa_988389d0865erow9_col5\" class=\"data row9 col5\" >-0.292</td> \n",
       "        <td id=\"T_355ca34c_5f28_11e9_96fa_988389d0865erow9_col6\" class=\"data row9 col6\" >0.5065</td> \n",
       "        <td id=\"T_355ca34c_5f28_11e9_96fa_988389d0865erow9_col7\" class=\"data row9 col7\" >-0.5344</td> \n",
       "        <td id=\"T_355ca34c_5f28_11e9_96fa_988389d0865erow9_col8\" class=\"data row9 col8\" >0.9102</td> \n",
       "        <td id=\"T_355ca34c_5f28_11e9_96fa_988389d0865erow9_col9\" class=\"data row9 col9\" >1</td> \n",
       "        <td id=\"T_355ca34c_5f28_11e9_96fa_988389d0865erow9_col10\" class=\"data row9 col10\" >0.4609</td> \n",
       "        <td id=\"T_355ca34c_5f28_11e9_96fa_988389d0865erow9_col11\" class=\"data row9 col11\" >-0.4418</td> \n",
       "        <td id=\"T_355ca34c_5f28_11e9_96fa_988389d0865erow9_col12\" class=\"data row9 col12\" >0.544</td> \n",
       "        <td id=\"T_355ca34c_5f28_11e9_96fa_988389d0865erow9_col13\" class=\"data row9 col13\" >-0.4685</td> \n",
       "    </tr>    <tr> \n",
       "        <th id=\"T_355ca34c_5f28_11e9_96fa_988389d0865elevel0_row10\" class=\"row_heading level0 row10\" >PTRATIO</th> \n",
       "        <td id=\"T_355ca34c_5f28_11e9_96fa_988389d0865erow10_col0\" class=\"data row10 col0\" >0.2899</td> \n",
       "        <td id=\"T_355ca34c_5f28_11e9_96fa_988389d0865erow10_col1\" class=\"data row10 col1\" >-0.3917</td> \n",
       "        <td id=\"T_355ca34c_5f28_11e9_96fa_988389d0865erow10_col2\" class=\"data row10 col2\" >0.3832</td> \n",
       "        <td id=\"T_355ca34c_5f28_11e9_96fa_988389d0865erow10_col3\" class=\"data row10 col3\" >-0.1215</td> \n",
       "        <td id=\"T_355ca34c_5f28_11e9_96fa_988389d0865erow10_col4\" class=\"data row10 col4\" >0.1889</td> \n",
       "        <td id=\"T_355ca34c_5f28_11e9_96fa_988389d0865erow10_col5\" class=\"data row10 col5\" >-0.3555</td> \n",
       "        <td id=\"T_355ca34c_5f28_11e9_96fa_988389d0865erow10_col6\" class=\"data row10 col6\" >0.2615</td> \n",
       "        <td id=\"T_355ca34c_5f28_11e9_96fa_988389d0865erow10_col7\" class=\"data row10 col7\" >-0.2325</td> \n",
       "        <td id=\"T_355ca34c_5f28_11e9_96fa_988389d0865erow10_col8\" class=\"data row10 col8\" >0.4647</td> \n",
       "        <td id=\"T_355ca34c_5f28_11e9_96fa_988389d0865erow10_col9\" class=\"data row10 col9\" >0.4609</td> \n",
       "        <td id=\"T_355ca34c_5f28_11e9_96fa_988389d0865erow10_col10\" class=\"data row10 col10\" >1</td> \n",
       "        <td id=\"T_355ca34c_5f28_11e9_96fa_988389d0865erow10_col11\" class=\"data row10 col11\" >-0.1774</td> \n",
       "        <td id=\"T_355ca34c_5f28_11e9_96fa_988389d0865erow10_col12\" class=\"data row10 col12\" >0.374</td> \n",
       "        <td id=\"T_355ca34c_5f28_11e9_96fa_988389d0865erow10_col13\" class=\"data row10 col13\" >-0.5078</td> \n",
       "    </tr>    <tr> \n",
       "        <th id=\"T_355ca34c_5f28_11e9_96fa_988389d0865elevel0_row11\" class=\"row_heading level0 row11\" >B</th> \n",
       "        <td id=\"T_355ca34c_5f28_11e9_96fa_988389d0865erow11_col0\" class=\"data row11 col0\" >-0.3851</td> \n",
       "        <td id=\"T_355ca34c_5f28_11e9_96fa_988389d0865erow11_col1\" class=\"data row11 col1\" >0.1755</td> \n",
       "        <td id=\"T_355ca34c_5f28_11e9_96fa_988389d0865erow11_col2\" class=\"data row11 col2\" >-0.357</td> \n",
       "        <td id=\"T_355ca34c_5f28_11e9_96fa_988389d0865erow11_col3\" class=\"data row11 col3\" >0.04879</td> \n",
       "        <td id=\"T_355ca34c_5f28_11e9_96fa_988389d0865erow11_col4\" class=\"data row11 col4\" >-0.3801</td> \n",
       "        <td id=\"T_355ca34c_5f28_11e9_96fa_988389d0865erow11_col5\" class=\"data row11 col5\" >0.1281</td> \n",
       "        <td id=\"T_355ca34c_5f28_11e9_96fa_988389d0865erow11_col6\" class=\"data row11 col6\" >-0.2735</td> \n",
       "        <td id=\"T_355ca34c_5f28_11e9_96fa_988389d0865erow11_col7\" class=\"data row11 col7\" >0.2915</td> \n",
       "        <td id=\"T_355ca34c_5f28_11e9_96fa_988389d0865erow11_col8\" class=\"data row11 col8\" >-0.4444</td> \n",
       "        <td id=\"T_355ca34c_5f28_11e9_96fa_988389d0865erow11_col9\" class=\"data row11 col9\" >-0.4418</td> \n",
       "        <td id=\"T_355ca34c_5f28_11e9_96fa_988389d0865erow11_col10\" class=\"data row11 col10\" >-0.1774</td> \n",
       "        <td id=\"T_355ca34c_5f28_11e9_96fa_988389d0865erow11_col11\" class=\"data row11 col11\" >1</td> \n",
       "        <td id=\"T_355ca34c_5f28_11e9_96fa_988389d0865erow11_col12\" class=\"data row11 col12\" >-0.3661</td> \n",
       "        <td id=\"T_355ca34c_5f28_11e9_96fa_988389d0865erow11_col13\" class=\"data row11 col13\" >0.3335</td> \n",
       "    </tr>    <tr> \n",
       "        <th id=\"T_355ca34c_5f28_11e9_96fa_988389d0865elevel0_row12\" class=\"row_heading level0 row12\" >LSTAT</th> \n",
       "        <td id=\"T_355ca34c_5f28_11e9_96fa_988389d0865erow12_col0\" class=\"data row12 col0\" >0.4556</td> \n",
       "        <td id=\"T_355ca34c_5f28_11e9_96fa_988389d0865erow12_col1\" class=\"data row12 col1\" >-0.413</td> \n",
       "        <td id=\"T_355ca34c_5f28_11e9_96fa_988389d0865erow12_col2\" class=\"data row12 col2\" >0.6038</td> \n",
       "        <td id=\"T_355ca34c_5f28_11e9_96fa_988389d0865erow12_col3\" class=\"data row12 col3\" >-0.05393</td> \n",
       "        <td id=\"T_355ca34c_5f28_11e9_96fa_988389d0865erow12_col4\" class=\"data row12 col4\" >0.5909</td> \n",
       "        <td id=\"T_355ca34c_5f28_11e9_96fa_988389d0865erow12_col5\" class=\"data row12 col5\" >-0.6138</td> \n",
       "        <td id=\"T_355ca34c_5f28_11e9_96fa_988389d0865erow12_col6\" class=\"data row12 col6\" >0.6023</td> \n",
       "        <td id=\"T_355ca34c_5f28_11e9_96fa_988389d0865erow12_col7\" class=\"data row12 col7\" >-0.497</td> \n",
       "        <td id=\"T_355ca34c_5f28_11e9_96fa_988389d0865erow12_col8\" class=\"data row12 col8\" >0.4887</td> \n",
       "        <td id=\"T_355ca34c_5f28_11e9_96fa_988389d0865erow12_col9\" class=\"data row12 col9\" >0.544</td> \n",
       "        <td id=\"T_355ca34c_5f28_11e9_96fa_988389d0865erow12_col10\" class=\"data row12 col10\" >0.374</td> \n",
       "        <td id=\"T_355ca34c_5f28_11e9_96fa_988389d0865erow12_col11\" class=\"data row12 col11\" >-0.3661</td> \n",
       "        <td id=\"T_355ca34c_5f28_11e9_96fa_988389d0865erow12_col12\" class=\"data row12 col12\" >1</td> \n",
       "        <td id=\"T_355ca34c_5f28_11e9_96fa_988389d0865erow12_col13\" class=\"data row12 col13\" >-0.7377</td> \n",
       "    </tr>    <tr> \n",
       "        <th id=\"T_355ca34c_5f28_11e9_96fa_988389d0865elevel0_row13\" class=\"row_heading level0 row13\" >MEDV</th> \n",
       "        <td id=\"T_355ca34c_5f28_11e9_96fa_988389d0865erow13_col0\" class=\"data row13 col0\" >-0.3883</td> \n",
       "        <td id=\"T_355ca34c_5f28_11e9_96fa_988389d0865erow13_col1\" class=\"data row13 col1\" >0.3604</td> \n",
       "        <td id=\"T_355ca34c_5f28_11e9_96fa_988389d0865erow13_col2\" class=\"data row13 col2\" >-0.4837</td> \n",
       "        <td id=\"T_355ca34c_5f28_11e9_96fa_988389d0865erow13_col3\" class=\"data row13 col3\" >0.1753</td> \n",
       "        <td id=\"T_355ca34c_5f28_11e9_96fa_988389d0865erow13_col4\" class=\"data row13 col4\" >-0.4273</td> \n",
       "        <td id=\"T_355ca34c_5f28_11e9_96fa_988389d0865erow13_col5\" class=\"data row13 col5\" >0.6954</td> \n",
       "        <td id=\"T_355ca34c_5f28_11e9_96fa_988389d0865erow13_col6\" class=\"data row13 col6\" >-0.377</td> \n",
       "        <td id=\"T_355ca34c_5f28_11e9_96fa_988389d0865erow13_col7\" class=\"data row13 col7\" >0.2499</td> \n",
       "        <td id=\"T_355ca34c_5f28_11e9_96fa_988389d0865erow13_col8\" class=\"data row13 col8\" >-0.3816</td> \n",
       "        <td id=\"T_355ca34c_5f28_11e9_96fa_988389d0865erow13_col9\" class=\"data row13 col9\" >-0.4685</td> \n",
       "        <td id=\"T_355ca34c_5f28_11e9_96fa_988389d0865erow13_col10\" class=\"data row13 col10\" >-0.5078</td> \n",
       "        <td id=\"T_355ca34c_5f28_11e9_96fa_988389d0865erow13_col11\" class=\"data row13 col11\" >0.3335</td> \n",
       "        <td id=\"T_355ca34c_5f28_11e9_96fa_988389d0865erow13_col12\" class=\"data row13 col12\" >-0.7377</td> \n",
       "        <td id=\"T_355ca34c_5f28_11e9_96fa_988389d0865erow13_col13\" class=\"data row13 col13\" >1</td> \n",
       "    </tr></tbody> \n",
       "</table> "
      ],
      "text/plain": [
       "<pandas.io.formats.style.Styler at 0x201530c7fd0>"
      ]
     },
     "execution_count": 10,
     "metadata": {},
     "output_type": "execute_result"
    }
   ],
   "source": [
    "## Show correlation\n",
    "df.corr().style.background_gradient(cmap='RdYlGn').set_precision(4)"
   ]
  },
  {
   "cell_type": "markdown",
   "metadata": {},
   "source": [
    "### Separation between features"
   ]
  },
  {
   "cell_type": "code",
   "execution_count": 11,
   "metadata": {},
   "outputs": [],
   "source": [
    "X = df.values[:, :13]\n",
    "y = df.values[:, 13]"
   ]
  },
  {
   "cell_type": "markdown",
   "metadata": {},
   "source": [
    "### Random data using seed"
   ]
  },
  {
   "cell_type": "code",
   "execution_count": 12,
   "metadata": {},
   "outputs": [
    {
     "data": {
      "text/plain": [
       "array([307, 343,  47,  67, 362, 132, 292,  31, 218,  90, 481, 344, 119,\n",
       "        66, 312, 407, 376, 225, 201, 147, 315, 146, 314, 324,  65, 425,\n",
       "        34, 345, 261, 389, 351, 245, 204, 447, 330, 494, 446,   4, 406])"
      ]
     },
     "execution_count": 12,
     "metadata": {},
     "output_type": "execute_result"
    }
   ],
   "source": [
    "rs = np.random.RandomState(1)\n",
    "shuffled_indices = rs.permutation(X.shape[0])\n",
    "#showing the first 39 indices shuffled\n",
    "shuffled_indices[:39]"
   ]
  },
  {
   "cell_type": "code",
   "execution_count": 13,
   "metadata": {},
   "outputs": [],
   "source": [
    "## Updating X and y to new shuffled values\n",
    "X = X[shuffled_indices]\n",
    "y = y[shuffled_indices]\n",
    "\n",
    "## normalizar depois x_train e x_test \n",
    "## e não standardizar ou normalizar o y\n"
   ]
  },
  {
   "cell_type": "code",
   "execution_count": 14,
   "metadata": {},
   "outputs": [
    {
     "data": {
      "text/plain": [
       "array([[4.93200e-02, 3.30000e+01, 2.18000e+00, 0.00000e+00, 4.72000e-01,\n",
       "        6.84900e+00, 7.03000e+01, 3.18270e+00, 7.00000e+00, 2.22000e+02,\n",
       "        1.84000e+01, 3.96900e+02, 7.53000e+00],\n",
       "       [2.54300e-02, 5.50000e+01, 3.78000e+00, 0.00000e+00, 4.84000e-01,\n",
       "        6.69600e+00, 5.64000e+01, 5.73210e+00, 5.00000e+00, 3.70000e+02,\n",
       "        1.76000e+01, 3.96900e+02, 7.18000e+00],\n",
       "       [2.29270e-01, 0.00000e+00, 6.91000e+00, 0.00000e+00, 4.48000e-01,\n",
       "        6.03000e+00, 8.55000e+01, 5.68940e+00, 3.00000e+00, 2.33000e+02,\n",
       "        1.79000e+01, 3.92740e+02, 1.88000e+01],\n",
       "       [5.78900e-02, 1.25000e+01, 6.07000e+00, 0.00000e+00, 4.09000e-01,\n",
       "        5.87800e+00, 2.14000e+01, 6.49800e+00, 4.00000e+00, 3.45000e+02,\n",
       "        1.89000e+01, 3.96210e+02, 8.10000e+00],\n",
       "       [3.67822e+00, 0.00000e+00, 1.81000e+01, 0.00000e+00, 7.70000e-01,\n",
       "        5.36200e+00, 9.62000e+01, 2.10360e+00, 2.40000e+01, 6.66000e+02,\n",
       "        2.02000e+01, 3.80790e+02, 1.01900e+01]])"
      ]
     },
     "execution_count": 14,
     "metadata": {},
     "output_type": "execute_result"
    }
   ],
   "source": [
    "## Showing 5 first samples of X\n",
    "X[:5]"
   ]
  },
  {
   "cell_type": "markdown",
   "metadata": {},
   "source": [
    "### Setting dataset for trainning and test"
   ]
  },
  {
   "cell_type": "code",
   "execution_count": 15,
   "metadata": {},
   "outputs": [],
   "source": [
    "n = int(round(len(y) * 0.70))\n",
    "X_train = X[:n]\n",
    "y_train = y[:n]\n",
    "X_test = X[n:]\n",
    "y_test = y[n:]\n",
    "\n",
    "# defining train and test for X normalized\n",
    "X_train_norm = std_norm.normalize(X[:n])\n",
    "# X_test_norm = std_norm.normalize(X[n:])\n",
    "\n",
    "# defining train and test for X standardized\n",
    "X_train_std = std_norm.standardize(X[:n])\n",
    "# X_test_std = std_norm.standardize(X[n:])"
   ]
  },
  {
   "cell_type": "code",
   "execution_count": 16,
   "metadata": {
    "scrolled": true
   },
   "outputs": [
    {
     "data": {
      "text/plain": [
       "((506, 13), (506,), (354, 13), (354,), (152, 13), (152,))"
      ]
     },
     "execution_count": 16,
     "metadata": {},
     "output_type": "execute_result"
    }
   ],
   "source": [
    "X.shape, y.shape, X_train.shape, y_train.shape, X_test.shape, y_test.shape"
   ]
  },
  {
   "cell_type": "code",
   "execution_count": 17,
   "metadata": {},
   "outputs": [
    {
     "data": {
      "text/plain": [
       "array([[4.93200e-02, 3.30000e+01, 2.18000e+00, ..., 1.84000e+01,\n",
       "        3.96900e+02, 7.53000e+00],\n",
       "       [2.54300e-02, 5.50000e+01, 3.78000e+00, ..., 1.76000e+01,\n",
       "        3.96900e+02, 7.18000e+00],\n",
       "       [2.29270e-01, 0.00000e+00, 6.91000e+00, ..., 1.79000e+01,\n",
       "        3.92740e+02, 1.88000e+01],\n",
       "       ...,\n",
       "       [4.54192e+00, 0.00000e+00, 1.81000e+01, ..., 2.02000e+01,\n",
       "        3.74560e+02, 7.79000e+00],\n",
       "       [3.56868e+00, 0.00000e+00, 1.81000e+01, ..., 2.02000e+01,\n",
       "        3.93370e+02, 1.43600e+01],\n",
       "       [9.10300e-02, 0.00000e+00, 2.46000e+00, ..., 1.78000e+01,\n",
       "        3.94120e+02, 4.82000e+00]])"
      ]
     },
     "execution_count": 17,
     "metadata": {},
     "output_type": "execute_result"
    }
   ],
   "source": [
    "X_train"
   ]
  },
  {
   "cell_type": "code",
   "execution_count": 18,
   "metadata": {},
   "outputs": [
    {
     "data": {
      "text/plain": [
       "array([[-0.41830914,  0.96001193, -1.31413135, ..., -0.06859077,\n",
       "         0.45546789, -0.70083121],\n",
       "       [-0.42106172,  1.91928483, -1.07918134, ..., -0.45248223,\n",
       "         0.45546789, -0.75049774],\n",
       "       [-0.39757552, -0.47889741, -0.61956037, ..., -0.30852293,\n",
       "         0.41310181,  0.89843104],\n",
       "       ...,\n",
       "       [ 0.09932289, -0.47889741,  1.0236213 , ...,  0.79516499,\n",
       "         0.22795388, -0.66393608],\n",
       "       [-0.01281266, -0.47889741,  1.0236213 , ...,  0.79516499,\n",
       "         0.41951782,  0.26837564],\n",
       "       [-0.41350336, -0.47889741, -1.2730151 , ..., -0.35650936,\n",
       "         0.42715594, -1.08539206]])"
      ]
     },
     "execution_count": 18,
     "metadata": {},
     "output_type": "execute_result"
    }
   ],
   "source": [
    "X_train_std"
   ]
  },
  {
   "cell_type": "markdown",
   "metadata": {},
   "source": [
    "### Calculating average for testing"
   ]
  },
  {
   "cell_type": "markdown",
   "metadata": {},
   "source": [
    "### ---------------------------------------------------------------------------------------------------------------------------------"
   ]
  },
  {
   "cell_type": "code",
   "execution_count": 19,
   "metadata": {},
   "outputs": [
    {
     "data": {
      "text/plain": [
       "(69.99891393741851, 22.5274011299435)"
      ]
     },
     "execution_count": 19,
     "metadata": {},
     "output_type": "execute_result"
    }
   ],
   "source": [
    "np.average(X_train), np.average(y_train)"
   ]
  },
  {
   "cell_type": "code",
   "execution_count": 20,
   "metadata": {},
   "outputs": [
    {
     "data": {
      "text/plain": [
       "(70.24876178137652, 22.545394736842105)"
      ]
     },
     "execution_count": 20,
     "metadata": {},
     "output_type": "execute_result"
    }
   ],
   "source": [
    "np.average(X_test), np.average(y_test)"
   ]
  },
  {
   "cell_type": "markdown",
   "metadata": {},
   "source": [
    "# Creating train and validation of models using RMSE metric"
   ]
  },
  {
   "cell_type": "markdown",
   "metadata": {},
   "source": [
    "### Used classifiers:"
   ]
  },
  {
   "cell_type": "markdown",
   "metadata": {},
   "source": [
    "- Regressão Linear com Gradiente Descendente - ml_libs\n",
    "- Linear Regression - Scikit\n",
    "- Stochastic Gradient Descent Regressor (SGDRegressor) do Scikit-Learn"
   ]
  },
  {
   "cell_type": "markdown",
   "metadata": {},
   "source": [
    "### Test"
   ]
  },
  {
   "cell_type": "code",
   "execution_count": 21,
   "metadata": {},
   "outputs": [],
   "source": [
    "'''Setting model variables'''\n",
    "model_RLGD = RLGD.LinearRegressionGD()\n",
    "model_Linear_Regression = linear_model.LinearRegression()\n",
    "model_SGDRegressor = linear_model.SGDRegressor(max_iter=1000, tol=1e-3)\n",
    "\n",
    "'''Setting model variables normalized'''\n",
    "model_RLGD_norm = RLGD.LinearRegressionGD()\n",
    "model_Linear_Regression_norm = linear_model.LinearRegression()\n",
    "model_SGDRegressor_norm = linear_model.SGDRegressor(max_iter=1000, tol=1e-3)\n",
    "\n",
    "'''Setting model variables standardized'''\n",
    "model_RLGD_std = RLGD.LinearRegressionGD()\n",
    "model_Linear_Regression_std = linear_model.LinearRegression()\n",
    "model_SGDRegressor_std = linear_model.SGDRegressor(max_iter=1000, tol=1e-3)"
   ]
  },
  {
   "cell_type": "markdown",
   "metadata": {},
   "source": [
    "## -----------------------------------------------------------------------------------------------------------------------------"
   ]
  },
  {
   "cell_type": "markdown",
   "metadata": {},
   "source": [
    "### Trainning models"
   ]
  },
  {
   "cell_type": "code",
   "execution_count": 22,
   "metadata": {},
   "outputs": [],
   "source": [
    "'''Trainning models normaly'''\n",
    "model_RLGD.fit(X_train, y_train)\n",
    "model_Linear_Regression.fit(X_train, y_train)\n",
    "model_SGDRegressor.fit(X_train, y_train)\n",
    "\n",
    "'''Trainning models with normatization'''\n",
    "model_RLGD_norm.fit(X_train_norm, y_train)\n",
    "model_Linear_Regression_norm.fit(X_train_norm, y_train)\n",
    "model_SGDRegressor_norm.fit(X_train_norm, y_train)\n",
    "\n",
    "'''Trainning models with standardization'''\n",
    "model_RLGD_std.fit(X_train_std, y_train)\n",
    "model_Linear_Regression_std.fit(X_train_std, y_train)\n",
    "model_SGDRegressor_std.fit(X_train_std, y_train);"
   ]
  },
  {
   "cell_type": "markdown",
   "metadata": {},
   "source": [
    "## ---------------------------------------------------------------------------------------------------------------------------------"
   ]
  },
  {
   "cell_type": "markdown",
   "metadata": {},
   "source": [
    "## Make predictions"
   ]
  },
  {
   "cell_type": "code",
   "execution_count": 24,
   "metadata": {},
   "outputs": [],
   "source": [
    "'''Make predictions with X_test normaly'''\n",
    "pred_RLGD = model_RLGD.predict(X_test)\n",
    "pred_Linear_Regression = model_Linear_Regression.predict(X_test)\n",
    "pred_SGDRegression = model_SGDRegressor.predict(X_test)\n",
    "\n",
    "'''Make predictions with X_test normatized'''\n",
    "pred_RLGD_norm = model_RLGD.predict(X_test)\n",
    "pred_Linear_Regression_norm = model_Linear_Regression.predict(X_test)\n",
    "pred_SGDRegression_norm = model_SGDRegressor.predict(X_test)\n",
    "\n",
    "'''Make predictions with X_test standardized'''\n",
    "pred_RLGD_std = model_RLGD.predict(X_test)\n",
    "pred_Linear_Regression_std = model_Linear_Regression.predict(X_test)\n",
    "pred_SGDRegression_std = model_SGDRegressor.predict(X_test)"
   ]
  },
  {
   "cell_type": "markdown",
   "metadata": {},
   "source": [
    "## ---------------------------------------------------------------------------------------------------------------------------------"
   ]
  },
  {
   "cell_type": "markdown",
   "metadata": {},
   "source": [
    "## Results"
   ]
  },
  {
   "cell_type": "markdown",
   "metadata": {},
   "source": [
    "### RLGD - LinearRegressionGD"
   ]
  },
  {
   "cell_type": "code",
   "execution_count": 35,
   "metadata": {
    "scrolled": true
   },
   "outputs": [
    {
     "data": {
      "text/plain": [
       "0.0"
      ]
     },
     "execution_count": 35,
     "metadata": {},
     "output_type": "execute_result"
    }
   ],
   "source": [
    "#RMSE\n",
    "print(metricas.rmse(y_test, pred_RLGD))"
   ]
  },
  {
   "cell_type": "code",
   "execution_count": 26,
   "metadata": {},
   "outputs": [
    {
     "name": "stdout",
     "output_type": "stream",
     "text": [
      "1.6550731057090165e+102\n"
     ]
    }
   ],
   "source": [
    "#RMSE of model normalized\n",
    "print(metricas.rmse(y_test, pred_RLGD_norm))"
   ]
  },
  {
   "cell_type": "code",
   "execution_count": 27,
   "metadata": {},
   "outputs": [
    {
     "name": "stdout",
     "output_type": "stream",
     "text": [
      "1.6550731057090165e+102\n"
     ]
    }
   ],
   "source": [
    "#RMSE of model standardized\n",
    "print(metricas.rmse(y_test, pred_RLGD_std))"
   ]
  },
  {
   "cell_type": "markdown",
   "metadata": {},
   "source": [
    "### Linear Regression"
   ]
  },
  {
   "cell_type": "code",
   "execution_count": 28,
   "metadata": {
    "scrolled": false
   },
   "outputs": [
    {
     "name": "stdout",
     "output_type": "stream",
     "text": [
      "5.426876664838218\n"
     ]
    }
   ],
   "source": [
    "#RMSE\n",
    "print(metricas.rmse(y_test, pred_Linear_Regression))"
   ]
  },
  {
   "cell_type": "code",
   "execution_count": 29,
   "metadata": {},
   "outputs": [
    {
     "name": "stdout",
     "output_type": "stream",
     "text": [
      "5.426876664838218\n"
     ]
    }
   ],
   "source": [
    "#RMSE of model normalized\n",
    "print(metricas.rmse(y_test, pred_Linear_Regression_norm))"
   ]
  },
  {
   "cell_type": "code",
   "execution_count": 30,
   "metadata": {},
   "outputs": [
    {
     "name": "stdout",
     "output_type": "stream",
     "text": [
      "5.426876664838218\n"
     ]
    }
   ],
   "source": [
    "#RMSE of model standardized\n",
    "print(metricas.rmse(y_test, pred_Linear_Regression_std))"
   ]
  },
  {
   "cell_type": "markdown",
   "metadata": {},
   "source": [
    "### SGDRegression"
   ]
  },
  {
   "cell_type": "code",
   "execution_count": 31,
   "metadata": {},
   "outputs": [
    {
     "name": "stdout",
     "output_type": "stream",
     "text": [
      "102873494412875.39\n"
     ]
    }
   ],
   "source": [
    "#RMSE\n",
    "print(metricas.rmse(y_test, pred_SGDRegression))"
   ]
  },
  {
   "cell_type": "code",
   "execution_count": 32,
   "metadata": {},
   "outputs": [
    {
     "name": "stdout",
     "output_type": "stream",
     "text": [
      "102873494412875.39\n"
     ]
    }
   ],
   "source": [
    "#RMSE of model normalized\n",
    "print(metricas.rmse(y_test, pred_SGDRegression_norm))"
   ]
  },
  {
   "cell_type": "code",
   "execution_count": 33,
   "metadata": {
    "scrolled": true
   },
   "outputs": [
    {
     "name": "stdout",
     "output_type": "stream",
     "text": [
      "102873494412875.39\n"
     ]
    }
   ],
   "source": [
    "#RMSE of model standardized\n",
    "print(metricas.rmse(y_test, pred_SGDRegression_std))"
   ]
  }
 ],
 "metadata": {
  "kernelspec": {
   "display_name": "Python 3",
   "language": "python",
   "name": "python3"
  },
  "language_info": {
   "codemirror_mode": {
    "name": "ipython",
    "version": 3
   },
   "file_extension": ".py",
   "mimetype": "text/x-python",
   "name": "python",
   "nbconvert_exporter": "python",
   "pygments_lexer": "ipython3",
   "version": "3.7.1"
  }
 },
 "nbformat": 4,
 "nbformat_minor": 2
}
