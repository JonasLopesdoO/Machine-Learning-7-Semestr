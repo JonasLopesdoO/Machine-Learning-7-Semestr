{
 "cells": [
  {
   "cell_type": "markdown",
   "metadata": {},
   "source": [
    " # Iris DataSet - Classificação "
   ]
  },
  {
   "cell_type": "markdown",
   "metadata": {},
   "source": [
    "DataSet for 3 kind of Iris flowers: Virginica, Setosa and Versicolor. \n",
    "Separated linearly."
   ]
  },
  {
   "cell_type": "markdown",
   "metadata": {},
   "source": [
    "### Import Libraries"
   ]
  },
  {
   "cell_type": "code",
   "execution_count": 73,
   "metadata": {},
   "outputs": [],
   "source": [
    "%matplotlib inline\n",
    "import pandas as pd\n",
    "import numpy as np\n",
    "from matplotlib import pyplot as plt\n",
    "from sklearn import model_selection\n",
    "from sklearn import linear_model\n",
    "from sklearn.neighbors import KNeighborsClassifier\n",
    "from sklearn import metrics\n",
    "from sklearn import ensemble\n",
    "from sklearn import tree\n",
    "from sklearn import svm\n",
    "from sklearn import neighbors\n",
    "from sklearn import naive_bayes"
   ]
  },
  {
   "cell_type": "markdown",
   "metadata": {},
   "source": [
    "### Setting and loading dataset columns"
   ]
  },
  {
   "cell_type": "code",
   "execution_count": 74,
   "metadata": {},
   "outputs": [],
   "source": [
    "columns = ['sepal_length','sepal_width',\n",
    "           'petal_length', 'petal_width',\n",
    "           'type']\n",
    "data = pd.read_csv('iris_dataset.csv',names=columns)"
   ]
  },
  {
   "cell_type": "code",
   "execution_count": 75,
   "metadata": {
    "scrolled": true
   },
   "outputs": [
    {
     "data": {
      "text/html": [
       "<div>\n",
       "<style scoped>\n",
       "    .dataframe tbody tr th:only-of-type {\n",
       "        vertical-align: middle;\n",
       "    }\n",
       "\n",
       "    .dataframe tbody tr th {\n",
       "        vertical-align: top;\n",
       "    }\n",
       "\n",
       "    .dataframe thead th {\n",
       "        text-align: right;\n",
       "    }\n",
       "</style>\n",
       "<table border=\"1\" class=\"dataframe\">\n",
       "  <thead>\n",
       "    <tr style=\"text-align: right;\">\n",
       "      <th></th>\n",
       "      <th>sepal_length</th>\n",
       "      <th>sepal_width</th>\n",
       "      <th>petal_length</th>\n",
       "      <th>petal_width</th>\n",
       "      <th>type</th>\n",
       "    </tr>\n",
       "  </thead>\n",
       "  <tbody>\n",
       "    <tr>\n",
       "      <th>0</th>\n",
       "      <td>5.1</td>\n",
       "      <td>3.5</td>\n",
       "      <td>1.4</td>\n",
       "      <td>0.2</td>\n",
       "      <td>Iris-setosa</td>\n",
       "    </tr>\n",
       "    <tr>\n",
       "      <th>1</th>\n",
       "      <td>4.9</td>\n",
       "      <td>3.0</td>\n",
       "      <td>1.4</td>\n",
       "      <td>0.2</td>\n",
       "      <td>Iris-setosa</td>\n",
       "    </tr>\n",
       "    <tr>\n",
       "      <th>2</th>\n",
       "      <td>4.7</td>\n",
       "      <td>3.2</td>\n",
       "      <td>1.3</td>\n",
       "      <td>0.2</td>\n",
       "      <td>Iris-setosa</td>\n",
       "    </tr>\n",
       "    <tr>\n",
       "      <th>3</th>\n",
       "      <td>4.6</td>\n",
       "      <td>3.1</td>\n",
       "      <td>1.5</td>\n",
       "      <td>0.2</td>\n",
       "      <td>Iris-setosa</td>\n",
       "    </tr>\n",
       "    <tr>\n",
       "      <th>4</th>\n",
       "      <td>5.0</td>\n",
       "      <td>3.6</td>\n",
       "      <td>1.4</td>\n",
       "      <td>0.2</td>\n",
       "      <td>Iris-setosa</td>\n",
       "    </tr>\n",
       "    <tr>\n",
       "      <th>5</th>\n",
       "      <td>5.4</td>\n",
       "      <td>3.9</td>\n",
       "      <td>1.7</td>\n",
       "      <td>0.4</td>\n",
       "      <td>Iris-setosa</td>\n",
       "    </tr>\n",
       "    <tr>\n",
       "      <th>6</th>\n",
       "      <td>4.6</td>\n",
       "      <td>3.4</td>\n",
       "      <td>1.4</td>\n",
       "      <td>0.3</td>\n",
       "      <td>Iris-setosa</td>\n",
       "    </tr>\n",
       "    <tr>\n",
       "      <th>7</th>\n",
       "      <td>5.0</td>\n",
       "      <td>3.4</td>\n",
       "      <td>1.5</td>\n",
       "      <td>0.2</td>\n",
       "      <td>Iris-setosa</td>\n",
       "    </tr>\n",
       "    <tr>\n",
       "      <th>8</th>\n",
       "      <td>4.4</td>\n",
       "      <td>2.9</td>\n",
       "      <td>1.4</td>\n",
       "      <td>0.2</td>\n",
       "      <td>Iris-setosa</td>\n",
       "    </tr>\n",
       "    <tr>\n",
       "      <th>9</th>\n",
       "      <td>4.9</td>\n",
       "      <td>3.1</td>\n",
       "      <td>1.5</td>\n",
       "      <td>0.1</td>\n",
       "      <td>Iris-setosa</td>\n",
       "    </tr>\n",
       "  </tbody>\n",
       "</table>\n",
       "</div>"
      ],
      "text/plain": [
       "   sepal_length  sepal_width  petal_length  petal_width         type\n",
       "0           5.1          3.5           1.4          0.2  Iris-setosa\n",
       "1           4.9          3.0           1.4          0.2  Iris-setosa\n",
       "2           4.7          3.2           1.3          0.2  Iris-setosa\n",
       "3           4.6          3.1           1.5          0.2  Iris-setosa\n",
       "4           5.0          3.6           1.4          0.2  Iris-setosa\n",
       "5           5.4          3.9           1.7          0.4  Iris-setosa\n",
       "6           4.6          3.4           1.4          0.3  Iris-setosa\n",
       "7           5.0          3.4           1.5          0.2  Iris-setosa\n",
       "8           4.4          2.9           1.4          0.2  Iris-setosa\n",
       "9           4.9          3.1           1.5          0.1  Iris-setosa"
      ]
     },
     "execution_count": 75,
     "metadata": {},
     "output_type": "execute_result"
    }
   ],
   "source": [
    "data.head(10)"
   ]
  },
  {
   "cell_type": "code",
   "execution_count": 76,
   "metadata": {},
   "outputs": [
    {
     "data": {
      "text/html": [
       "<div>\n",
       "<style scoped>\n",
       "    .dataframe tbody tr th:only-of-type {\n",
       "        vertical-align: middle;\n",
       "    }\n",
       "\n",
       "    .dataframe tbody tr th {\n",
       "        vertical-align: top;\n",
       "    }\n",
       "\n",
       "    .dataframe thead th {\n",
       "        text-align: right;\n",
       "    }\n",
       "</style>\n",
       "<table border=\"1\" class=\"dataframe\">\n",
       "  <thead>\n",
       "    <tr style=\"text-align: right;\">\n",
       "      <th></th>\n",
       "      <th>sepal_length</th>\n",
       "      <th>sepal_width</th>\n",
       "      <th>petal_length</th>\n",
       "      <th>petal_width</th>\n",
       "    </tr>\n",
       "  </thead>\n",
       "  <tbody>\n",
       "    <tr>\n",
       "      <th>count</th>\n",
       "      <td>150.000000</td>\n",
       "      <td>150.000000</td>\n",
       "      <td>150.000000</td>\n",
       "      <td>150.000000</td>\n",
       "    </tr>\n",
       "    <tr>\n",
       "      <th>mean</th>\n",
       "      <td>5.843333</td>\n",
       "      <td>3.057333</td>\n",
       "      <td>3.758000</td>\n",
       "      <td>1.199333</td>\n",
       "    </tr>\n",
       "    <tr>\n",
       "      <th>std</th>\n",
       "      <td>0.828066</td>\n",
       "      <td>0.435866</td>\n",
       "      <td>1.765298</td>\n",
       "      <td>0.762238</td>\n",
       "    </tr>\n",
       "    <tr>\n",
       "      <th>min</th>\n",
       "      <td>4.300000</td>\n",
       "      <td>2.000000</td>\n",
       "      <td>1.000000</td>\n",
       "      <td>0.100000</td>\n",
       "    </tr>\n",
       "    <tr>\n",
       "      <th>25%</th>\n",
       "      <td>5.100000</td>\n",
       "      <td>2.800000</td>\n",
       "      <td>1.600000</td>\n",
       "      <td>0.300000</td>\n",
       "    </tr>\n",
       "    <tr>\n",
       "      <th>50%</th>\n",
       "      <td>5.800000</td>\n",
       "      <td>3.000000</td>\n",
       "      <td>4.350000</td>\n",
       "      <td>1.300000</td>\n",
       "    </tr>\n",
       "    <tr>\n",
       "      <th>75%</th>\n",
       "      <td>6.400000</td>\n",
       "      <td>3.300000</td>\n",
       "      <td>5.100000</td>\n",
       "      <td>1.800000</td>\n",
       "    </tr>\n",
       "    <tr>\n",
       "      <th>max</th>\n",
       "      <td>7.900000</td>\n",
       "      <td>4.400000</td>\n",
       "      <td>6.900000</td>\n",
       "      <td>2.500000</td>\n",
       "    </tr>\n",
       "  </tbody>\n",
       "</table>\n",
       "</div>"
      ],
      "text/plain": [
       "       sepal_length  sepal_width  petal_length  petal_width\n",
       "count    150.000000   150.000000    150.000000   150.000000\n",
       "mean       5.843333     3.057333      3.758000     1.199333\n",
       "std        0.828066     0.435866      1.765298     0.762238\n",
       "min        4.300000     2.000000      1.000000     0.100000\n",
       "25%        5.100000     2.800000      1.600000     0.300000\n",
       "50%        5.800000     3.000000      4.350000     1.300000\n",
       "75%        6.400000     3.300000      5.100000     1.800000\n",
       "max        7.900000     4.400000      6.900000     2.500000"
      ]
     },
     "execution_count": 76,
     "metadata": {},
     "output_type": "execute_result"
    }
   ],
   "source": [
    "data.describe()"
   ]
  },
  {
   "cell_type": "code",
   "execution_count": 77,
   "metadata": {},
   "outputs": [
    {
     "name": "stdout",
     "output_type": "stream",
     "text": [
      "(150, 5)\n"
     ]
    }
   ],
   "source": [
    "print(data.shape)"
   ]
  },
  {
   "cell_type": "code",
   "execution_count": 78,
   "metadata": {},
   "outputs": [
    {
     "name": "stdout",
     "output_type": "stream",
     "text": [
      "type\n",
      "Iris-setosa        50\n",
      "Iris-versicolor    50\n",
      "Iris-virginica     50\n",
      "dtype: int64\n"
     ]
    }
   ],
   "source": [
    "print(data.groupby('type').size())"
   ]
  },
  {
   "cell_type": "code",
   "execution_count": 79,
   "metadata": {},
   "outputs": [
    {
     "data": {
      "image/png": "[encoded data removed]",
      "text/plain": [
       "<Figure size 432x288 with 4 Axes>"
      ]
     },
     "metadata": {
      "needs_background": "light"
     },
     "output_type": "display_data"
    }
   ],
   "source": [
    "data.hist(bins=40);"
   ]
  },
  {
   "cell_type": "code",
   "execution_count": 80,
   "metadata": {
    "scrolled": true
   },
   "outputs": [
    {
     "data": {
      "text/html": [
       "<div>\n",
       "<style scoped>\n",
       "    .dataframe tbody tr th:only-of-type {\n",
       "        vertical-align: middle;\n",
       "    }\n",
       "\n",
       "    .dataframe tbody tr th {\n",
       "        vertical-align: top;\n",
       "    }\n",
       "\n",
       "    .dataframe thead th {\n",
       "        text-align: right;\n",
       "    }\n",
       "</style>\n",
       "<table border=\"1\" class=\"dataframe\">\n",
       "  <thead>\n",
       "    <tr style=\"text-align: right;\">\n",
       "      <th></th>\n",
       "      <th>sepal_length</th>\n",
       "      <th>sepal_width</th>\n",
       "      <th>petal_length</th>\n",
       "      <th>petal_width</th>\n",
       "    </tr>\n",
       "  </thead>\n",
       "  <tbody>\n",
       "    <tr>\n",
       "      <th>sepal_length</th>\n",
       "      <td>1.000000</td>\n",
       "      <td>-0.117570</td>\n",
       "      <td>0.871754</td>\n",
       "      <td>0.817941</td>\n",
       "    </tr>\n",
       "    <tr>\n",
       "      <th>sepal_width</th>\n",
       "      <td>-0.117570</td>\n",
       "      <td>1.000000</td>\n",
       "      <td>-0.428440</td>\n",
       "      <td>-0.366126</td>\n",
       "    </tr>\n",
       "    <tr>\n",
       "      <th>petal_length</th>\n",
       "      <td>0.871754</td>\n",
       "      <td>-0.428440</td>\n",
       "      <td>1.000000</td>\n",
       "      <td>0.962865</td>\n",
       "    </tr>\n",
       "    <tr>\n",
       "      <th>petal_width</th>\n",
       "      <td>0.817941</td>\n",
       "      <td>-0.366126</td>\n",
       "      <td>0.962865</td>\n",
       "      <td>1.000000</td>\n",
       "    </tr>\n",
       "  </tbody>\n",
       "</table>\n",
       "</div>"
      ],
      "text/plain": [
       "              sepal_length  sepal_width  petal_length  petal_width\n",
       "sepal_length      1.000000    -0.117570      0.871754     0.817941\n",
       "sepal_width      -0.117570     1.000000     -0.428440    -0.366126\n",
       "petal_length      0.871754    -0.428440      1.000000     0.962865\n",
       "petal_width       0.817941    -0.366126      0.962865     1.000000"
      ]
     },
     "execution_count": 80,
     "metadata": {},
     "output_type": "execute_result"
    }
   ],
   "source": [
    "data.corr()"
   ]
  },
  {
   "cell_type": "markdown",
   "metadata": {},
   "source": [
    "### Creation Validation Dataset"
   ]
  },
  {
   "cell_type": "code",
   "execution_count": 81,
   "metadata": {},
   "outputs": [
    {
     "name": "stdout",
     "output_type": "stream",
     "text": [
      "[[5.1 3.5 1.4 0.2 'Iris-setosa']\n",
      " [4.9 3.0 1.4 0.2 'Iris-setosa']\n",
      " [4.7 3.2 1.3 0.2 'Iris-setosa']\n",
      " [4.6 3.1 1.5 0.2 'Iris-setosa']\n",
      " [5.0 3.6 1.4 0.2 'Iris-setosa']\n",
      " [5.4 3.9 1.7 0.4 'Iris-setosa']\n",
      " [4.6 3.4 1.4 0.3 'Iris-setosa']\n",
      " [5.0 3.4 1.5 0.2 'Iris-setosa']\n",
      " [4.4 2.9 1.4 0.2 'Iris-setosa']\n",
      " [4.9 3.1 1.5 0.1 'Iris-setosa']\n",
      " [5.4 3.7 1.5 0.2 'Iris-setosa']\n",
      " [4.8 3.4 1.6 0.2 'Iris-setosa']\n",
      " [4.8 3.0 1.4 0.1 'Iris-setosa']\n",
      " [4.3 3.0 1.1 0.1 'Iris-setosa']\n",
      " [5.8 4.0 1.2 0.2 'Iris-setosa']\n",
      " [5.7 4.4 1.5 0.4 'Iris-setosa']\n",
      " [5.4 3.9 1.3 0.4 'Iris-setosa']\n",
      " [5.1 3.5 1.4 0.3 'Iris-setosa']\n",
      " [5.7 3.8 1.7 0.3 'Iris-setosa']\n",
      " [5.1 3.8 1.5 0.3 'Iris-setosa']\n",
      " [5.4 3.4 1.7 0.2 'Iris-setosa']\n",
      " [5.1 3.7 1.5 0.4 'Iris-setosa']\n",
      " [4.6 3.6 1.0 0.2 'Iris-setosa']\n",
      " [5.1 3.3 1.7 0.5 'Iris-setosa']\n",
      " [4.8 3.4 1.9 0.2 'Iris-setosa']\n",
      " [5.0 3.0 1.6 0.2 'Iris-setosa']\n",
      " [5.0 3.4 1.6 0.4 'Iris-setosa']\n",
      " [5.2 3.5 1.5 0.2 'Iris-setosa']\n",
      " [5.2 3.4 1.4 0.2 'Iris-setosa']\n",
      " [4.7 3.2 1.6 0.2 'Iris-setosa']\n",
      " [4.8 3.1 1.6 0.2 'Iris-setosa']\n",
      " [5.4 3.4 1.5 0.4 'Iris-setosa']\n",
      " [5.2 4.1 1.5 0.1 'Iris-setosa']\n",
      " [5.5 4.2 1.4 0.2 'Iris-setosa']\n",
      " [4.9 3.1 1.5 0.2 'Iris-setosa']\n",
      " [5.0 3.2 1.2 0.2 'Iris-setosa']\n",
      " [5.5 3.5 1.3 0.2 'Iris-setosa']\n",
      " [4.9 3.6 1.4 0.1 'Iris-setosa']\n",
      " [4.4 3.0 1.3 0.2 'Iris-setosa']\n",
      " [5.1 3.4 1.5 0.2 'Iris-setosa']\n",
      " [5.0 3.5 1.3 0.3 'Iris-setosa']\n",
      " [4.5 2.3 1.3 0.3 'Iris-setosa']\n",
      " [4.4 3.2 1.3 0.2 'Iris-setosa']\n",
      " [5.0 3.5 1.6 0.6 'Iris-setosa']\n",
      " [5.1 3.8 1.9 0.4 'Iris-setosa']\n",
      " [4.8 3.0 1.4 0.3 'Iris-setosa']\n",
      " [5.1 3.8 1.6 0.2 'Iris-setosa']\n",
      " [4.6 3.2 1.4 0.2 'Iris-setosa']\n",
      " [5.3 3.7 1.5 0.2 'Iris-setosa']\n",
      " [5.0 3.3 1.4 0.2 'Iris-setosa']\n",
      " [7.0 3.2 4.7 1.4 'Iris-versicolor']\n",
      " [6.4 3.2 4.5 1.5 'Iris-versicolor']\n",
      " [6.9 3.1 4.9 1.5 'Iris-versicolor']\n",
      " [5.5 2.3 4.0 1.3 'Iris-versicolor']\n",
      " [6.5 2.8 4.6 1.5 'Iris-versicolor']\n",
      " [5.7 2.8 4.5 1.3 'Iris-versicolor']\n",
      " [6.3 3.3 4.7 1.6 'Iris-versicolor']\n",
      " [4.9 2.4 3.3 1.0 'Iris-versicolor']\n",
      " [6.6 2.9 4.6 1.3 'Iris-versicolor']\n",
      " [5.2 2.7 3.9 1.4 'Iris-versicolor']\n",
      " [5.0 2.0 3.5 1.0 'Iris-versicolor']\n",
      " [5.9 3.0 4.2 1.5 'Iris-versicolor']\n",
      " [6.0 2.2 4.0 1.0 'Iris-versicolor']\n",
      " [6.1 2.9 4.7 1.4 'Iris-versicolor']\n",
      " [5.6 2.9 3.6 1.3 'Iris-versicolor']\n",
      " [6.7 3.1 4.4 1.4 'Iris-versicolor']\n",
      " [5.6 3.0 4.5 1.5 'Iris-versicolor']\n",
      " [5.8 2.7 4.1 1.0 'Iris-versicolor']\n",
      " [6.2 2.2 4.5 1.5 'Iris-versicolor']\n",
      " [5.6 2.5 3.9 1.1 'Iris-versicolor']\n",
      " [5.9 3.2 4.8 1.8 'Iris-versicolor']\n",
      " [6.1 2.8 4.0 1.3 'Iris-versicolor']\n",
      " [6.3 2.5 4.9 1.5 'Iris-versicolor']\n",
      " [6.1 2.8 4.7 1.2 'Iris-versicolor']\n",
      " [6.4 2.9 4.3 1.3 'Iris-versicolor']\n",
      " [6.6 3.0 4.4 1.4 'Iris-versicolor']\n",
      " [6.8 2.8 4.8 1.4 'Iris-versicolor']\n",
      " [6.7 3.0 5.0 1.7 'Iris-versicolor']\n",
      " [6.0 2.9 4.5 1.5 'Iris-versicolor']\n",
      " [5.7 2.6 3.5 1.0 'Iris-versicolor']\n",
      " [5.5 2.4 3.8 1.1 'Iris-versicolor']\n",
      " [5.5 2.4 3.7 1.0 'Iris-versicolor']\n",
      " [5.8 2.7 3.9 1.2 'Iris-versicolor']\n",
      " [6.0 2.7 5.1 1.6 'Iris-versicolor']\n",
      " [5.4 3.0 4.5 1.5 'Iris-versicolor']\n",
      " [6.0 3.4 4.5 1.6 'Iris-versicolor']\n",
      " [6.7 3.1 4.7 1.5 'Iris-versicolor']\n",
      " [6.3 2.3 4.4 1.3 'Iris-versicolor']\n",
      " [5.6 3.0 4.1 1.3 'Iris-versicolor']\n",
      " [5.5 2.5 4.0 1.3 'Iris-versicolor']\n",
      " [5.5 2.6 4.4 1.2 'Iris-versicolor']\n",
      " [6.1 3.0 4.6 1.4 'Iris-versicolor']\n",
      " [5.8 2.6 4.0 1.2 'Iris-versicolor']\n",
      " [5.0 2.3 3.3 1.0 'Iris-versicolor']\n",
      " [5.6 2.7 4.2 1.3 'Iris-versicolor']\n",
      " [5.7 3.0 4.2 1.2 'Iris-versicolor']\n",
      " [5.7 2.9 4.2 1.3 'Iris-versicolor']\n",
      " [6.2 2.9 4.3 1.3 'Iris-versicolor']\n",
      " [5.1 2.5 3.0 1.1 'Iris-versicolor']\n",
      " [5.7 2.8 4.1 1.3 'Iris-versicolor']\n",
      " [6.3 3.3 6.0 2.5 'Iris-virginica']\n",
      " [5.8 2.7 5.1 1.9 'Iris-virginica']\n",
      " [7.1 3.0 5.9 2.1 'Iris-virginica']\n",
      " [6.3 2.9 5.6 1.8 'Iris-virginica']\n",
      " [6.5 3.0 5.8 2.2 'Iris-virginica']\n",
      " [7.6 3.0 6.6 2.1 'Iris-virginica']\n",
      " [4.9 2.5 4.5 1.7 'Iris-virginica']\n",
      " [7.3 2.9 6.3 1.8 'Iris-virginica']\n",
      " [6.7 2.5 5.8 1.8 'Iris-virginica']\n",
      " [7.2 3.6 6.1 2.5 'Iris-virginica']\n",
      " [6.5 3.2 5.1 2.0 'Iris-virginica']\n",
      " [6.4 2.7 5.3 1.9 'Iris-virginica']\n",
      " [6.8 3.0 5.5 2.1 'Iris-virginica']\n",
      " [5.7 2.5 5.0 2.0 'Iris-virginica']\n",
      " [5.8 2.8 5.1 2.4 'Iris-virginica']\n",
      " [6.4 3.2 5.3 2.3 'Iris-virginica']\n",
      " [6.5 3.0 5.5 1.8 'Iris-virginica']\n",
      " [7.7 3.8 6.7 2.2 'Iris-virginica']\n",
      " [7.7 2.6 6.9 2.3 'Iris-virginica']\n",
      " [6.0 2.2 5.0 1.5 'Iris-virginica']\n",
      " [6.9 3.2 5.7 2.3 'Iris-virginica']\n",
      " [5.6 2.8 4.9 2.0 'Iris-virginica']\n",
      " [7.7 2.8 6.7 2.0 'Iris-virginica']\n",
      " [6.3 2.7 4.9 1.8 'Iris-virginica']\n",
      " [6.7 3.3 5.7 2.1 'Iris-virginica']\n",
      " [7.2 3.2 6.0 1.8 'Iris-virginica']\n",
      " [6.2 2.8 4.8 1.8 'Iris-virginica']\n",
      " [6.1 3.0 4.9 1.8 'Iris-virginica']\n",
      " [6.4 2.8 5.6 2.1 'Iris-virginica']\n",
      " [7.2 3.0 5.8 1.6 'Iris-virginica']\n",
      " [7.4 2.8 6.1 1.9 'Iris-virginica']\n",
      " [7.9 3.8 6.4 2.0 'Iris-virginica']\n",
      " [6.4 2.8 5.6 2.2 'Iris-virginica']\n",
      " [6.3 2.8 5.1 1.5 'Iris-virginica']\n",
      " [6.1 2.6 5.6 1.4 'Iris-virginica']\n",
      " [7.7 3.0 6.1 2.3 'Iris-virginica']\n",
      " [6.3 3.4 5.6 2.4 'Iris-virginica']\n",
      " [6.4 3.1 5.5 1.8 'Iris-virginica']\n",
      " [6.0 3.0 4.8 1.8 'Iris-virginica']\n",
      " [6.9 3.1 5.4 2.1 'Iris-virginica']\n",
      " [6.7 3.1 5.6 2.4 'Iris-virginica']\n",
      " [6.9 3.1 5.1 2.3 'Iris-virginica']\n",
      " [5.8 2.7 5.1 1.9 'Iris-virginica']\n",
      " [6.8 3.2 5.9 2.3 'Iris-virginica']\n",
      " [6.7 3.3 5.7 2.5 'Iris-virginica']\n",
      " [6.7 3.0 5.2 2.3 'Iris-virginica']\n",
      " [6.3 2.5 5.0 1.9 'Iris-virginica']\n",
      " [6.5 3.0 5.2 2.0 'Iris-virginica']\n",
      " [6.2 3.4 5.4 2.3 'Iris-virginica']\n",
      " [5.9 3.0 5.1 1.8 'Iris-virginica']]\n"
     ]
    }
   ],
   "source": [
    "dataset = data.values\n",
    "print(dataset)"
   ]
  },
  {
   "cell_type": "code",
   "execution_count": 82,
   "metadata": {},
   "outputs": [],
   "source": [
    "np.random.seed(1)\n",
    "np.random.shuffle(dataset)"
   ]
  },
  {
   "cell_type": "code",
   "execution_count": 83,
   "metadata": {},
   "outputs": [
    {
     "data": {
      "text/plain": [
       "array([[5.8, 4.0, 1.2, 0.2, 'Iris-setosa'],\n",
       "       [5.1, 2.5, 3.0, 1.1, 'Iris-versicolor'],\n",
       "       [6.6, 3.0, 4.4, 1.4, 'Iris-versicolor'],\n",
       "       [5.4, 3.9, 1.3, 0.4, 'Iris-setosa'],\n",
       "       [7.9, 3.8, 6.4, 2.0, 'Iris-virginica'],\n",
       "       [6.3, 3.3, 4.7, 1.6, 'Iris-versicolor'],\n",
       "       [6.9, 3.1, 5.1, 2.3, 'Iris-virginica'],\n",
       "       [5.1, 3.8, 1.9, 0.4, 'Iris-setosa'],\n",
       "       [4.7, 3.2, 1.6, 0.2, 'Iris-setosa'],\n",
       "       [6.9, 3.2, 5.7, 2.3, 'Iris-virginica'],\n",
       "       [5.6, 2.7, 4.2, 1.3, 'Iris-versicolor'],\n",
       "       [5.4, 3.9, 1.7, 0.4, 'Iris-setosa'],\n",
       "       [7.1, 3.0, 5.9, 2.1, 'Iris-virginica'],\n",
       "       [6.4, 3.2, 4.5, 1.5, 'Iris-versicolor'],\n",
       "       [6.0, 2.9, 4.5, 1.5, 'Iris-versicolor'],\n",
       "       [4.4, 3.2, 1.3, 0.2, 'Iris-setosa'],\n",
       "       [5.8, 2.6, 4.0, 1.2, 'Iris-versicolor'],\n",
       "       [5.6, 3.0, 4.5, 1.5, 'Iris-versicolor'],\n",
       "       [5.4, 3.4, 1.5, 0.4, 'Iris-setosa'],\n",
       "       [5.0, 3.2, 1.2, 0.2, 'Iris-setosa'],\n",
       "       [5.5, 2.6, 4.4, 1.2, 'Iris-versicolor'],\n",
       "       [5.4, 3.0, 4.5, 1.5, 'Iris-versicolor'],\n",
       "       [6.7, 3.0, 5.0, 1.7, 'Iris-versicolor'],\n",
       "       [5.0, 3.5, 1.3, 0.3, 'Iris-setosa'],\n",
       "       [7.2, 3.2, 6.0, 1.8, 'Iris-virginica'],\n",
       "       [5.7, 2.8, 4.1, 1.3, 'Iris-versicolor'],\n",
       "       [5.5, 4.2, 1.4, 0.2, 'Iris-setosa'],\n",
       "       [5.1, 3.8, 1.5, 0.3, 'Iris-setosa'],\n",
       "       [6.1, 2.8, 4.7, 1.2, 'Iris-versicolor'],\n",
       "       [6.3, 2.5, 5.0, 1.9, 'Iris-virginica'],\n",
       "       [6.1, 3.0, 4.6, 1.4, 'Iris-versicolor'],\n",
       "       [7.7, 3.0, 6.1, 2.3, 'Iris-virginica'],\n",
       "       [5.6, 2.5, 3.9, 1.1, 'Iris-versicolor'],\n",
       "       [6.4, 2.8, 5.6, 2.1, 'Iris-virginica'],\n",
       "       [5.8, 2.8, 5.1, 2.4, 'Iris-virginica'],\n",
       "       [5.3, 3.7, 1.5, 0.2, 'Iris-setosa'],\n",
       "       [5.5, 2.3, 4.0, 1.3, 'Iris-versicolor'],\n",
       "       [5.2, 3.4, 1.4, 0.2, 'Iris-setosa'],\n",
       "       [6.5, 2.8, 4.6, 1.5, 'Iris-versicolor'],\n",
       "       [6.7, 2.5, 5.8, 1.8, 'Iris-virginica'],\n",
       "       [6.8, 3.0, 5.5, 2.1, 'Iris-virginica'],\n",
       "       [5.1, 3.5, 1.4, 0.3, 'Iris-setosa'],\n",
       "       [6.0, 2.2, 5.0, 1.5, 'Iris-virginica'],\n",
       "       [6.3, 2.9, 5.6, 1.8, 'Iris-virginica'],\n",
       "       [6.6, 2.9, 4.6, 1.3, 'Iris-versicolor'],\n",
       "       [7.7, 2.6, 6.9, 2.3, 'Iris-virginica'],\n",
       "       [5.7, 3.8, 1.7, 0.3, 'Iris-setosa'],\n",
       "       [5.0, 3.6, 1.4, 0.2, 'Iris-setosa'],\n",
       "       [4.8, 3.0, 1.4, 0.3, 'Iris-setosa'],\n",
       "       [5.2, 2.7, 3.9, 1.4, 'Iris-versicolor'],\n",
       "       [5.1, 3.4, 1.5, 0.2, 'Iris-setosa'],\n",
       "       [5.5, 3.5, 1.3, 0.2, 'Iris-setosa'],\n",
       "       [7.7, 3.8, 6.7, 2.2, 'Iris-virginica'],\n",
       "       [6.9, 3.1, 5.4, 2.1, 'Iris-virginica'],\n",
       "       [7.3, 2.9, 6.3, 1.8, 'Iris-virginica'],\n",
       "       [6.4, 2.8, 5.6, 2.2, 'Iris-virginica'],\n",
       "       [6.2, 2.8, 4.8, 1.8, 'Iris-virginica'],\n",
       "       [6.0, 3.4, 4.5, 1.6, 'Iris-versicolor'],\n",
       "       [7.7, 2.8, 6.7, 2.0, 'Iris-virginica'],\n",
       "       [5.7, 3.0, 4.2, 1.2, 'Iris-versicolor'],\n",
       "       [4.8, 3.4, 1.6, 0.2, 'Iris-setosa'],\n",
       "       [5.7, 2.5, 5.0, 2.0, 'Iris-virginica'],\n",
       "       [6.3, 2.7, 4.9, 1.8, 'Iris-virginica'],\n",
       "       [4.8, 3.0, 1.4, 0.1, 'Iris-setosa'],\n",
       "       [4.7, 3.2, 1.3, 0.2, 'Iris-setosa'],\n",
       "       [6.5, 3.0, 5.8, 2.2, 'Iris-virginica'],\n",
       "       [4.6, 3.4, 1.4, 0.3, 'Iris-setosa'],\n",
       "       [6.1, 3.0, 4.9, 1.8, 'Iris-virginica'],\n",
       "       [6.5, 3.2, 5.1, 2.0, 'Iris-virginica'],\n",
       "       [6.7, 3.1, 4.4, 1.4, 'Iris-versicolor'],\n",
       "       [5.7, 2.8, 4.5, 1.3, 'Iris-versicolor'],\n",
       "       [6.7, 3.3, 5.7, 2.5, 'Iris-virginica'],\n",
       "       [6.0, 3.0, 4.8, 1.8, 'Iris-virginica'],\n",
       "       [5.1, 3.8, 1.6, 0.2, 'Iris-setosa'],\n",
       "       [6.0, 2.2, 4.0, 1.0, 'Iris-versicolor'],\n",
       "       [6.4, 2.9, 4.3, 1.3, 'Iris-versicolor'],\n",
       "       [6.5, 3.0, 5.5, 1.8, 'Iris-virginica'],\n",
       "       [5.0, 2.3, 3.3, 1.0, 'Iris-versicolor'],\n",
       "       [6.3, 3.3, 6.0, 2.5, 'Iris-virginica'],\n",
       "       [5.5, 2.5, 4.0, 1.3, 'Iris-versicolor'],\n",
       "       [5.4, 3.7, 1.5, 0.2, 'Iris-setosa'],\n",
       "       [4.9, 3.1, 1.5, 0.2, 'Iris-setosa'],\n",
       "       [5.2, 4.1, 1.5, 0.1, 'Iris-setosa'],\n",
       "       [6.7, 3.3, 5.7, 2.1, 'Iris-virginica'],\n",
       "       [4.4, 3.0, 1.3, 0.2, 'Iris-setosa'],\n",
       "       [6.0, 2.7, 5.1, 1.6, 'Iris-versicolor'],\n",
       "       [6.4, 2.7, 5.3, 1.9, 'Iris-virginica'],\n",
       "       [5.9, 3.0, 5.1, 1.8, 'Iris-virginica'],\n",
       "       [5.2, 3.5, 1.5, 0.2, 'Iris-setosa'],\n",
       "       [5.1, 3.3, 1.7, 0.5, 'Iris-setosa'],\n",
       "       [5.8, 2.7, 4.1, 1.0, 'Iris-versicolor'],\n",
       "       [4.9, 3.1, 1.5, 0.1, 'Iris-setosa'],\n",
       "       [7.4, 2.8, 6.1, 1.9, 'Iris-virginica'],\n",
       "       [6.2, 2.9, 4.3, 1.3, 'Iris-versicolor'],\n",
       "       [7.6, 3.0, 6.6, 2.1, 'Iris-virginica'],\n",
       "       [6.7, 3.0, 5.2, 2.3, 'Iris-virginica'],\n",
       "       [6.3, 2.3, 4.4, 1.3, 'Iris-versicolor'],\n",
       "       [6.2, 3.4, 5.4, 2.3, 'Iris-virginica'],\n",
       "       [7.2, 3.6, 6.1, 2.5, 'Iris-virginica'],\n",
       "       [5.6, 2.9, 3.6, 1.3, 'Iris-versicolor'],\n",
       "       [5.7, 4.4, 1.5, 0.4, 'Iris-setosa'],\n",
       "       [5.8, 2.7, 3.9, 1.2, 'Iris-versicolor'],\n",
       "       [4.5, 2.3, 1.3, 0.3, 'Iris-setosa'],\n",
       "       [5.5, 2.4, 3.8, 1.1, 'Iris-versicolor'],\n",
       "       [6.9, 3.1, 4.9, 1.5, 'Iris-versicolor'],\n",
       "       [5.0, 3.4, 1.6, 0.4, 'Iris-setosa'],\n",
       "       [6.8, 2.8, 4.8, 1.4, 'Iris-versicolor'],\n",
       "       [5.0, 3.5, 1.6, 0.6, 'Iris-setosa'],\n",
       "       [4.8, 3.4, 1.9, 0.2, 'Iris-setosa'],\n",
       "       [6.3, 3.4, 5.6, 2.4, 'Iris-virginica'],\n",
       "       [5.6, 2.8, 4.9, 2.0, 'Iris-virginica'],\n",
       "       [6.8, 3.2, 5.9, 2.3, 'Iris-virginica'],\n",
       "       [5.0, 3.3, 1.4, 0.2, 'Iris-setosa'],\n",
       "       [5.1, 3.7, 1.5, 0.4, 'Iris-setosa'],\n",
       "       [5.9, 3.2, 4.8, 1.8, 'Iris-versicolor'],\n",
       "       [4.6, 3.1, 1.5, 0.2, 'Iris-setosa'],\n",
       "       [5.8, 2.7, 5.1, 1.9, 'Iris-virginica'],\n",
       "       [4.8, 3.1, 1.6, 0.2, 'Iris-setosa'],\n",
       "       [6.5, 3.0, 5.2, 2.0, 'Iris-virginica'],\n",
       "       [4.9, 2.5, 4.5, 1.7, 'Iris-virginica'],\n",
       "       [4.6, 3.2, 1.4, 0.2, 'Iris-setosa'],\n",
       "       [6.4, 3.2, 5.3, 2.3, 'Iris-virginica'],\n",
       "       [4.3, 3.0, 1.1, 0.1, 'Iris-setosa'],\n",
       "       [5.6, 3.0, 4.1, 1.3, 'Iris-versicolor'],\n",
       "       [4.4, 2.9, 1.4, 0.2, 'Iris-setosa'],\n",
       "       [5.5, 2.4, 3.7, 1.0, 'Iris-versicolor'],\n",
       "       [5.0, 2.0, 3.5, 1.0, 'Iris-versicolor'],\n",
       "       [5.1, 3.5, 1.4, 0.2, 'Iris-setosa'],\n",
       "       [4.9, 3.0, 1.4, 0.2, 'Iris-setosa'],\n",
       "       [4.9, 2.4, 3.3, 1.0, 'Iris-versicolor'],\n",
       "       [4.6, 3.6, 1.0, 0.2, 'Iris-setosa'],\n",
       "       [5.9, 3.0, 4.2, 1.5, 'Iris-versicolor'],\n",
       "       [6.1, 2.9, 4.7, 1.4, 'Iris-versicolor'],\n",
       "       [5.0, 3.4, 1.5, 0.2, 'Iris-setosa'],\n",
       "       [6.7, 3.1, 4.7, 1.5, 'Iris-versicolor'],\n",
       "       [5.7, 2.9, 4.2, 1.3, 'Iris-versicolor'],\n",
       "       [6.2, 2.2, 4.5, 1.5, 'Iris-versicolor'],\n",
       "       [7.0, 3.2, 4.7, 1.4, 'Iris-versicolor'],\n",
       "       [5.8, 2.7, 5.1, 1.9, 'Iris-virginica'],\n",
       "       [5.4, 3.4, 1.7, 0.2, 'Iris-setosa'],\n",
       "       [5.0, 3.0, 1.6, 0.2, 'Iris-setosa'],\n",
       "       [6.1, 2.6, 5.6, 1.4, 'Iris-virginica'],\n",
       "       [6.1, 2.8, 4.0, 1.3, 'Iris-versicolor'],\n",
       "       [7.2, 3.0, 5.8, 1.6, 'Iris-virginica'],\n",
       "       [5.7, 2.6, 3.5, 1.0, 'Iris-versicolor'],\n",
       "       [6.3, 2.8, 5.1, 1.5, 'Iris-virginica'],\n",
       "       [6.4, 3.1, 5.5, 1.8, 'Iris-virginica'],\n",
       "       [6.3, 2.5, 4.9, 1.5, 'Iris-versicolor'],\n",
       "       [6.7, 3.1, 5.6, 2.4, 'Iris-virginica'],\n",
       "       [4.9, 3.6, 1.4, 0.1, 'Iris-setosa']], dtype=object)"
      ]
     },
     "execution_count": 83,
     "metadata": {},
     "output_type": "execute_result"
    }
   ],
   "source": [
    "dataset"
   ]
  },
  {
   "cell_type": "code",
   "execution_count": 84,
   "metadata": {},
   "outputs": [],
   "source": [
    "X = dataset[:,:4]\n",
    "Y = dataset[:,4]"
   ]
  },
  {
   "cell_type": "code",
   "execution_count": 85,
   "metadata": {},
   "outputs": [],
   "source": [
    "n_train = int(round(len(Y) * 0.70))\n",
    "X_train = X[:n_train,:]\n",
    "Y_train = Y[:n_train]\n",
    "X_test = X[n_train:,:]\n",
    "Y_test = Y[n_train:]"
   ]
  },
  {
   "cell_type": "code",
   "execution_count": 86,
   "metadata": {},
   "outputs": [
    {
     "data": {
      "text/plain": [
       "((150, 4), (150,), (105, 4), (105,), (45, 4), (45,))"
      ]
     },
     "execution_count": 86,
     "metadata": {},
     "output_type": "execute_result"
    }
   ],
   "source": [
    "X.shape, Y.shape, X_train.shape, Y_train.shape, X_test.shape, Y_test.shape"
   ]
  },
  {
   "cell_type": "markdown",
   "metadata": {},
   "source": [
    "### Create models"
   ]
  },
  {
   "cell_type": "markdown",
   "metadata": {},
   "source": [
    "#### Used classificators\n"
   ]
  },
  {
   "cell_type": "markdown",
   "metadata": {},
   "source": [
    "- DecisionTreeClassifier  \n",
    "- SVC  \n",
    "- KNN  \n",
    "- Logistic Regression  \n",
    "- Naive Bayes  \n",
    "- SGDClassifier  \n",
    "- RandomForest  \n",
    "- GradientBoosting  "
   ]
  },
  {
   "cell_type": "markdown",
   "metadata": {},
   "source": [
    "#### Defining the models"
   ]
  },
  {
   "cell_type": "code",
   "execution_count": 87,
   "metadata": {},
   "outputs": [],
   "source": [
    "model_decisiontree = tree.DecisionTreeClassifier()\n",
    "model_svc = svm.SVC()\n",
    "model_knn = neighbors.KNeighborsClassifier()\n",
    "model_logisticregression = linear_model.LogisticRegression(multi_class='multinomial',solver='newton-cg')\n",
    "model_naivebayes = naive_bayes.GaussianNB()\n",
    "model_sgdclassifier = linear_model.SGDClassifier()\n",
    "model_randomforest = ensemble.RandomForestClassifier()\n",
    "model_gradientboosting = ensemble.GradientBoostingClassifier()"
   ]
  },
  {
   "cell_type": "markdown",
   "metadata": {},
   "source": [
    "#### Training models"
   ]
  },
  {
   "cell_type": "code",
   "execution_count": 88,
   "metadata": {},
   "outputs": [
    {
     "name": "stderr",
     "output_type": "stream",
     "text": [
      "C:\\Users\\Jonas Lopes\\Anaconda3\\lib\\site-packages\\sklearn\\svm\\base.py:196: FutureWarning: The default value of gamma will change from 'auto' to 'scale' in version 0.22 to account better for unscaled features. Set gamma explicitly to 'auto' or 'scale' to avoid this warning.\n",
      "  \"avoid this warning.\", FutureWarning)\n",
      "C:\\Users\\Jonas Lopes\\Anaconda3\\lib\\site-packages\\sklearn\\linear_model\\stochastic_gradient.py:166: FutureWarning: max_iter and tol parameters have been added in SGDClassifier in 0.19. If both are left unset, they default to max_iter=5 and tol=None. If tol is not None, max_iter defaults to max_iter=1000. From 0.21, default max_iter will be 1000, and default tol will be 1e-3.\n",
      "  FutureWarning)\n",
      "C:\\Users\\Jonas Lopes\\Anaconda3\\lib\\site-packages\\sklearn\\ensemble\\forest.py:246: FutureWarning: The default value of n_estimators will change from 10 in version 0.20 to 100 in 0.22.\n",
      "  \"10 in version 0.20 to 100 in 0.22.\", FutureWarning)\n"
     ]
    },
    {
     "data": {
      "text/plain": [
       "GradientBoostingClassifier(criterion='friedman_mse', init=None,\n",
       "              learning_rate=0.1, loss='deviance', max_depth=3,\n",
       "              max_features=None, max_leaf_nodes=None,\n",
       "              min_impurity_decrease=0.0, min_impurity_split=None,\n",
       "              min_samples_leaf=1, min_samples_split=2,\n",
       "              min_weight_fraction_leaf=0.0, n_estimators=100,\n",
       "              n_iter_no_change=None, presort='auto', random_state=None,\n",
       "              subsample=1.0, tol=0.0001, validation_fraction=0.1,\n",
       "              verbose=0, warm_start=False)"
      ]
     },
     "execution_count": 88,
     "metadata": {},
     "output_type": "execute_result"
    }
   ],
   "source": [
    "model_decisiontree.fit(X_train,Y_train)\n",
    "model_svc.fit(X_train,Y_train)\n",
    "model_knn.fit(X_train,Y_train)\n",
    "model_logisticregression.fit(X_train,Y_train)\n",
    "model_naivebayes.fit(X_train,Y_train)\n",
    "model_sgdclassifier.fit(X_train,Y_train)\n",
    "model_randomforest.fit(X_train,Y_train)\n",
    "model_gradientboosting.fit(X_train,Y_train)"
   ]
  },
  {
   "cell_type": "code",
   "execution_count": 89,
   "metadata": {},
   "outputs": [
    {
     "name": "stdout",
     "output_type": "stream",
     "text": [
      "['Iris-setosa' 'Iris-versicolor' 'Iris-setosa' 'Iris-setosa'\n",
      " 'Iris-virginica' 'Iris-virginica' 'Iris-virginica' 'Iris-setosa'\n",
      " 'Iris-setosa' 'Iris-versicolor' 'Iris-setosa' 'Iris-virginica'\n",
      " 'Iris-setosa' 'Iris-virginica' 'Iris-versicolor' 'Iris-setosa'\n",
      " 'Iris-virginica' 'Iris-setosa' 'Iris-versicolor' 'Iris-setosa'\n",
      " 'Iris-versicolor' 'Iris-versicolor' 'Iris-setosa' 'Iris-setosa'\n",
      " 'Iris-versicolor' 'Iris-setosa' 'Iris-versicolor' 'Iris-versicolor'\n",
      " 'Iris-setosa' 'Iris-versicolor' 'Iris-versicolor' 'Iris-versicolor'\n",
      " 'Iris-versicolor' 'Iris-virginica' 'Iris-setosa' 'Iris-setosa'\n",
      " 'Iris-virginica' 'Iris-versicolor' 'Iris-virginica' 'Iris-versicolor'\n",
      " 'Iris-virginica' 'Iris-virginica' 'Iris-versicolor' 'Iris-virginica'\n",
      " 'Iris-setosa']\n",
      "['Iris-setosa' 'Iris-versicolor' 'Iris-setosa' 'Iris-setosa'\n",
      " 'Iris-virginica' 'Iris-virginica' 'Iris-virginica' 'Iris-setosa'\n",
      " 'Iris-setosa' 'Iris-versicolor' 'Iris-setosa' 'Iris-virginica'\n",
      " 'Iris-setosa' 'Iris-virginica' 'Iris-virginica' 'Iris-setosa'\n",
      " 'Iris-virginica' 'Iris-setosa' 'Iris-versicolor' 'Iris-setosa'\n",
      " 'Iris-versicolor' 'Iris-versicolor' 'Iris-setosa' 'Iris-setosa'\n",
      " 'Iris-versicolor' 'Iris-setosa' 'Iris-versicolor' 'Iris-versicolor'\n",
      " 'Iris-setosa' 'Iris-versicolor' 'Iris-versicolor' 'Iris-versicolor'\n",
      " 'Iris-versicolor' 'Iris-virginica' 'Iris-setosa' 'Iris-setosa'\n",
      " 'Iris-virginica' 'Iris-versicolor' 'Iris-virginica' 'Iris-versicolor'\n",
      " 'Iris-virginica' 'Iris-virginica' 'Iris-versicolor' 'Iris-virginica'\n",
      " 'Iris-setosa']\n"
     ]
    }
   ],
   "source": [
    "pred_decisiontree = model_decisiontree.predict(X_test)\n",
    "pred_svc = model_svc.predict(X_test)\n",
    "pred_knn = model_knn.predict(X_test)\n",
    "pred_logisticregression = model_logisticregression.predict(X_test)\n",
    "pred_naivebayes = model_naivebayes.predict(X_test)\n",
    "pred_sgdclassifier = model_sgdclassifier.predict(X_test)\n",
    "pred_randomforest = model_randomforest.predict(X_test)\n",
    "pred_gradientboosting = model_gradientboosting.predict(X_test)\n",
    "\n",
    "print(pred_svc)\n",
    "print (Y_test)"
   ]
  },
  {
   "cell_type": "markdown",
   "metadata": {},
   "source": [
    "### Results"
   ]
  },
  {
   "cell_type": "markdown",
   "metadata": {},
   "source": [
    "#### DecisionTreeClassifier"
   ]
  },
  {
   "cell_type": "code",
   "execution_count": 90,
   "metadata": {},
   "outputs": [
    {
     "name": "stdout",
     "output_type": "stream",
     "text": [
      "                 precision    recall  f1-score   support\n",
      "\n",
      "    Iris-setosa       1.00      1.00      1.00        17\n",
      "Iris-versicolor       0.76      0.87      0.81        15\n",
      " Iris-virginica       0.82      0.69      0.75        13\n",
      "\n",
      "      micro avg       0.87      0.87      0.87        45\n",
      "      macro avg       0.86      0.85      0.85        45\n",
      "   weighted avg       0.87      0.87      0.87        45\n",
      "\n"
     ]
    }
   ],
   "source": [
    "print(metrics.classification_report(Y_test, pred_decisiontree))"
   ]
  },
  {
   "cell_type": "code",
   "execution_count": 91,
   "metadata": {},
   "outputs": [
    {
     "name": "stdout",
     "output_type": "stream",
     "text": [
      "0.8666666666666667\n"
     ]
    }
   ],
   "source": [
    "accuracy_predDec = metrics.accuracy_score(Y_test, pred_decisiontree)\n",
    "print(accuracy_predDec)"
   ]
  },
  {
   "cell_type": "markdown",
   "metadata": {},
   "source": [
    "#### C-Support Vector Classification (SVC)"
   ]
  },
  {
   "cell_type": "code",
   "execution_count": 92,
   "metadata": {},
   "outputs": [
    {
     "name": "stdout",
     "output_type": "stream",
     "text": [
      "                 precision    recall  f1-score   support\n",
      "\n",
      "    Iris-setosa       1.00      1.00      1.00        17\n",
      "Iris-versicolor       0.94      1.00      0.97        15\n",
      " Iris-virginica       1.00      0.92      0.96        13\n",
      "\n",
      "      micro avg       0.98      0.98      0.98        45\n",
      "      macro avg       0.98      0.97      0.98        45\n",
      "   weighted avg       0.98      0.98      0.98        45\n",
      "\n"
     ]
    }
   ],
   "source": [
    "print(metrics.classification_report(Y_test, pred_svc))"
   ]
  },
  {
   "cell_type": "code",
   "execution_count": 93,
   "metadata": {},
   "outputs": [
    {
     "name": "stdout",
     "output_type": "stream",
     "text": [
      "0.9777777777777777\n"
     ]
    }
   ],
   "source": [
    "accuracy_predSvc = metrics.accuracy_score(Y_test, pred_svc)\n",
    "print(accuracy_predSvc)"
   ]
  },
  {
   "cell_type": "markdown",
   "metadata": {},
   "source": [
    "#### KNeighborsClassifier (KNN)"
   ]
  },
  {
   "cell_type": "code",
   "execution_count": 94,
   "metadata": {},
   "outputs": [
    {
     "name": "stdout",
     "output_type": "stream",
     "text": [
      "                 precision    recall  f1-score   support\n",
      "\n",
      "    Iris-setosa       1.00      1.00      1.00        17\n",
      "Iris-versicolor       0.93      0.87      0.90        15\n",
      " Iris-virginica       0.86      0.92      0.89        13\n",
      "\n",
      "      micro avg       0.93      0.93      0.93        45\n",
      "      macro avg       0.93      0.93      0.93        45\n",
      "   weighted avg       0.93      0.93      0.93        45\n",
      "\n"
     ]
    }
   ],
   "source": [
    "print(metrics.classification_report(Y_test, pred_knn))"
   ]
  },
  {
   "cell_type": "code",
   "execution_count": 95,
   "metadata": {},
   "outputs": [
    {
     "name": "stdout",
     "output_type": "stream",
     "text": [
      "0.9333333333333333\n"
     ]
    }
   ],
   "source": [
    "accuracy_predKnn = metrics.accuracy_score(Y_test, pred_knn)\n",
    "print(accuracy_predKnn)"
   ]
  },
  {
   "cell_type": "markdown",
   "metadata": {},
   "source": [
    "#### LogisticaRegression"
   ]
  },
  {
   "cell_type": "code",
   "execution_count": 96,
   "metadata": {},
   "outputs": [
    {
     "name": "stdout",
     "output_type": "stream",
     "text": [
      "                 precision    recall  f1-score   support\n",
      "\n",
      "    Iris-setosa       1.00      1.00      1.00        17\n",
      "Iris-versicolor       0.93      0.93      0.93        15\n",
      " Iris-virginica       0.92      0.92      0.92        13\n",
      "\n",
      "      micro avg       0.96      0.96      0.96        45\n",
      "      macro avg       0.95      0.95      0.95        45\n",
      "   weighted avg       0.96      0.96      0.96        45\n",
      "\n"
     ]
    }
   ],
   "source": [
    "print(metrics.classification_report(Y_test, pred_logisticregression))"
   ]
  },
  {
   "cell_type": "code",
   "execution_count": 97,
   "metadata": {},
   "outputs": [
    {
     "name": "stdout",
     "output_type": "stream",
     "text": [
      "0.9555555555555556\n"
     ]
    }
   ],
   "source": [
    "accuracy_predLR = metrics.accuracy_score(Y_test, pred_logisticregression)\n",
    "print(accuracy_predLR)"
   ]
  },
  {
   "cell_type": "markdown",
   "metadata": {},
   "source": [
    "#### GaussianNB"
   ]
  },
  {
   "cell_type": "code",
   "execution_count": 98,
   "metadata": {},
   "outputs": [
    {
     "name": "stdout",
     "output_type": "stream",
     "text": [
      "                 precision    recall  f1-score   support\n",
      "\n",
      "    Iris-setosa       1.00      1.00      1.00        17\n",
      "Iris-versicolor       0.82      0.93      0.87        15\n",
      " Iris-virginica       0.91      0.77      0.83        13\n",
      "\n",
      "      micro avg       0.91      0.91      0.91        45\n",
      "      macro avg       0.91      0.90      0.90        45\n",
      "   weighted avg       0.91      0.91      0.91        45\n",
      "\n"
     ]
    }
   ],
   "source": [
    "print(metrics.classification_report(Y_test, pred_naivebayes))"
   ]
  },
  {
   "cell_type": "code",
   "execution_count": 99,
   "metadata": {},
   "outputs": [
    {
     "name": "stdout",
     "output_type": "stream",
     "text": [
      "0.9111111111111111\n"
     ]
    }
   ],
   "source": [
    "accuracy_predNB = metrics.accuracy_score(Y_test, pred_naivebayes)\n",
    "print(accuracy_predNB)"
   ]
  },
  {
   "cell_type": "markdown",
   "metadata": {},
   "source": [
    "#### SGDClassifier"
   ]
  },
  {
   "cell_type": "code",
   "execution_count": 100,
   "metadata": {},
   "outputs": [
    {
     "name": "stdout",
     "output_type": "stream",
     "text": [
      "                 precision    recall  f1-score   support\n",
      "\n",
      "    Iris-setosa       0.94      1.00      0.97        17\n",
      "Iris-versicolor       0.00      0.00      0.00        15\n",
      " Iris-virginica       0.48      1.00      0.65        13\n",
      "\n",
      "      micro avg       0.67      0.67      0.67        45\n",
      "      macro avg       0.48      0.67      0.54        45\n",
      "   weighted avg       0.50      0.67      0.55        45\n",
      "\n"
     ]
    },
    {
     "name": "stderr",
     "output_type": "stream",
     "text": [
      "C:\\Users\\Jonas Lopes\\Anaconda3\\lib\\site-packages\\sklearn\\metrics\\classification.py:1143: UndefinedMetricWarning: Precision and F-score are ill-defined and being set to 0.0 in labels with no predicted samples.\n",
      "  'precision', 'predicted', average, warn_for)\n"
     ]
    }
   ],
   "source": [
    "print(metrics.classification_report(Y_test, pred_sgdclassifier))"
   ]
  },
  {
   "cell_type": "code",
   "execution_count": 101,
   "metadata": {},
   "outputs": [
    {
     "name": "stdout",
     "output_type": "stream",
     "text": [
      "0.6666666666666666\n"
     ]
    }
   ],
   "source": [
    "accuracy_predSGDC = metrics.accuracy_score(Y_test, pred_sgdclassifier)\n",
    "print(accuracy_predSGDC)"
   ]
  },
  {
   "cell_type": "markdown",
   "metadata": {},
   "source": [
    "#### RandomForestClassifier"
   ]
  },
  {
   "cell_type": "code",
   "execution_count": 102,
   "metadata": {},
   "outputs": [
    {
     "name": "stdout",
     "output_type": "stream",
     "text": [
      "                 precision    recall  f1-score   support\n",
      "\n",
      "    Iris-setosa       1.00      1.00      1.00        17\n",
      "Iris-versicolor       0.78      0.93      0.85        15\n",
      " Iris-virginica       0.90      0.69      0.78        13\n",
      "\n",
      "      micro avg       0.89      0.89      0.89        45\n",
      "      macro avg       0.89      0.88      0.88        45\n",
      "   weighted avg       0.90      0.89      0.89        45\n",
      "\n"
     ]
    }
   ],
   "source": [
    "print(metrics.classification_report(Y_test, pred_randomforest))"
   ]
  },
  {
   "cell_type": "code",
   "execution_count": 103,
   "metadata": {},
   "outputs": [
    {
     "name": "stdout",
     "output_type": "stream",
     "text": [
      "0.6666666666666666\n"
     ]
    }
   ],
   "source": [
    "accuracy_predRandomF = metrics.accuracy_score(Y_test, pred_sgdclassifier)\n",
    "print(accuracy_predRandomF)"
   ]
  },
  {
   "cell_type": "markdown",
   "metadata": {},
   "source": [
    "#### GradientBoostingClassifier"
   ]
  },
  {
   "cell_type": "code",
   "execution_count": 104,
   "metadata": {},
   "outputs": [
    {
     "name": "stdout",
     "output_type": "stream",
     "text": [
      "                 precision    recall  f1-score   support\n",
      "\n",
      "    Iris-setosa       1.00      1.00      1.00        17\n",
      "Iris-versicolor       0.78      0.93      0.85        15\n",
      " Iris-virginica       0.90      0.69      0.78        13\n",
      "\n",
      "      micro avg       0.89      0.89      0.89        45\n",
      "      macro avg       0.89      0.88      0.88        45\n",
      "   weighted avg       0.90      0.89      0.89        45\n",
      "\n"
     ]
    }
   ],
   "source": [
    "print(metrics.classification_report(Y_test, pred_gradientboosting))"
   ]
  },
  {
   "cell_type": "code",
   "execution_count": 105,
   "metadata": {},
   "outputs": [
    {
     "name": "stdout",
     "output_type": "stream",
     "text": [
      "0.8888888888888888\n"
     ]
    }
   ],
   "source": [
    "accuracy_predGradientB = metrics.accuracy_score(Y_test, pred_gradientboosting)\n",
    "print(accuracy_predGradientB)"
   ]
  },
  {
   "cell_type": "markdown",
   "metadata": {},
   "source": [
    "### Comparing the Results"
   ]
  },
  {
   "cell_type": "code",
   "execution_count": 106,
   "metadata": {},
   "outputs": [
    {
     "name": "stdout",
     "output_type": "stream",
     "text": [
      "Decision Tree      : 0.8666666666666667\n",
      "Support Vector C   : 0.9777777777777777\n",
      "KneighborsC        : 0.9333333333333333\n",
      "Logistic Regression: 0.9555555555555556\n",
      "GaussianNB         : 0.9111111111111111\n",
      "SGDClassifier      : 0.6666666666666666\n",
      "Random Forest C    : 0.6666666666666666\n",
      "Gradient Boosting C: 0.8888888888888888\n"
     ]
    }
   ],
   "source": [
    "class_names = ['Decision Tree      ','Support Vector C   ','KneighborsC        ',\n",
    "               'Logistic Regression','GaussianNB         ','SGDClassifier      ',\n",
    "               'Random Forest C    ','Gradient Boosting C']\n",
    "class_names_graphic = ['DTC','SVC','KNN', 'LR','NB','SGD', 'RF','GB']\n",
    "class_ = [accuracy_predDec, accuracy_predSvc, accuracy_predKnn, accuracy_predLR, accuracy_predNB,\n",
    "          accuracy_predSGDC, accuracy_predRandomF, accuracy_predGradientB]\n",
    "\n",
    "for i in range(0,len(class_names)):\n",
    "    print(class_names[i] + ': ' + str(class_[i]))"
   ]
  },
  {
   "cell_type": "code",
   "execution_count": 107,
   "metadata": {},
   "outputs": [
    {
     "data": {
      "image/png": "[encoded data removed]",
      "text/plain": [
       "<Figure size 432x288 with 1 Axes>"
      ]
     },
     "metadata": {
      "needs_background": "light"
     },
     "output_type": "display_data"
    }
   ],
   "source": [
    "plt.grid()\n",
    "plt.bar(range(len(class_names)), class_)\n",
    "plt.xticks(range(len(class_names)), class_names_graphic);"
   ]
  },
  {
   "cell_type": "code",
   "execution_count": 108,
   "metadata": {},
   "outputs": [
    {
     "name": "stderr",
     "output_type": "stream",
     "text": [
      "C:\\Users\\Jonas Lopes\\Anaconda3\\lib\\site-packages\\sklearn\\svm\\base.py:196: FutureWarning: The default value of gamma will change from 'auto' to 'scale' in version 0.22 to account better for unscaled features. Set gamma explicitly to 'auto' or 'scale' to avoid this warning.\n",
      "  \"avoid this warning.\", FutureWarning)\n"
     ]
    },
    {
     "data": {
      "text/plain": [
       "SVC(C=1.0, cache_size=200, class_weight=None, coef0=0.0,\n",
       "  decision_function_shape='ovr', degree=3, gamma='auto_deprecated',\n",
       "  kernel='rbf', max_iter=-1, probability=False, random_state=None,\n",
       "  shrinking=True, tol=0.001, verbose=False)"
      ]
     },
     "execution_count": 108,
     "metadata": {},
     "output_type": "execute_result"
    }
   ],
   "source": [
    "final_model = svm.SVC()\n",
    "final_model.fit(X,Y)"
   ]
  },
  {
   "cell_type": "markdown",
   "metadata": {},
   "source": [
    "### WIth this, we can conclude that model with more accuracy was SVC - Support Vector Classifier with aproximately 0.9777"
   ]
  }
 ],
 "metadata": {
  "kernelspec": {
   "display_name": "Python 3",
   "language": "python",
   "name": "python3"
  },
  "language_info": {
   "codemirror_mode": {
    "name": "ipython",
    "version": 3
   },
   "file_extension": ".py",
   "mimetype": "text/x-python",
   "name": "python",
   "nbconvert_exporter": "python",
   "pygments_lexer": "ipython3",
   "version": "3.7.1"
  }
 },
 "nbformat": 4,
 "nbformat_minor": 2
}
